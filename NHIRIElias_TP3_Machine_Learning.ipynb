{
 "cells": [
  {
   "cell_type": "markdown",
   "metadata": {},
   "source": [
    "# NHIRI Elias - TP 3 Machine Learning"
   ]
  },
  {
   "cell_type": "code",
   "execution_count": 4,
   "metadata": {
    "collapsed": false
   },
   "outputs": [
    {
     "name": "stderr",
     "output_type": "stream",
     "text": [
      "[nltk_data] Error loading stopwords: <urlopen error [Errno 8] nodename\n",
      "[nltk_data]     nor servname provided, or not known>\n"
     ]
    }
   ],
   "source": [
    "import warnings\n",
    "warnings.filterwarnings(\"ignore\") \n",
    "\n",
    "import numpy as np\n",
    "import pandas as pd\n",
    "\n",
    "import nltk    #Natural language processing tool-kit\n",
    "nltk.download('stopwords')\n",
    "  \n",
    "from nltk.corpus import stopwords                   #Stopwords corpus\n",
    "\n",
    "from keras.datasets import imdb\n",
    "import matplotlib.pyplot as plt\n",
    "%matplotlib inline\n",
    "import seaborn as sns\n",
    "\n",
    "from sklearn.feature_extraction.text import CountVectorizer\n",
    "from sklearn.feature_extraction.text import TfidfVectorizer, TfidfTransformer\n",
    "from sklearn.neighbors import KNeighborsClassifier\n",
    "from sklearn.naive_bayes import MultinomialNB, GaussianNB\n",
    "from sklearn.linear_model import SGDClassifier\n",
    "from sklearn.metrics import accuracy_score"
   ]
  },
  {
   "cell_type": "markdown",
   "metadata": {},
   "source": [
    "Dans ce TP nous aborderons une partie du machine learning appellée sentimental analysis, on s'intéresse à des commentaires publiés dans des articles, ce sont nos features. À chacun est associé un label de type logistique 0 ou 1 qui représente si le commentaire donné est de manière respective négatif ou positif. L'objectif du sentimental analysis est de \"détecter\" le thème d'un corpus de phrases pour en dégager un sens mais aussi d'entrainer nos algorithmes pour faire de la prédiction sur un corpus de texte et en dégager de manière globale une idée de si on en parle positivement ou négativement."
   ]
  },
  {
   "cell_type": "markdown",
   "metadata": {},
   "source": [
    "### Import des données"
   ]
  },
  {
   "cell_type": "code",
   "execution_count": 5,
   "metadata": {
    "collapsed": false
   },
   "outputs": [],
   "source": [
    "(X_train, y_train), (X_test, y_test) = imdb.load_data()"
   ]
  },
  {
   "cell_type": "markdown",
   "metadata": {},
   "source": [
    "On affiche les tailles des tableaux contenants les phrases"
   ]
  },
  {
   "cell_type": "code",
   "execution_count": 6,
   "metadata": {
    "collapsed": false
   },
   "outputs": [
    {
     "name": "stdout",
     "output_type": "stream",
     "text": [
      "(25000,) (25000,)\n",
      "(25000,) (25000,)\n"
     ]
    }
   ],
   "source": [
    "print(X_train.shape,y_train.shape)\n",
    "print(X_test.shape,y_test.shape)"
   ]
  },
  {
   "cell_type": "code",
   "execution_count": 7,
   "metadata": {
    "collapsed": false
   },
   "outputs": [
    {
     "data": {
      "text/plain": [
       "array([0, 1])"
      ]
     },
     "execution_count": 7,
     "metadata": {},
     "output_type": "execute_result"
    }
   ],
   "source": [
    "np.unique(y_train)"
   ]
  },
  {
   "cell_type": "markdown",
   "metadata": {},
   "source": [
    "À chaque commentaire nous attribuons deux label possibles, nous sommes donc face à un problème de type logistique, affichons un Data Frame de nos phrases sous forme de chiffres."
   ]
  },
  {
   "cell_type": "code",
   "execution_count": 8,
   "metadata": {
    "collapsed": false
   },
   "outputs": [
    {
     "data": {
      "text/html": [
       "<div>\n",
       "<table border=\"1\" class=\"dataframe\">\n",
       "  <thead>\n",
       "    <tr style=\"text-align: right;\">\n",
       "      <th></th>\n",
       "      <th>sentence</th>\n",
       "      <th>label</th>\n",
       "    </tr>\n",
       "  </thead>\n",
       "  <tbody>\n",
       "    <tr>\n",
       "      <th>0</th>\n",
       "      <td>[1, 14, 22, 16, 43, 530, 973, 1622, 1385, 65, ...</td>\n",
       "      <td>1</td>\n",
       "    </tr>\n",
       "    <tr>\n",
       "      <th>1</th>\n",
       "      <td>[1, 194, 1153, 194, 8255, 78, 228, 5, 6, 1463,...</td>\n",
       "      <td>0</td>\n",
       "    </tr>\n",
       "    <tr>\n",
       "      <th>2</th>\n",
       "      <td>[1, 14, 47, 8, 30, 31, 7, 4, 249, 108, 7, 4, 5...</td>\n",
       "      <td>0</td>\n",
       "    </tr>\n",
       "    <tr>\n",
       "      <th>3</th>\n",
       "      <td>[1, 4, 18609, 16085, 33, 2804, 4, 2040, 432, 1...</td>\n",
       "      <td>1</td>\n",
       "    </tr>\n",
       "    <tr>\n",
       "      <th>4</th>\n",
       "      <td>[1, 249, 1323, 7, 61, 113, 10, 10, 13, 1637, 1...</td>\n",
       "      <td>0</td>\n",
       "    </tr>\n",
       "    <tr>\n",
       "      <th>5</th>\n",
       "      <td>[1, 778, 128, 74, 12, 630, 163, 15, 4, 1766, 7...</td>\n",
       "      <td>0</td>\n",
       "    </tr>\n",
       "    <tr>\n",
       "      <th>6</th>\n",
       "      <td>[1, 6740, 365, 1234, 5, 1156, 354, 11, 14, 532...</td>\n",
       "      <td>1</td>\n",
       "    </tr>\n",
       "    <tr>\n",
       "      <th>7</th>\n",
       "      <td>[1, 4, 14906, 716, 4, 65, 7, 4, 689, 4367, 630...</td>\n",
       "      <td>0</td>\n",
       "    </tr>\n",
       "    <tr>\n",
       "      <th>8</th>\n",
       "      <td>[1, 43, 188, 46, 5, 566, 264, 51, 6, 530, 664,...</td>\n",
       "      <td>1</td>\n",
       "    </tr>\n",
       "    <tr>\n",
       "      <th>9</th>\n",
       "      <td>[1, 14, 20, 47, 111, 439, 3445, 19, 12, 15, 16...</td>\n",
       "      <td>0</td>\n",
       "    </tr>\n",
       "    <tr>\n",
       "      <th>10</th>\n",
       "      <td>[1, 785, 189, 438, 47, 110, 142, 7, 6, 7475, 1...</td>\n",
       "      <td>1</td>\n",
       "    </tr>\n",
       "    <tr>\n",
       "      <th>11</th>\n",
       "      <td>[1, 54, 13, 1610, 14, 20, 13, 69, 55, 364, 139...</td>\n",
       "      <td>0</td>\n",
       "    </tr>\n",
       "    <tr>\n",
       "      <th>12</th>\n",
       "      <td>[1, 13, 119, 954, 189, 1554, 13, 92, 459, 48, ...</td>\n",
       "      <td>0</td>\n",
       "    </tr>\n",
       "    <tr>\n",
       "      <th>13</th>\n",
       "      <td>[1, 259, 37, 100, 169, 1653, 1107, 11, 14, 418...</td>\n",
       "      <td>0</td>\n",
       "    </tr>\n",
       "    <tr>\n",
       "      <th>14</th>\n",
       "      <td>[1, 503, 20, 33, 118, 481, 302, 26, 184, 52, 8...</td>\n",
       "      <td>0</td>\n",
       "    </tr>\n",
       "    <tr>\n",
       "      <th>15</th>\n",
       "      <td>[1, 6, 964, 437, 7, 58, 43, 1402, 11, 6, 171, ...</td>\n",
       "      <td>0</td>\n",
       "    </tr>\n",
       "    <tr>\n",
       "      <th>16</th>\n",
       "      <td>[1, 7092, 1662, 11, 4, 1749, 9, 4, 2165, 4, 74...</td>\n",
       "      <td>1</td>\n",
       "    </tr>\n",
       "    <tr>\n",
       "      <th>17</th>\n",
       "      <td>[1, 33, 4, 5673, 7, 4, 61433, 194, 33815, 3089...</td>\n",
       "      <td>1</td>\n",
       "    </tr>\n",
       "    <tr>\n",
       "      <th>18</th>\n",
       "      <td>[1, 13, 28, 64, 69, 4, 8742, 7, 319, 14, 20, 2...</td>\n",
       "      <td>0</td>\n",
       "    </tr>\n",
       "    <tr>\n",
       "      <th>19</th>\n",
       "      <td>[1, 3432, 26, 9, 6, 1220, 731, 939, 44, 6, 255...</td>\n",
       "      <td>1</td>\n",
       "    </tr>\n",
       "    <tr>\n",
       "      <th>20</th>\n",
       "      <td>[1, 617, 11, 3875, 17, 72274, 14, 966, 78, 20,...</td>\n",
       "      <td>0</td>\n",
       "    </tr>\n",
       "    <tr>\n",
       "      <th>21</th>\n",
       "      <td>[1, 466, 49, 2036, 204, 2442, 40, 4, 6724, 732...</td>\n",
       "      <td>0</td>\n",
       "    </tr>\n",
       "    <tr>\n",
       "      <th>22</th>\n",
       "      <td>[1, 13, 784, 886, 857, 15, 135, 142, 40, 23826...</td>\n",
       "      <td>1</td>\n",
       "    </tr>\n",
       "    <tr>\n",
       "      <th>23</th>\n",
       "      <td>[1, 4, 712, 19, 17268, 50361, 19984, 963, 1627...</td>\n",
       "      <td>0</td>\n",
       "    </tr>\n",
       "    <tr>\n",
       "      <th>24</th>\n",
       "      <td>[1, 4, 204, 7610, 20, 16, 93, 11, 9075, 19, 16...</td>\n",
       "      <td>1</td>\n",
       "    </tr>\n",
       "    <tr>\n",
       "      <th>25</th>\n",
       "      <td>[1, 14, 9, 6, 55, 641, 2854, 212, 44, 6, 389, ...</td>\n",
       "      <td>1</td>\n",
       "    </tr>\n",
       "    <tr>\n",
       "      <th>26</th>\n",
       "      <td>[1, 4, 288, 310, 3202, 7, 241, 672, 4, 41852, ...</td>\n",
       "      <td>0</td>\n",
       "    </tr>\n",
       "    <tr>\n",
       "      <th>27</th>\n",
       "      <td>[1, 75, 69, 8, 140, 8, 35, 17856, 38, 75, 679,...</td>\n",
       "      <td>0</td>\n",
       "    </tr>\n",
       "    <tr>\n",
       "      <th>28</th>\n",
       "      <td>[1, 4679, 2784, 1482, 11, 450, 7, 134, 364, 35...</td>\n",
       "      <td>1</td>\n",
       "    </tr>\n",
       "    <tr>\n",
       "      <th>29</th>\n",
       "      <td>[1, 13, 28, 332, 4, 274, 6, 378, 7, 211, 5, 14...</td>\n",
       "      <td>0</td>\n",
       "    </tr>\n",
       "    <tr>\n",
       "      <th>...</th>\n",
       "      <td>...</td>\n",
       "      <td>...</td>\n",
       "    </tr>\n",
       "    <tr>\n",
       "      <th>24970</th>\n",
       "      <td>[1, 48562, 218, 6, 686, 7077, 20, 474, 273, 23...</td>\n",
       "      <td>1</td>\n",
       "    </tr>\n",
       "    <tr>\n",
       "      <th>24971</th>\n",
       "      <td>[1, 145, 11, 4, 251, 48, 5103, 3770, 69, 69, 4...</td>\n",
       "      <td>1</td>\n",
       "    </tr>\n",
       "    <tr>\n",
       "      <th>24972</th>\n",
       "      <td>[1, 14, 16, 43, 6, 394, 20, 12, 1487, 72, 8, 1...</td>\n",
       "      <td>0</td>\n",
       "    </tr>\n",
       "    <tr>\n",
       "      <th>24973</th>\n",
       "      <td>[1, 13, 510, 14, 20, 774, 110, 1798, 5178, 11,...</td>\n",
       "      <td>1</td>\n",
       "    </tr>\n",
       "    <tr>\n",
       "      <th>24974</th>\n",
       "      <td>[1, 13, 219, 14, 20, 11, 4, 86, 378, 7, 2485, ...</td>\n",
       "      <td>1</td>\n",
       "    </tr>\n",
       "    <tr>\n",
       "      <th>24975</th>\n",
       "      <td>[1, 608, 45, 55, 1281, 15, 13, 3824, 142, 13, ...</td>\n",
       "      <td>0</td>\n",
       "    </tr>\n",
       "    <tr>\n",
       "      <th>24976</th>\n",
       "      <td>[1, 11, 32, 4, 795, 12118, 42, 18057, 18747, 2...</td>\n",
       "      <td>1</td>\n",
       "    </tr>\n",
       "    <tr>\n",
       "      <th>24977</th>\n",
       "      <td>[1, 714, 4, 833, 364, 352, 189, 22, 7, 32, 58,...</td>\n",
       "      <td>1</td>\n",
       "    </tr>\n",
       "    <tr>\n",
       "      <th>24978</th>\n",
       "      <td>[1, 14, 20, 996, 8, 1464, 233, 162, 8, 6, 512,...</td>\n",
       "      <td>0</td>\n",
       "    </tr>\n",
       "    <tr>\n",
       "      <th>24979</th>\n",
       "      <td>[1, 14, 1072, 9, 346, 23, 114, 21, 9, 6, 2009,...</td>\n",
       "      <td>1</td>\n",
       "    </tr>\n",
       "    <tr>\n",
       "      <th>24980</th>\n",
       "      <td>[1, 17, 409, 28, 3212, 14, 144, 28, 77, 35, 32...</td>\n",
       "      <td>0</td>\n",
       "    </tr>\n",
       "    <tr>\n",
       "      <th>24981</th>\n",
       "      <td>[1, 48, 25, 774, 2626, 46, 51, 9, 170, 8, 593,...</td>\n",
       "      <td>0</td>\n",
       "    </tr>\n",
       "    <tr>\n",
       "      <th>24982</th>\n",
       "      <td>[1, 4, 636, 457, 234, 520, 72, 440, 95, 8942, ...</td>\n",
       "      <td>0</td>\n",
       "    </tr>\n",
       "    <tr>\n",
       "      <th>24983</th>\n",
       "      <td>[1, 2653, 7410, 280, 1852, 89, 29, 1075, 141, ...</td>\n",
       "      <td>1</td>\n",
       "    </tr>\n",
       "    <tr>\n",
       "      <th>24984</th>\n",
       "      <td>[1, 48, 25, 181, 8, 67, 6, 3000, 4717, 6620, 2...</td>\n",
       "      <td>0</td>\n",
       "    </tr>\n",
       "    <tr>\n",
       "      <th>24985</th>\n",
       "      <td>[1, 13, 69, 57, 326, 51, 4, 22, 9, 44, 159, 13...</td>\n",
       "      <td>0</td>\n",
       "    </tr>\n",
       "    <tr>\n",
       "      <th>24986</th>\n",
       "      <td>[1, 13, 258, 14, 22, 8, 30, 4, 644, 785, 3688,...</td>\n",
       "      <td>1</td>\n",
       "    </tr>\n",
       "    <tr>\n",
       "      <th>24987</th>\n",
       "      <td>[1, 13, 119, 32, 2110, 7, 108, 262, 189, 15, 1...</td>\n",
       "      <td>0</td>\n",
       "    </tr>\n",
       "    <tr>\n",
       "      <th>24988</th>\n",
       "      <td>[1, 4, 132, 11, 4, 1884, 9, 6, 2272, 5, 728, 5...</td>\n",
       "      <td>1</td>\n",
       "    </tr>\n",
       "    <tr>\n",
       "      <th>24989</th>\n",
       "      <td>[1, 13, 219, 1837, 3064, 54, 13, 16, 55, 185, ...</td>\n",
       "      <td>1</td>\n",
       "    </tr>\n",
       "    <tr>\n",
       "      <th>24990</th>\n",
       "      <td>[1, 45, 327, 8, 67, 6, 22, 19, 147, 84, 19, 12...</td>\n",
       "      <td>1</td>\n",
       "    </tr>\n",
       "    <tr>\n",
       "      <th>24991</th>\n",
       "      <td>[1, 65, 7, 3957, 11, 4, 4609, 590, 14, 22, 9, ...</td>\n",
       "      <td>1</td>\n",
       "    </tr>\n",
       "    <tr>\n",
       "      <th>24992</th>\n",
       "      <td>[1, 29475, 52106, 1080, 24192, 6592, 16, 540, ...</td>\n",
       "      <td>0</td>\n",
       "    </tr>\n",
       "    <tr>\n",
       "      <th>24993</th>\n",
       "      <td>[1, 14, 20, 9, 118, 2209, 42, 1661, 8, 194, 31...</td>\n",
       "      <td>1</td>\n",
       "    </tr>\n",
       "    <tr>\n",
       "      <th>24994</th>\n",
       "      <td>[1, 175, 280, 11, 6, 137, 1812, 2693, 80, 866,...</td>\n",
       "      <td>1</td>\n",
       "    </tr>\n",
       "    <tr>\n",
       "      <th>24995</th>\n",
       "      <td>[1, 14, 9, 6, 2758, 20, 21, 1517, 7, 2078, 5, ...</td>\n",
       "      <td>1</td>\n",
       "    </tr>\n",
       "    <tr>\n",
       "      <th>24996</th>\n",
       "      <td>[1, 4679, 2784, 299, 6, 1042, 37, 80, 81, 233,...</td>\n",
       "      <td>0</td>\n",
       "    </tr>\n",
       "    <tr>\n",
       "      <th>24997</th>\n",
       "      <td>[1, 11, 6, 230, 245, 6401, 9, 6, 1225, 446, 86...</td>\n",
       "      <td>0</td>\n",
       "    </tr>\n",
       "    <tr>\n",
       "      <th>24998</th>\n",
       "      <td>[1, 1446, 7079, 69, 72, 3305, 13, 610, 930, 8,...</td>\n",
       "      <td>1</td>\n",
       "    </tr>\n",
       "    <tr>\n",
       "      <th>24999</th>\n",
       "      <td>[1, 17, 6, 194, 337, 7, 4, 204, 22, 45, 254, 8...</td>\n",
       "      <td>0</td>\n",
       "    </tr>\n",
       "  </tbody>\n",
       "</table>\n",
       "<p>25000 rows × 2 columns</p>\n",
       "</div>"
      ],
      "text/plain": [
       "                                                sentence  label\n",
       "0      [1, 14, 22, 16, 43, 530, 973, 1622, 1385, 65, ...      1\n",
       "1      [1, 194, 1153, 194, 8255, 78, 228, 5, 6, 1463,...      0\n",
       "2      [1, 14, 47, 8, 30, 31, 7, 4, 249, 108, 7, 4, 5...      0\n",
       "3      [1, 4, 18609, 16085, 33, 2804, 4, 2040, 432, 1...      1\n",
       "4      [1, 249, 1323, 7, 61, 113, 10, 10, 13, 1637, 1...      0\n",
       "5      [1, 778, 128, 74, 12, 630, 163, 15, 4, 1766, 7...      0\n",
       "6      [1, 6740, 365, 1234, 5, 1156, 354, 11, 14, 532...      1\n",
       "7      [1, 4, 14906, 716, 4, 65, 7, 4, 689, 4367, 630...      0\n",
       "8      [1, 43, 188, 46, 5, 566, 264, 51, 6, 530, 664,...      1\n",
       "9      [1, 14, 20, 47, 111, 439, 3445, 19, 12, 15, 16...      0\n",
       "10     [1, 785, 189, 438, 47, 110, 142, 7, 6, 7475, 1...      1\n",
       "11     [1, 54, 13, 1610, 14, 20, 13, 69, 55, 364, 139...      0\n",
       "12     [1, 13, 119, 954, 189, 1554, 13, 92, 459, 48, ...      0\n",
       "13     [1, 259, 37, 100, 169, 1653, 1107, 11, 14, 418...      0\n",
       "14     [1, 503, 20, 33, 118, 481, 302, 26, 184, 52, 8...      0\n",
       "15     [1, 6, 964, 437, 7, 58, 43, 1402, 11, 6, 171, ...      0\n",
       "16     [1, 7092, 1662, 11, 4, 1749, 9, 4, 2165, 4, 74...      1\n",
       "17     [1, 33, 4, 5673, 7, 4, 61433, 194, 33815, 3089...      1\n",
       "18     [1, 13, 28, 64, 69, 4, 8742, 7, 319, 14, 20, 2...      0\n",
       "19     [1, 3432, 26, 9, 6, 1220, 731, 939, 44, 6, 255...      1\n",
       "20     [1, 617, 11, 3875, 17, 72274, 14, 966, 78, 20,...      0\n",
       "21     [1, 466, 49, 2036, 204, 2442, 40, 4, 6724, 732...      0\n",
       "22     [1, 13, 784, 886, 857, 15, 135, 142, 40, 23826...      1\n",
       "23     [1, 4, 712, 19, 17268, 50361, 19984, 963, 1627...      0\n",
       "24     [1, 4, 204, 7610, 20, 16, 93, 11, 9075, 19, 16...      1\n",
       "25     [1, 14, 9, 6, 55, 641, 2854, 212, 44, 6, 389, ...      1\n",
       "26     [1, 4, 288, 310, 3202, 7, 241, 672, 4, 41852, ...      0\n",
       "27     [1, 75, 69, 8, 140, 8, 35, 17856, 38, 75, 679,...      0\n",
       "28     [1, 4679, 2784, 1482, 11, 450, 7, 134, 364, 35...      1\n",
       "29     [1, 13, 28, 332, 4, 274, 6, 378, 7, 211, 5, 14...      0\n",
       "...                                                  ...    ...\n",
       "24970  [1, 48562, 218, 6, 686, 7077, 20, 474, 273, 23...      1\n",
       "24971  [1, 145, 11, 4, 251, 48, 5103, 3770, 69, 69, 4...      1\n",
       "24972  [1, 14, 16, 43, 6, 394, 20, 12, 1487, 72, 8, 1...      0\n",
       "24973  [1, 13, 510, 14, 20, 774, 110, 1798, 5178, 11,...      1\n",
       "24974  [1, 13, 219, 14, 20, 11, 4, 86, 378, 7, 2485, ...      1\n",
       "24975  [1, 608, 45, 55, 1281, 15, 13, 3824, 142, 13, ...      0\n",
       "24976  [1, 11, 32, 4, 795, 12118, 42, 18057, 18747, 2...      1\n",
       "24977  [1, 714, 4, 833, 364, 352, 189, 22, 7, 32, 58,...      1\n",
       "24978  [1, 14, 20, 996, 8, 1464, 233, 162, 8, 6, 512,...      0\n",
       "24979  [1, 14, 1072, 9, 346, 23, 114, 21, 9, 6, 2009,...      1\n",
       "24980  [1, 17, 409, 28, 3212, 14, 144, 28, 77, 35, 32...      0\n",
       "24981  [1, 48, 25, 774, 2626, 46, 51, 9, 170, 8, 593,...      0\n",
       "24982  [1, 4, 636, 457, 234, 520, 72, 440, 95, 8942, ...      0\n",
       "24983  [1, 2653, 7410, 280, 1852, 89, 29, 1075, 141, ...      1\n",
       "24984  [1, 48, 25, 181, 8, 67, 6, 3000, 4717, 6620, 2...      0\n",
       "24985  [1, 13, 69, 57, 326, 51, 4, 22, 9, 44, 159, 13...      0\n",
       "24986  [1, 13, 258, 14, 22, 8, 30, 4, 644, 785, 3688,...      1\n",
       "24987  [1, 13, 119, 32, 2110, 7, 108, 262, 189, 15, 1...      0\n",
       "24988  [1, 4, 132, 11, 4, 1884, 9, 6, 2272, 5, 728, 5...      1\n",
       "24989  [1, 13, 219, 1837, 3064, 54, 13, 16, 55, 185, ...      1\n",
       "24990  [1, 45, 327, 8, 67, 6, 22, 19, 147, 84, 19, 12...      1\n",
       "24991  [1, 65, 7, 3957, 11, 4, 4609, 590, 14, 22, 9, ...      1\n",
       "24992  [1, 29475, 52106, 1080, 24192, 6592, 16, 540, ...      0\n",
       "24993  [1, 14, 20, 9, 118, 2209, 42, 1661, 8, 194, 31...      1\n",
       "24994  [1, 175, 280, 11, 6, 137, 1812, 2693, 80, 866,...      1\n",
       "24995  [1, 14, 9, 6, 2758, 20, 21, 1517, 7, 2078, 5, ...      1\n",
       "24996  [1, 4679, 2784, 299, 6, 1042, 37, 80, 81, 233,...      0\n",
       "24997  [1, 11, 6, 230, 245, 6401, 9, 6, 1225, 446, 86...      0\n",
       "24998  [1, 1446, 7079, 69, 72, 3305, 13, 610, 930, 8,...      1\n",
       "24999  [1, 17, 6, 194, 337, 7, 4, 204, 22, 45, 254, 8...      0\n",
       "\n",
       "[25000 rows x 2 columns]"
      ]
     },
     "execution_count": 8,
     "metadata": {},
     "output_type": "execute_result"
    }
   ],
   "source": [
    "df1 = pd.DataFrame(X_train)\n",
    "df2 = pd.DataFrame(y_train)\n",
    "df = pd.concat([df1, df2],axis=1, join='inner')\n",
    "df.columns=[\"sentence\", \"label\"]\n",
    "df"
   ]
  },
  {
   "cell_type": "markdown",
   "metadata": {},
   "source": [
    "On remarque d'hors et déjà qu'à chaque mot des commentaires du corpus est associé un nombre, il nous sera important de savoir donc passer d'une expression à l'autre (chaîne de caractère - nombre entier) pour pouvoir entrainer nos algorithmes et créer des fonctions plus simplement."
   ]
  },
  {
   "cell_type": "code",
   "execution_count": 9,
   "metadata": {
    "collapsed": false
   },
   "outputs": [
    {
     "data": {
      "text/plain": [
       "<matplotlib.axes._subplots.AxesSubplot at 0x10c4d6630>"
      ]
     },
     "execution_count": 9,
     "metadata": {},
     "output_type": "execute_result"
    },
    {
     "data": {
      "image/png": "[encoded data removed]",
      "text/plain": [
       "<matplotlib.figure.Figure at 0x120d8da20>"
      ]
     },
     "metadata": {},
     "output_type": "display_data"
    }
   ],
   "source": [
    "sns.barplot(np.unique(df['label']),df.groupby('label').count().values[:,0])"
   ]
  },
  {
   "cell_type": "markdown",
   "metadata": {},
   "source": [
    "On a visulisé un équilibre dans notre jeu de donnée, dans la nature on a autant autant de labels positifs que negatifs, nous pouvons donc constituer un modèle sans avoir à réajuster les poids."
   ]
  },
  {
   "cell_type": "markdown",
   "metadata": {},
   "source": [
    "## Méthode Bag of words "
   ]
  },
  {
   "cell_type": "markdown",
   "metadata": {},
   "source": [
    "### Sur le jeu de données"
   ]
  },
  {
   "cell_type": "markdown",
   "metadata": {},
   "source": [
    "Nous choisissons un jeu de données assez conséquent de 1000 phrases, inférieur au jeu de données complet de 25000 phrases car après plusieurs essais le kernel de la machine n'a pas supporté la complexité des calculs sur le TF_IDF ainsi que l'apprentissage supervisé."
   ]
  },
  {
   "cell_type": "code",
   "execution_count": 10,
   "metadata": {
    "collapsed": false
   },
   "outputs": [
    {
     "data": {
      "text/plain": [
       "0      [1, 14, 22, 16, 43, 530, 973, 1622, 1385, 65, ...\n",
       "1      [1, 194, 1153, 194, 8255, 78, 228, 5, 6, 1463,...\n",
       "2      [1, 14, 47, 8, 30, 31, 7, 4, 249, 108, 7, 4, 5...\n",
       "3      [1, 4, 18609, 16085, 33, 2804, 4, 2040, 432, 1...\n",
       "4      [1, 249, 1323, 7, 61, 113, 10, 10, 13, 1637, 1...\n",
       "5      [1, 778, 128, 74, 12, 630, 163, 15, 4, 1766, 7...\n",
       "6      [1, 6740, 365, 1234, 5, 1156, 354, 11, 14, 532...\n",
       "7      [1, 4, 14906, 716, 4, 65, 7, 4, 689, 4367, 630...\n",
       "8      [1, 43, 188, 46, 5, 566, 264, 51, 6, 530, 664,...\n",
       "9      [1, 14, 20, 47, 111, 439, 3445, 19, 12, 15, 16...\n",
       "10     [1, 785, 189, 438, 47, 110, 142, 7, 6, 7475, 1...\n",
       "11     [1, 54, 13, 1610, 14, 20, 13, 69, 55, 364, 139...\n",
       "12     [1, 13, 119, 954, 189, 1554, 13, 92, 459, 48, ...\n",
       "13     [1, 259, 37, 100, 169, 1653, 1107, 11, 14, 418...\n",
       "14     [1, 503, 20, 33, 118, 481, 302, 26, 184, 52, 8...\n",
       "15     [1, 6, 964, 437, 7, 58, 43, 1402, 11, 6, 171, ...\n",
       "16     [1, 7092, 1662, 11, 4, 1749, 9, 4, 2165, 4, 74...\n",
       "17     [1, 33, 4, 5673, 7, 4, 61433, 194, 33815, 3089...\n",
       "18     [1, 13, 28, 64, 69, 4, 8742, 7, 319, 14, 20, 2...\n",
       "19     [1, 3432, 26, 9, 6, 1220, 731, 939, 44, 6, 255...\n",
       "20     [1, 617, 11, 3875, 17, 72274, 14, 966, 78, 20,...\n",
       "21     [1, 466, 49, 2036, 204, 2442, 40, 4, 6724, 732...\n",
       "22     [1, 13, 784, 886, 857, 15, 135, 142, 40, 23826...\n",
       "23     [1, 4, 712, 19, 17268, 50361, 19984, 963, 1627...\n",
       "24     [1, 4, 204, 7610, 20, 16, 93, 11, 9075, 19, 16...\n",
       "25     [1, 14, 9, 6, 55, 641, 2854, 212, 44, 6, 389, ...\n",
       "26     [1, 4, 288, 310, 3202, 7, 241, 672, 4, 41852, ...\n",
       "27     [1, 75, 69, 8, 140, 8, 35, 17856, 38, 75, 679,...\n",
       "28     [1, 4679, 2784, 1482, 11, 450, 7, 134, 364, 35...\n",
       "29     [1, 13, 28, 332, 4, 274, 6, 378, 7, 211, 5, 14...\n",
       "                             ...                        \n",
       "970    [1, 363, 127, 12, 174, 775, 7, 278, 57, 4858, ...\n",
       "971    [1, 13, 447, 21867, 11, 201, 1359, 27, 676, 9,...\n",
       "972    [1, 1028, 10, 10, 146, 252, 145, 54, 14, 16, 6...\n",
       "973    [1, 60, 151, 12, 47, 31, 7, 4, 1273, 1060, 186...\n",
       "974    [1, 8069, 700, 24695, 44, 6, 40228, 50090, 19,...\n",
       "975    [1, 12, 186, 17, 48, 11, 1067, 1219, 25, 28, 1...\n",
       "976    [1, 6, 55, 491, 5, 2455, 74011, 7, 4, 18802, 5...\n",
       "977    [1, 14, 31, 27906, 145, 8, 4, 504, 7, 4, 11809...\n",
       "978    [1, 4, 229, 18, 14, 20, 16, 242, 258, 11, 6, 1...\n",
       "979    [1, 2378, 8, 16420, 9, 6, 176, 7, 183, 21, 12,...\n",
       "980    [1, 73, 637, 30, 1202, 12, 9, 24, 618, 6, 7779...\n",
       "981    [1, 7665, 7, 6, 2520, 128, 108, 572, 2156, 117...\n",
       "982    [1, 13, 258, 14, 20, 66, 163, 88, 25, 28, 6, 6...\n",
       "983    [1, 6, 283, 7802, 298, 65, 44, 2369, 37, 26, 9...\n",
       "984    [1, 13, 426, 264, 12, 54, 13, 276, 14, 20, 11,...\n",
       "985    [1, 349, 7, 2898, 944, 4195, 7203, 1792, 11, 5...\n",
       "986    [1, 13, 66, 104, 15, 14, 20, 9, 87, 1276, 21, ...\n",
       "987    [1, 13, 92, 377, 319, 160, 588, 736, 20, 17, 7...\n",
       "988    [1, 57, 251, 4097, 209, 6, 162, 626, 1222, 112...\n",
       "989    [1, 6, 275, 168, 33, 189, 4, 19453, 3855, 200,...\n",
       "990    [1, 4, 313, 7, 4, 4123, 9, 179, 373, 13, 412, ...\n",
       "991    [1, 608, 133, 9, 61, 965, 1029, 7, 350, 44793,...\n",
       "992    [1, 54, 13, 135, 1042, 37, 25, 238, 13433, 56,...\n",
       "993    [1, 31, 7, 148, 2239, 1428, 56, 375, 8, 933, 3...\n",
       "994    [1, 14, 20, 16, 4, 53029, 6882, 20, 93, 246, 1...\n",
       "995    [1, 13, 104, 14, 131, 9, 4, 118, 2499, 50, 26,...\n",
       "996    [1, 13, 16, 9794, 153, 154, 54, 13, 219, 14, 2...\n",
       "997    [1, 18, 4, 1853, 13, 244, 24, 21908, 19, 4, 36...\n",
       "998    [1, 4, 1165, 1279, 503, 20, 524, 47, 160, 227,...\n",
       "999    [1, 78497, 47, 1678, 72, 19, 61, 205, 15921, 5...\n",
       "Name: sentence, dtype: object"
      ]
     },
     "execution_count": 10,
     "metadata": {},
     "output_type": "execute_result"
    }
   ],
   "source": [
    "limit = 1000\n",
    "X= df['sentence']\n",
    "X_sub= df['sentence'][0:limit]\n",
    "X_sub"
   ]
  },
  {
   "cell_type": "markdown",
   "metadata": {},
   "source": [
    "On crée un dictionnaire affichant pour chaque mot du corpus son nombre associé, puis on compte le nombre d'apparition des mots du dictionnaire dans chaque texte (critique)."
   ]
  },
  {
   "cell_type": "code",
   "execution_count": 11,
   "metadata": {
    "collapsed": false
   },
   "outputs": [
    {
     "data": {
      "text/plain": [
       "{'fawn': 34701,\n",
       " 'tsukino': 52006,\n",
       " 'nunnery': 52007,\n",
       " 'sonja': 16816,\n",
       " 'vani': 63951,\n",
       " 'woods': 1408,\n",
       " 'spiders': 16115,\n",
       " 'hanging': 2345,\n",
       " 'woody': 2289,\n",
       " 'trawling': 52008,\n",
       " \"hold's\": 52009,\n",
       " 'comically': 11307,\n",
       " 'localized': 40830,\n",
       " 'disobeying': 30568,\n",
       " \"'royale\": 52010,\n",
       " \"harpo's\": 40831,\n",
       " 'canet': 52011,\n",
       " 'aileen': 19313,\n",
       " 'acurately': 52012,\n",
       " \"diplomat's\": 52013,\n",
       " 'rickman': 25242,\n",
       " 'arranged': 6746,\n",
       " 'rumbustious': 52014,\n",
       " 'familiarness': 52015,\n",
       " \"spider'\": 52016,\n",
       " 'hahahah': 68804,\n",
       " \"wood'\": 52017,\n",
       " 'transvestism': 40833,\n",
       " \"hangin'\": 34702,\n",
       " 'bringing': 2338,\n",
       " 'seamier': 40834,\n",
       " 'wooded': 34703,\n",
       " 'bravora': 52018,\n",
       " 'grueling': 16817,\n",
       " 'wooden': 1636,\n",
       " 'wednesday': 16818,\n",
       " \"'prix\": 52019,\n",
       " 'altagracia': 34704,\n",
       " 'circuitry': 52020,\n",
       " 'crotch': 11585,\n",
       " 'busybody': 57766,\n",
       " \"tart'n'tangy\": 52021,\n",
       " 'burgade': 14129,\n",
       " 'thrace': 52023,\n",
       " \"tom's\": 11038,\n",
       " 'snuggles': 52025,\n",
       " 'francesco': 29114,\n",
       " 'complainers': 52027,\n",
       " 'templarios': 52125,\n",
       " '272': 40835,\n",
       " '273': 52028,\n",
       " 'zaniacs': 52130,\n",
       " '275': 34706,\n",
       " 'consenting': 27631,\n",
       " 'snuggled': 40836,\n",
       " 'inanimate': 15492,\n",
       " 'uality': 52030,\n",
       " 'bronte': 11926,\n",
       " 'errors': 4010,\n",
       " 'dialogs': 3230,\n",
       " \"yomada's\": 52031,\n",
       " \"madman's\": 34707,\n",
       " 'dialoge': 30585,\n",
       " 'usenet': 52033,\n",
       " 'videodrome': 40837,\n",
       " \"kid'\": 26338,\n",
       " 'pawed': 52034,\n",
       " \"'girlfriend'\": 30569,\n",
       " \"'pleasure\": 52035,\n",
       " \"'reloaded'\": 52036,\n",
       " \"kazakos'\": 40839,\n",
       " 'rocque': 52037,\n",
       " 'mailings': 52038,\n",
       " 'brainwashed': 11927,\n",
       " 'mcanally': 16819,\n",
       " \"tom''\": 52039,\n",
       " 'kurupt': 25243,\n",
       " 'affiliated': 21905,\n",
       " 'babaganoosh': 52040,\n",
       " \"noe's\": 40840,\n",
       " 'quart': 40841,\n",
       " 'kids': 359,\n",
       " 'uplifting': 5034,\n",
       " 'controversy': 7093,\n",
       " 'kida': 21906,\n",
       " 'kidd': 23379,\n",
       " \"error'\": 52041,\n",
       " 'neurologist': 52042,\n",
       " 'spotty': 18510,\n",
       " 'cobblers': 30570,\n",
       " 'projection': 9878,\n",
       " 'fastforwarding': 40842,\n",
       " 'sters': 52043,\n",
       " \"eggar's\": 52044,\n",
       " 'etherything': 52045,\n",
       " 'gateshead': 40843,\n",
       " 'airball': 34708,\n",
       " 'unsinkable': 25244,\n",
       " 'stern': 7180,\n",
       " \"cervi's\": 52046,\n",
       " 'dnd': 40844,\n",
       " 'dna': 11586,\n",
       " 'insecurity': 20598,\n",
       " \"'reboot'\": 52047,\n",
       " 'trelkovsky': 11037,\n",
       " 'jaekel': 52048,\n",
       " 'sidebars': 52049,\n",
       " \"sforza's\": 52050,\n",
       " 'distortions': 17633,\n",
       " 'mutinies': 52051,\n",
       " 'sermons': 30602,\n",
       " '7ft': 40846,\n",
       " 'boobage': 52052,\n",
       " \"o'bannon's\": 52053,\n",
       " 'populations': 23380,\n",
       " 'chulak': 52054,\n",
       " 'mesmerize': 27633,\n",
       " 'quinnell': 52055,\n",
       " 'yahoo': 10307,\n",
       " 'meteorologist': 52057,\n",
       " 'beswick': 42577,\n",
       " 'boorman': 15493,\n",
       " 'voicework': 40847,\n",
       " \"ster'\": 52058,\n",
       " 'blustering': 22922,\n",
       " 'hj': 52059,\n",
       " 'intake': 27634,\n",
       " 'morally': 5621,\n",
       " 'jumbling': 40849,\n",
       " 'bowersock': 52060,\n",
       " \"'porky's'\": 52061,\n",
       " 'gershon': 16821,\n",
       " 'ludicrosity': 40850,\n",
       " 'coprophilia': 52062,\n",
       " 'expressively': 40851,\n",
       " \"india's\": 19500,\n",
       " \"post's\": 34710,\n",
       " 'wana': 52063,\n",
       " 'wang': 5283,\n",
       " 'wand': 30571,\n",
       " 'wane': 25245,\n",
       " 'edgeways': 52321,\n",
       " 'titanium': 34711,\n",
       " 'pinta': 40852,\n",
       " 'want': 178,\n",
       " 'pinto': 30572,\n",
       " 'whoopdedoodles': 52065,\n",
       " 'tchaikovsky': 21908,\n",
       " 'travel': 2103,\n",
       " \"'victory'\": 52066,\n",
       " 'copious': 11928,\n",
       " 'gouge': 22433,\n",
       " \"chapters'\": 52067,\n",
       " 'barbra': 6702,\n",
       " 'uselessness': 30573,\n",
       " \"wan'\": 52068,\n",
       " 'assimilated': 27635,\n",
       " 'petiot': 16116,\n",
       " 'most\\x85and': 52069,\n",
       " 'dinosaurs': 3930,\n",
       " 'wrong': 352,\n",
       " 'seda': 52070,\n",
       " 'stollen': 52071,\n",
       " 'sentencing': 34712,\n",
       " 'ouroboros': 40853,\n",
       " 'assimilates': 40854,\n",
       " 'colorfully': 40855,\n",
       " 'glenne': 27636,\n",
       " 'dongen': 52072,\n",
       " 'subplots': 4760,\n",
       " 'kiloton': 52073,\n",
       " 'chandon': 23381,\n",
       " \"effect'\": 34713,\n",
       " 'snugly': 27637,\n",
       " 'kuei': 40856,\n",
       " 'welcomed': 9092,\n",
       " 'dishonor': 30071,\n",
       " 'concurrence': 52075,\n",
       " 'stoicism': 23382,\n",
       " \"guys'\": 14896,\n",
       " \"beroemd'\": 52077,\n",
       " 'butcher': 6703,\n",
       " \"melfi's\": 40857,\n",
       " 'aargh': 30623,\n",
       " 'playhouse': 20599,\n",
       " 'wickedly': 11308,\n",
       " 'fit': 1180,\n",
       " 'labratory': 52078,\n",
       " 'lifeline': 40859,\n",
       " 'screaming': 1927,\n",
       " 'fix': 4287,\n",
       " 'cineliterate': 52079,\n",
       " 'fic': 52080,\n",
       " 'fia': 52081,\n",
       " 'fig': 34714,\n",
       " 'fmvs': 52082,\n",
       " 'fie': 52083,\n",
       " 'reentered': 52084,\n",
       " 'fin': 30574,\n",
       " 'doctresses': 52085,\n",
       " 'fil': 52086,\n",
       " 'zucker': 12606,\n",
       " 'ached': 31931,\n",
       " 'counsil': 52088,\n",
       " 'paterfamilias': 52089,\n",
       " 'songwriter': 13885,\n",
       " 'shivam': 34715,\n",
       " 'hurting': 9654,\n",
       " 'effects': 299,\n",
       " 'slauther': 52090,\n",
       " \"'flame'\": 52091,\n",
       " 'sommerset': 52092,\n",
       " 'interwhined': 52093,\n",
       " 'whacking': 27638,\n",
       " 'bartok': 52094,\n",
       " 'barton': 8775,\n",
       " 'frewer': 21909,\n",
       " \"fi'\": 52095,\n",
       " 'ingrid': 6192,\n",
       " 'stribor': 30575,\n",
       " 'approporiately': 52096,\n",
       " 'wobblyhand': 52097,\n",
       " 'tantalisingly': 52098,\n",
       " 'ankylosaurus': 52099,\n",
       " 'parasites': 17634,\n",
       " 'childen': 52100,\n",
       " \"jenkins'\": 52101,\n",
       " 'metafiction': 52102,\n",
       " 'golem': 17635,\n",
       " 'indiscretion': 40860,\n",
       " \"reeves'\": 23383,\n",
       " \"inamorata's\": 57781,\n",
       " 'brittannica': 52104,\n",
       " 'adapt': 7916,\n",
       " \"russo's\": 30576,\n",
       " 'guitarists': 48246,\n",
       " 'abbott': 10553,\n",
       " 'abbots': 40861,\n",
       " 'lanisha': 17649,\n",
       " 'magickal': 40863,\n",
       " 'mattter': 52105,\n",
       " \"'willy\": 52106,\n",
       " 'pumpkins': 34716,\n",
       " 'stuntpeople': 52107,\n",
       " 'estimate': 30577,\n",
       " 'ugghhh': 40864,\n",
       " 'gameplay': 11309,\n",
       " \"wern't\": 52108,\n",
       " \"n'sync\": 40865,\n",
       " 'sickeningly': 16117,\n",
       " 'chiara': 40866,\n",
       " 'disturbed': 4011,\n",
       " 'portmanteau': 40867,\n",
       " 'ineffectively': 52109,\n",
       " \"duchonvey's\": 82143,\n",
       " \"nasty'\": 37519,\n",
       " 'purpose': 1285,\n",
       " 'lazers': 52112,\n",
       " 'lightened': 28105,\n",
       " 'kaliganj': 52113,\n",
       " 'popularism': 52114,\n",
       " \"damme's\": 18511,\n",
       " 'stylistics': 30578,\n",
       " 'mindgaming': 52115,\n",
       " 'spoilerish': 46449,\n",
       " \"'corny'\": 52117,\n",
       " 'boerner': 34718,\n",
       " 'olds': 6792,\n",
       " 'bakelite': 52118,\n",
       " 'renovated': 27639,\n",
       " 'forrester': 27640,\n",
       " \"lumiere's\": 52119,\n",
       " 'gaskets': 52024,\n",
       " 'needed': 884,\n",
       " 'smight': 34719,\n",
       " 'master': 1297,\n",
       " \"edie's\": 25905,\n",
       " 'seeber': 40868,\n",
       " 'hiya': 52120,\n",
       " 'fuzziness': 52121,\n",
       " 'genesis': 14897,\n",
       " 'rewards': 12607,\n",
       " 'enthrall': 30579,\n",
       " \"'about\": 40869,\n",
       " \"recollection's\": 52122,\n",
       " 'mutilated': 11039,\n",
       " 'fatherlands': 52123,\n",
       " \"fischer's\": 52124,\n",
       " 'positively': 5399,\n",
       " '270': 34705,\n",
       " 'ahmed': 34720,\n",
       " 'zatoichi': 9836,\n",
       " 'bannister': 13886,\n",
       " 'anniversaries': 52127,\n",
       " \"helm's\": 30580,\n",
       " \"'work'\": 52128,\n",
       " 'exclaimed': 34721,\n",
       " \"'unfunny'\": 52129,\n",
       " '274': 52029,\n",
       " 'feeling': 544,\n",
       " \"wanda's\": 52131,\n",
       " 'dolan': 33266,\n",
       " '278': 52133,\n",
       " 'peacoat': 52134,\n",
       " 'brawny': 40870,\n",
       " 'mishra': 40871,\n",
       " 'worlders': 40872,\n",
       " 'protags': 52135,\n",
       " 'skullcap': 52136,\n",
       " 'dastagir': 57596,\n",
       " 'affairs': 5622,\n",
       " 'wholesome': 7799,\n",
       " 'hymen': 52137,\n",
       " 'paramedics': 25246,\n",
       " 'unpersons': 52138,\n",
       " 'heavyarms': 52139,\n",
       " 'affaire': 52140,\n",
       " 'coulisses': 52141,\n",
       " 'hymer': 40873,\n",
       " 'kremlin': 52142,\n",
       " 'shipments': 30581,\n",
       " 'pixilated': 52143,\n",
       " \"'00s\": 30582,\n",
       " 'diminishing': 18512,\n",
       " 'cinematic': 1357,\n",
       " 'resonates': 14898,\n",
       " 'simplify': 40874,\n",
       " \"nature'\": 40875,\n",
       " 'temptresses': 40876,\n",
       " 'reverence': 16822,\n",
       " 'resonated': 19502,\n",
       " 'dailey': 34722,\n",
       " '2\\x85': 52144,\n",
       " 'treize': 27641,\n",
       " 'majo': 52145,\n",
       " 'kiya': 21910,\n",
       " 'woolnough': 52146,\n",
       " 'thanatos': 39797,\n",
       " 'sandoval': 35731,\n",
       " 'dorama': 40879,\n",
       " \"o'shaughnessy\": 52147,\n",
       " 'tech': 4988,\n",
       " 'fugitives': 32018,\n",
       " 'teck': 30583,\n",
       " \"'e'\": 76125,\n",
       " 'doesn’t': 40881,\n",
       " 'purged': 52149,\n",
       " 'saying': 657,\n",
       " \"martians'\": 41095,\n",
       " 'norliss': 23418,\n",
       " 'dickey': 27642,\n",
       " 'dicker': 52152,\n",
       " \"'sependipity\": 52153,\n",
       " 'padded': 8422,\n",
       " 'ordell': 57792,\n",
       " \"sturges'\": 40882,\n",
       " 'independentcritics': 52154,\n",
       " 'tempted': 5745,\n",
       " \"atkinson's\": 34724,\n",
       " 'hounded': 25247,\n",
       " 'apace': 52155,\n",
       " 'clicked': 15494,\n",
       " \"'humor'\": 30584,\n",
       " \"martino's\": 17177,\n",
       " \"'supporting\": 52156,\n",
       " 'warmongering': 52032,\n",
       " \"zemeckis's\": 34725,\n",
       " 'lube': 21911,\n",
       " 'shocky': 52157,\n",
       " 'plate': 7476,\n",
       " 'plata': 40883,\n",
       " 'sturgess': 40884,\n",
       " \"nerds'\": 40885,\n",
       " 'plato': 20600,\n",
       " 'plath': 34726,\n",
       " 'platt': 40886,\n",
       " 'mcnab': 52159,\n",
       " 'clumsiness': 27643,\n",
       " 'altogether': 3899,\n",
       " 'massacring': 42584,\n",
       " 'bicenntinial': 52160,\n",
       " 'skaal': 40887,\n",
       " 'droning': 14360,\n",
       " 'lds': 8776,\n",
       " 'jaguar': 21912,\n",
       " \"cale's\": 34727,\n",
       " 'nicely': 1777,\n",
       " 'mummy': 4588,\n",
       " \"lot's\": 18513,\n",
       " 'patch': 10086,\n",
       " 'kerkhof': 50202,\n",
       " \"leader's\": 52161,\n",
       " \"'movie\": 27644,\n",
       " 'uncomfirmed': 52162,\n",
       " 'heirloom': 40888,\n",
       " 'wrangle': 47360,\n",
       " 'emotion\\x85': 52163,\n",
       " \"'stargate'\": 52164,\n",
       " 'pinoy': 40889,\n",
       " 'conchatta': 40890,\n",
       " 'broeke': 41128,\n",
       " 'advisedly': 40891,\n",
       " \"barker's\": 17636,\n",
       " 'descours': 52166,\n",
       " 'lots': 772,\n",
       " 'lotr': 9259,\n",
       " 'irs': 9879,\n",
       " 'lott': 52167,\n",
       " 'xvi': 40892,\n",
       " 'irk': 34728,\n",
       " 'irl': 52168,\n",
       " 'ira': 6887,\n",
       " 'belzer': 21913,\n",
       " 'irc': 52169,\n",
       " 'ire': 27645,\n",
       " 'requisites': 40893,\n",
       " 'discipline': 7693,\n",
       " 'lyoko': 52961,\n",
       " 'extend': 11310,\n",
       " 'nature': 873,\n",
       " \"'dickie'\": 52170,\n",
       " 'optimist': 40894,\n",
       " 'lapping': 30586,\n",
       " 'superficial': 3900,\n",
       " 'vestment': 52171,\n",
       " 'extent': 2823,\n",
       " 'tendons': 52172,\n",
       " \"heller's\": 52173,\n",
       " 'quagmires': 52174,\n",
       " 'miyako': 52175,\n",
       " 'moocow': 20601,\n",
       " \"coles'\": 52176,\n",
       " 'lookit': 40895,\n",
       " 'ravenously': 52177,\n",
       " 'levitating': 40896,\n",
       " 'perfunctorily': 52178,\n",
       " 'lookin': 30587,\n",
       " \"lot'\": 40898,\n",
       " 'lookie': 52179,\n",
       " 'fearlessly': 34870,\n",
       " 'libyan': 52181,\n",
       " 'fondles': 40899,\n",
       " 'gopher': 35714,\n",
       " 'wearying': 40901,\n",
       " \"nz's\": 52182,\n",
       " 'minuses': 27646,\n",
       " 'puposelessly': 52183,\n",
       " 'shandling': 52184,\n",
       " 'decapitates': 31268,\n",
       " 'humming': 11929,\n",
       " \"'nother\": 40902,\n",
       " 'smackdown': 21914,\n",
       " 'underdone': 30588,\n",
       " 'frf': 40903,\n",
       " 'triviality': 52185,\n",
       " 'fro': 25248,\n",
       " 'bothers': 8777,\n",
       " \"'kensington\": 52186,\n",
       " 'much': 73,\n",
       " 'muco': 34730,\n",
       " 'wiseguy': 22615,\n",
       " \"richie's\": 27648,\n",
       " 'tonino': 40904,\n",
       " 'unleavened': 52187,\n",
       " 'fry': 11587,\n",
       " \"'tv'\": 40905,\n",
       " 'toning': 40906,\n",
       " 'obese': 14361,\n",
       " 'sensationalized': 30589,\n",
       " 'spiv': 40907,\n",
       " 'spit': 6259,\n",
       " 'arkin': 7364,\n",
       " 'charleton': 21915,\n",
       " 'jeon': 16823,\n",
       " 'boardroom': 21916,\n",
       " 'doubts': 4989,\n",
       " 'spin': 3084,\n",
       " 'hepo': 53083,\n",
       " 'wildcat': 27649,\n",
       " 'venoms': 10584,\n",
       " 'misconstrues': 52191,\n",
       " 'mesmerising': 18514,\n",
       " 'misconstrued': 40908,\n",
       " 'rescinds': 52192,\n",
       " 'prostrate': 52193,\n",
       " 'majid': 40909,\n",
       " 'climbed': 16479,\n",
       " 'canoeing': 34731,\n",
       " 'majin': 52195,\n",
       " 'animie': 57804,\n",
       " 'sylke': 40910,\n",
       " 'conditioned': 14899,\n",
       " 'waddell': 40911,\n",
       " '3\\x85': 52196,\n",
       " 'hyperdrive': 41188,\n",
       " 'conditioner': 34732,\n",
       " 'bricklayer': 53153,\n",
       " 'hong': 2576,\n",
       " 'memoriam': 52198,\n",
       " 'inventively': 30592,\n",
       " \"levant's\": 25249,\n",
       " 'portobello': 20638,\n",
       " 'remand': 52200,\n",
       " 'mummified': 19504,\n",
       " 'honk': 27650,\n",
       " 'spews': 19505,\n",
       " 'visitations': 40912,\n",
       " 'mummifies': 52201,\n",
       " 'cavanaugh': 25250,\n",
       " 'zeon': 23385,\n",
       " \"jungle's\": 40913,\n",
       " 'viertel': 34733,\n",
       " 'frenchmen': 27651,\n",
       " 'torpedoes': 52202,\n",
       " 'schlessinger': 52203,\n",
       " 'torpedoed': 34734,\n",
       " 'blister': 69876,\n",
       " 'cinefest': 52204,\n",
       " 'furlough': 34735,\n",
       " 'mainsequence': 52205,\n",
       " 'mentors': 40914,\n",
       " 'academic': 9094,\n",
       " 'stillness': 20602,\n",
       " 'academia': 40915,\n",
       " 'lonelier': 52206,\n",
       " 'nibby': 52207,\n",
       " \"losers'\": 52208,\n",
       " 'cineastes': 40916,\n",
       " 'corporate': 4449,\n",
       " 'massaging': 40917,\n",
       " 'bellow': 30593,\n",
       " 'absurdities': 19506,\n",
       " 'expetations': 53241,\n",
       " 'nyfiken': 40918,\n",
       " 'mehras': 75638,\n",
       " 'lasse': 52209,\n",
       " 'visability': 52210,\n",
       " 'militarily': 33946,\n",
       " \"elder'\": 52211,\n",
       " 'gainsbourg': 19023,\n",
       " 'hah': 20603,\n",
       " 'hai': 13420,\n",
       " 'haj': 34736,\n",
       " 'hak': 25251,\n",
       " 'hal': 4311,\n",
       " 'ham': 4892,\n",
       " 'duffer': 53259,\n",
       " 'haa': 52213,\n",
       " 'had': 66,\n",
       " 'advancement': 11930,\n",
       " 'hag': 16825,\n",
       " \"hand'\": 25252,\n",
       " 'hay': 13421,\n",
       " 'mcnamara': 20604,\n",
       " \"mozart's\": 52214,\n",
       " 'duffel': 30731,\n",
       " 'haq': 30594,\n",
       " 'har': 13887,\n",
       " 'has': 44,\n",
       " 'hat': 2401,\n",
       " 'hav': 40919,\n",
       " 'haw': 30595,\n",
       " 'figtings': 52215,\n",
       " 'elders': 15495,\n",
       " 'underpanted': 52216,\n",
       " 'pninson': 52217,\n",
       " 'unequivocally': 27652,\n",
       " \"barbara's\": 23673,\n",
       " \"bello'\": 52219,\n",
       " 'indicative': 12997,\n",
       " 'yawnfest': 40920,\n",
       " 'hexploitation': 52220,\n",
       " \"loder's\": 52221,\n",
       " 'sleuthing': 27653,\n",
       " \"justin's\": 32622,\n",
       " \"'ball\": 52222,\n",
       " \"'summer\": 52223,\n",
       " \"'demons'\": 34935,\n",
       " \"mormon's\": 52225,\n",
       " \"laughton's\": 34737,\n",
       " 'debell': 52226,\n",
       " 'shipyard': 39724,\n",
       " 'unabashedly': 30597,\n",
       " 'disks': 40401,\n",
       " 'crowd': 2290,\n",
       " 'crowe': 10087,\n",
       " \"vancouver's\": 56434,\n",
       " 'mosques': 34738,\n",
       " 'crown': 6627,\n",
       " 'culpas': 52227,\n",
       " 'crows': 27654,\n",
       " 'surrell': 53344,\n",
       " 'flowless': 52229,\n",
       " 'sheirk': 52230,\n",
       " \"'three\": 40923,\n",
       " \"peterson'\": 52231,\n",
       " 'ooverall': 52232,\n",
       " 'perchance': 40924,\n",
       " 'bottom': 1321,\n",
       " 'chabert': 53363,\n",
       " 'sneha': 52233,\n",
       " 'inhuman': 13888,\n",
       " 'ichii': 52234,\n",
       " 'ursla': 52235,\n",
       " 'completly': 30598,\n",
       " 'moviedom': 40925,\n",
       " 'raddick': 52236,\n",
       " 'brundage': 51995,\n",
       " 'brigades': 40926,\n",
       " 'starring': 1181,\n",
       " \"'goal'\": 52237,\n",
       " 'caskets': 52238,\n",
       " 'willcock': 52239,\n",
       " \"threesome's\": 52240,\n",
       " \"mosque'\": 52241,\n",
       " \"cover's\": 52242,\n",
       " 'spaceships': 17637,\n",
       " 'anomalous': 40927,\n",
       " 'ptsd': 27655,\n",
       " 'shirdan': 52243,\n",
       " 'obscenity': 21962,\n",
       " 'lemmings': 30599,\n",
       " 'duccio': 30600,\n",
       " \"levene's\": 52244,\n",
       " \"'gorby'\": 52245,\n",
       " \"teenager's\": 25255,\n",
       " 'marshall': 5340,\n",
       " 'honeymoon': 9095,\n",
       " 'shoots': 3231,\n",
       " 'despised': 12258,\n",
       " 'okabasho': 52246,\n",
       " 'fabric': 8289,\n",
       " 'cannavale': 18515,\n",
       " 'raped': 3537,\n",
       " \"tutt's\": 52247,\n",
       " 'grasping': 17638,\n",
       " 'despises': 18516,\n",
       " \"thief's\": 40928,\n",
       " 'rapes': 8926,\n",
       " 'raper': 52248,\n",
       " \"eyre'\": 27656,\n",
       " 'walchek': 52249,\n",
       " \"elmo's\": 23386,\n",
       " 'perfumes': 40929,\n",
       " 'spurting': 21918,\n",
       " \"exposition'\\x85\": 52250,\n",
       " 'denoting': 52251,\n",
       " 'thesaurus': 34740,\n",
       " \"shoot'\": 40930,\n",
       " 'bonejack': 49759,\n",
       " 'simpsonian': 52253,\n",
       " 'hebetude': 30601,\n",
       " \"hallow's\": 34741,\n",
       " 'desperation\\x85': 52254,\n",
       " 'incinerator': 34742,\n",
       " 'congratulations': 10308,\n",
       " 'humbled': 52255,\n",
       " \"else's\": 5924,\n",
       " 'trelkovski': 40845,\n",
       " \"rape'\": 52256,\n",
       " \"'chapters'\": 59386,\n",
       " '1600s': 52257,\n",
       " 'martian': 7253,\n",
       " 'nicest': 25256,\n",
       " 'eyred': 52259,\n",
       " 'passenger': 9457,\n",
       " 'disgrace': 6041,\n",
       " 'moderne': 52260,\n",
       " 'barrymore': 5120,\n",
       " 'yankovich': 52261,\n",
       " 'moderns': 40931,\n",
       " 'studliest': 52262,\n",
       " 'bedsheet': 52263,\n",
       " 'decapitation': 14900,\n",
       " 'slurring': 52264,\n",
       " \"'nunsploitation'\": 52265,\n",
       " \"'character'\": 34743,\n",
       " 'cambodia': 9880,\n",
       " 'rebelious': 52266,\n",
       " 'pasadena': 27657,\n",
       " 'crowne': 40932,\n",
       " \"'bedchamber\": 52267,\n",
       " 'conjectural': 52268,\n",
       " 'appologize': 52269,\n",
       " 'halfassing': 52270,\n",
       " 'paycheque': 57816,\n",
       " 'palms': 20606,\n",
       " \"'islands\": 52271,\n",
       " 'hawked': 40933,\n",
       " 'palme': 21919,\n",
       " 'conservatively': 40934,\n",
       " 'larp': 64007,\n",
       " 'palma': 5558,\n",
       " 'smelling': 21920,\n",
       " 'aragorn': 12998,\n",
       " 'hawker': 52272,\n",
       " 'hawkes': 52273,\n",
       " 'explosions': 3975,\n",
       " 'loren': 8059,\n",
       " \"pyle's\": 52274,\n",
       " 'shootout': 6704,\n",
       " \"mike's\": 18517,\n",
       " \"driscoll's\": 52275,\n",
       " 'cogsworth': 40935,\n",
       " \"britian's\": 52276,\n",
       " 'childs': 34744,\n",
       " \"portrait's\": 52277,\n",
       " 'chain': 3626,\n",
       " 'whoever': 2497,\n",
       " 'puttered': 52278,\n",
       " 'childe': 52279,\n",
       " 'maywether': 52280,\n",
       " 'chair': 3036,\n",
       " \"rance's\": 52281,\n",
       " 'machu': 34745,\n",
       " 'ballet': 4517,\n",
       " 'grapples': 34746,\n",
       " 'summerize': 76152,\n",
       " 'freelance': 30603,\n",
       " \"andrea's\": 52283,\n",
       " '\\x91very': 52284,\n",
       " 'coolidge': 45879,\n",
       " 'mache': 18518,\n",
       " 'balled': 52285,\n",
       " 'grappled': 40937,\n",
       " 'macha': 18519,\n",
       " 'underlining': 21921,\n",
       " 'macho': 5623,\n",
       " 'oversight': 19507,\n",
       " 'machi': 25257,\n",
       " 'verbally': 11311,\n",
       " 'tenacious': 21922,\n",
       " 'windshields': 40938,\n",
       " 'paychecks': 18557,\n",
       " 'jerk': 3396,\n",
       " \"good'\": 11931,\n",
       " 'prancer': 34748,\n",
       " 'prances': 21923,\n",
       " 'olympus': 52286,\n",
       " 'lark': 21924,\n",
       " 'embark': 10785,\n",
       " 'gloomy': 7365,\n",
       " 'jehaan': 52287,\n",
       " 'turaqui': 52288,\n",
       " \"child'\": 20607,\n",
       " 'locked': 2894,\n",
       " 'pranced': 52289,\n",
       " 'exact': 2588,\n",
       " 'unattuned': 52290,\n",
       " 'minute': 783,\n",
       " 'skewed': 16118,\n",
       " 'hodgins': 40940,\n",
       " 'skewer': 34749,\n",
       " 'think\\x85': 52291,\n",
       " 'rosenstein': 38765,\n",
       " 'helmit': 52292,\n",
       " 'wrestlemanias': 34750,\n",
       " 'hindered': 16826,\n",
       " \"martha's\": 30604,\n",
       " 'cheree': 52293,\n",
       " \"pluckin'\": 52294,\n",
       " 'ogles': 40941,\n",
       " 'heavyweight': 11932,\n",
       " 'aada': 82190,\n",
       " 'chopping': 11312,\n",
       " 'strongboy': 61534,\n",
       " 'hegemonic': 41342,\n",
       " 'adorns': 40942,\n",
       " 'xxth': 41346,\n",
       " 'nobuhiro': 34751,\n",
       " 'capitães': 52298,\n",
       " 'kavogianni': 52299,\n",
       " 'antwerp': 13422,\n",
       " 'celebrated': 6538,\n",
       " 'roarke': 52300,\n",
       " 'baggins': 40943,\n",
       " 'cheeseburgers': 31270,\n",
       " 'matras': 52301,\n",
       " \"nineties'\": 52302,\n",
       " \"'craig'\": 52303,\n",
       " 'celebrates': 12999,\n",
       " 'unintentionally': 3383,\n",
       " 'drafted': 14362,\n",
       " 'climby': 52304,\n",
       " '303': 52305,\n",
       " 'oldies': 18520,\n",
       " 'climbs': 9096,\n",
       " 'honour': 9655,\n",
       " 'plucking': 34752,\n",
       " '305': 30074,\n",
       " 'address': 5514,\n",
       " 'menjou': 40944,\n",
       " \"'freak'\": 42592,\n",
       " 'dwindling': 19508,\n",
       " 'benson': 9458,\n",
       " 'white’s': 52307,\n",
       " 'shamelessness': 40945,\n",
       " 'impacted': 21925,\n",
       " 'upatz': 52308,\n",
       " 'cusack': 3840,\n",
       " \"flavia's\": 37567,\n",
       " 'effette': 52309,\n",
       " 'influx': 34753,\n",
       " 'boooooooo': 52310,\n",
       " 'dimitrova': 52311,\n",
       " 'houseman': 13423,\n",
       " 'bigas': 25259,\n",
       " 'boylen': 52312,\n",
       " 'phillipenes': 52313,\n",
       " 'fakery': 40946,\n",
       " \"grandpa's\": 27658,\n",
       " 'darnell': 27659,\n",
       " 'undergone': 19509,\n",
       " 'handbags': 52315,\n",
       " 'perished': 21926,\n",
       " 'pooped': 37778,\n",
       " 'vigour': 27660,\n",
       " 'opposed': 3627,\n",
       " 'etude': 52316,\n",
       " \"caine's\": 11799,\n",
       " 'doozers': 52317,\n",
       " 'photojournals': 34754,\n",
       " 'perishes': 52318,\n",
       " 'constrains': 34755,\n",
       " 'migenes': 40948,\n",
       " 'consoled': 30605,\n",
       " 'alastair': 16827,\n",
       " 'wvs': 52319,\n",
       " 'ooooooh': 52320,\n",
       " 'approving': 34756,\n",
       " 'consoles': 40949,\n",
       " 'disparagement': 52064,\n",
       " 'futureistic': 52322,\n",
       " 'rebounding': 52323,\n",
       " \"'date\": 52324,\n",
       " 'gregoire': 52325,\n",
       " 'rutherford': 21927,\n",
       " 'americanised': 34757,\n",
       " 'novikov': 82196,\n",
       " 'following': 1042,\n",
       " 'munroe': 34758,\n",
       " \"morita'\": 52326,\n",
       " 'christenssen': 52327,\n",
       " 'oatmeal': 23106,\n",
       " 'fossey': 25260,\n",
       " 'livered': 40950,\n",
       " 'listens': 13000,\n",
       " \"'marci\": 76164,\n",
       " \"otis's\": 52330,\n",
       " 'thanking': 23387,\n",
       " 'maude': 16019,\n",
       " 'extensions': 34759,\n",
       " 'ameteurish': 52332,\n",
       " \"commender's\": 52333,\n",
       " 'agricultural': 27661,\n",
       " 'convincingly': 4518,\n",
       " 'fueled': 17639,\n",
       " 'mahattan': 54014,\n",
       " \"paris's\": 40952,\n",
       " 'vulkan': 52336,\n",
       " 'stapes': 52337,\n",
       " 'odysessy': 52338,\n",
       " 'harmon': 12259,\n",
       " 'surfing': 4252,\n",
       " 'halloran': 23494,\n",
       " 'unbelieveably': 49580,\n",
       " \"'offed'\": 52339,\n",
       " 'quadrant': 30607,\n",
       " 'inhabiting': 19510,\n",
       " 'nebbish': 34760,\n",
       " 'forebears': 40953,\n",
       " 'skirmish': 34761,\n",
       " 'ocassionally': 52340,\n",
       " \"'resist\": 52341,\n",
       " 'impactful': 21928,\n",
       " 'spicier': 52342,\n",
       " 'touristy': 40954,\n",
       " \"'football'\": 52343,\n",
       " 'webpage': 40955,\n",
       " 'exurbia': 52345,\n",
       " 'jucier': 52346,\n",
       " 'professors': 14901,\n",
       " 'structuring': 34762,\n",
       " 'jig': 30608,\n",
       " 'overlord': 40956,\n",
       " 'disconnect': 25261,\n",
       " 'sniffle': 82201,\n",
       " 'slimeball': 40957,\n",
       " 'jia': 40958,\n",
       " 'milked': 16828,\n",
       " 'banjoes': 40959,\n",
       " 'jim': 1237,\n",
       " 'workforces': 52348,\n",
       " 'jip': 52349,\n",
       " 'rotweiller': 52350,\n",
       " 'mundaneness': 34763,\n",
       " \"'ninja'\": 52351,\n",
       " \"dead'\": 11040,\n",
       " \"cipriani's\": 40960,\n",
       " 'modestly': 20608,\n",
       " \"professor'\": 52352,\n",
       " 'shacked': 40961,\n",
       " 'bashful': 34764,\n",
       " 'sorter': 23388,\n",
       " 'overpowering': 16120,\n",
       " 'workmanlike': 18521,\n",
       " 'henpecked': 27662,\n",
       " 'sorted': 18522,\n",
       " \"jōb's\": 52354,\n",
       " \"'always\": 52355,\n",
       " \"'baptists\": 34765,\n",
       " 'dreamcatchers': 52356,\n",
       " \"'silence'\": 52357,\n",
       " 'hickory': 21929,\n",
       " 'fun\\x97yet': 52358,\n",
       " 'breakumentary': 52359,\n",
       " 'didn': 15496,\n",
       " 'didi': 52360,\n",
       " 'pealing': 52361,\n",
       " 'dispite': 40962,\n",
       " \"italy's\": 25262,\n",
       " 'instability': 21930,\n",
       " 'quarter': 6539,\n",
       " 'quartet': 12608,\n",
       " 'padmé': 52362,\n",
       " \"'bleedmedry\": 52363,\n",
       " 'pahalniuk': 52364,\n",
       " 'honduras': 52365,\n",
       " 'bursting': 10786,\n",
       " \"pablo's\": 41465,\n",
       " 'irremediably': 52367,\n",
       " 'presages': 40963,\n",
       " 'bowlegged': 57832,\n",
       " 'dalip': 65183,\n",
       " 'entering': 6260,\n",
       " 'newsradio': 76172,\n",
       " 'presaged': 54150,\n",
       " \"giallo's\": 27663,\n",
       " 'bouyant': 40964,\n",
       " 'amerterish': 52368,\n",
       " 'rajni': 18523,\n",
       " 'leeves': 30610,\n",
       " 'macauley': 34767,\n",
       " 'seriously': 612,\n",
       " 'sugercoma': 52369,\n",
       " 'grimstead': 52370,\n",
       " \"'fairy'\": 52371,\n",
       " 'zenda': 30611,\n",
       " \"'twins'\": 52372,\n",
       " 'realisation': 17640,\n",
       " 'highsmith': 27664,\n",
       " 'raunchy': 7817,\n",
       " 'incentives': 40965,\n",
       " 'flatson': 52374,\n",
       " 'snooker': 35097,\n",
       " 'crazies': 16829,\n",
       " 'crazier': 14902,\n",
       " 'grandma': 7094,\n",
       " 'napunsaktha': 52375,\n",
       " 'workmanship': 30612,\n",
       " 'reisner': 52376,\n",
       " \"sanford's\": 61306,\n",
       " '\\x91doña': 52377,\n",
       " 'modest': 6108,\n",
       " \"everything's\": 19153,\n",
       " 'hamer': 40966,\n",
       " \"couldn't'\": 52379,\n",
       " 'quibble': 13001,\n",
       " 'socking': 52380,\n",
       " 'tingler': 21931,\n",
       " 'gutman': 52381,\n",
       " 'lachlan': 40967,\n",
       " 'tableaus': 52382,\n",
       " 'headbanger': 52383,\n",
       " 'spoken': 2847,\n",
       " 'cerebrally': 34768,\n",
       " \"'road\": 23490,\n",
       " 'tableaux': 21932,\n",
       " \"proust's\": 40968,\n",
       " 'periodical': 40969,\n",
       " \"shoveller's\": 52385,\n",
       " 'tamara': 25263,\n",
       " 'affords': 17641,\n",
       " 'concert': 3249,\n",
       " \"yara's\": 87955,\n",
       " 'someome': 52386,\n",
       " 'lingering': 8424,\n",
       " \"abraham's\": 41511,\n",
       " 'beesley': 34769,\n",
       " 'cherbourg': 34770,\n",
       " 'kagan': 28624,\n",
       " 'snatch': 9097,\n",
       " \"miyazaki's\": 9260,\n",
       " 'absorbs': 25264,\n",
       " \"koltai's\": 40970,\n",
       " 'tingled': 64027,\n",
       " 'crossroads': 19511,\n",
       " 'rehab': 16121,\n",
       " 'falworth': 52389,\n",
       " 'sequals': 52390,\n",
       " ...}"
      ]
     },
     "execution_count": 11,
     "metadata": {},
     "output_type": "execute_result"
    }
   ],
   "source": [
    "imdb.get_word_index()"
   ]
  },
  {
   "cell_type": "markdown",
   "metadata": {},
   "source": [
    "### Les textes ont été hashés"
   ]
  },
  {
   "cell_type": "markdown",
   "metadata": {},
   "source": [
    "Nous proposons une fonction qui permet d'afficher le mot correspondant à chaque nombre dans une phrase du corpus."
   ]
  },
  {
   "cell_type": "code",
   "execution_count": 12,
   "metadata": {
    "collapsed": true
   },
   "outputs": [],
   "source": [
    "def getKeysByValue(dictOfElements, valueToFind):\n",
    "    listOfKeys = list()\n",
    "    listOfItems = dictOfElements.items()\n",
    "    for item  in listOfItems:\n",
    "        if item[1] == valueToFind:\n",
    "            listOfKeys.append(item[0])\n",
    "    print(listOfKeys)"
   ]
  },
  {
   "cell_type": "code",
   "execution_count": 13,
   "metadata": {
    "collapsed": false
   },
   "outputs": [
    {
     "name": "stdout",
     "output_type": "stream",
     "text": [
      "['the']\n",
      "['effort']\n",
      "['still']\n",
      "['been']\n",
      "['that']\n",
      "['usually']\n",
      "['makes']\n",
      "['for']\n",
      "['of']\n",
      "['finished']\n",
      "['sucking']\n",
      "['ended']\n",
      "[\"cbc's\"]\n",
      "['an']\n",
      "['because']\n",
      "['before']\n",
      "['if']\n",
      "['just']\n",
      "['though']\n",
      "['something']\n",
      "['know']\n",
      "['novel']\n",
      "['female']\n",
      "['i']\n",
      "['i']\n",
      "['slowly']\n",
      "['lot']\n",
      "['of']\n",
      "['above']\n",
      "['freshened']\n",
      "['with']\n",
      "['connect']\n",
      "['in']\n",
      "['of']\n",
      "['script']\n",
      "['their']\n",
      "['that']\n",
      "['out']\n",
      "['end']\n",
      "['his']\n",
      "['deceptively']\n",
      "['i']\n",
      "['i']\n"
     ]
    }
   ],
   "source": [
    "for word_num in X_train[5]:\n",
    "    getKeysByValue(imdb.get_word_index(),word_num)"
   ]
  },
  {
   "cell_type": "markdown",
   "metadata": {},
   "source": [
    "Nous choisissons de coder une fonction qui va faire le travail de modification de l'état nombre à l'état chaîne de caractère pour chaque phrase du corpus."
   ]
  },
  {
   "cell_type": "code",
   "execution_count": 14,
   "metadata": {
    "collapsed": true
   },
   "outputs": [],
   "source": [
    "def function(dictOfElements, X):\n",
    "    for i in range(X.shape[0]):\n",
    "        listOfItems = dictOfElements.items()\n",
    "        listOfKeys = list()\n",
    "        for valueToFind in X[i]:\n",
    "            for item  in listOfItems:\n",
    "                if item[1] == valueToFind:\n",
    "                    listOfKeys.append(item[0])\n",
    "            X[i] = listOfKeys"
   ]
  },
  {
   "cell_type": "markdown",
   "metadata": {},
   "source": [
    "Puis nous affichons les tableaux des nombres convertis en chaînes de caractère, correspondants à chaque commentaire."
   ]
  },
  {
   "cell_type": "code",
   "execution_count": 15,
   "metadata": {
    "collapsed": false
   },
   "outputs": [
    {
     "data": {
      "text/plain": [
       "0      [the, as, you, with, out, themselves, powerful...\n",
       "1      [the, thought, solid, thought, senator, do, ma...\n",
       "2      [the, as, there, in, at, by, br, of, sure, man...\n",
       "3      [the, of, bernadette, mon, they, halfway, of, ...\n",
       "4      [the, sure, themes, br, only, acting, i, i, wa...\n",
       "5      [the, effort, still, been, that, usually, make...\n",
       "6      [the, boiled, full, involving, to, impressive,...\n",
       "7      [the, of, installed, local, of, their, br, of,...\n",
       "8      [the, out, can't, some, to, hit, looking, when...\n",
       "9      [the, as, on, there, plot, she's, iii, film, t...\n",
       "10     [the, clear, fact, entertaining, there, life, ...\n",
       "11     [the, no, was, personality, as, on, was, me, t...\n",
       "12     [the, was, did, hands, fact, absolute, was, th...\n",
       "13     [the, especially, like, after, same, scientist...\n",
       "14     [the, child, on, they, where, totally, instead...\n",
       "15     [the, is, rate, hope, br, my, out, double, thi...\n",
       "16     [the, auto, cross, this, of, mental, it, of, d...\n",
       "17     [the, they, of, rukh, br, of, apricorn, though...\n",
       "18     [the, was, one, see, me, of, scriptwriter, br,...\n",
       "19     [the, exercise, he, it, is, tony, falls, ask, ...\n",
       "20     [the, running, this, lily, movie, 'resigned', ...\n",
       "21     [the, throughout, good, scream, i've, angles, ...\n",
       "22     [the, was, tale, leaves, japanese, for, why, b...\n",
       "23     [the, of, words, film, law's, widens, favorabl...\n",
       "24     [the, of, i've, 26, on, with, way, this, innue...\n",
       "25     [the, as, it, is, time, usual, basis, must, ha...\n",
       "26     [the, of, year, house, hoped, br, am, rating, ...\n",
       "27     [the, bad, me, in, through, in, so, lucienne, ...\n",
       "28     [the, slaughter, susan, christian, this, drama...\n",
       "29     [the, was, one, you're, of, ending, is, stars,...\n",
       "                             ...                        \n",
       "970    [the, until, end, that, cast, begins, br, sens...\n",
       "971    [the, was, several, mccormick, this, original,...\n",
       "972    [the, social, i, i, watching, woman, those, no...\n",
       "973    [the, which, old, that, there, by, br, of, per...\n",
       "974    [the, crashed, earth, hellborn, has, is, mammo...\n",
       "975    [the, that, horror, movie, what, this, hold, c...\n",
       "976    [the, is, time, wants, to, accents, pipers, br...\n",
       "977    [the, as, by, ghost's, those, in, of, they're,...\n",
       "978    [the, of, guy, but, as, on, with, away, althou...\n",
       "979    [the, ryan, in, tudor, it, is, quite, br, seem...\n",
       "980    [the, much, jokes, at, shooting, that, it, his...\n",
       "981    [the, chew, br, is, guilty, still, many, happe...\n",
       "982    [the, was, although, as, on, had, makes, most,...\n",
       "983    [the, is, wasn't, o'brien, said, their, has, s...\n",
       "984    [the, was, against, looking, that, no, was, ma...\n",
       "985    [the, budget, br, ted, mess, revolutionary, ex...\n",
       "986    [the, was, had, two, for, as, on, it, him, sex...\n",
       "987    [the, was, then, start, wife, funny, please, a...\n",
       "988    [the, even, hard, furthermore, comedy, is, act...\n",
       "989    [the, is, money, few, they, fact, of, possessi...\n",
       "990    [the, of, everyone, br, of, duty, it, world, t...\n",
       "991    [the, career, scene, it, only, fire, odd, br, ...\n",
       "992    [the, no, was, why, following, like, have, 2, ...\n",
       "993    [the, by, br, though, produce, million, she, c...\n",
       "994    [the, as, on, with, of, järvilaturi, scored, o...\n",
       "995    [the, was, two, as, these, it, of, where, unin...\n",
       "996    [the, was, with, exudes, actors, work, no, was...\n",
       "997    [the, but, of, vhs, was, rather, his, tchaikov...\n",
       "998    [the, of, mad, nowhere, child, on, horrible, t...\n",
       "999    [the, wacthing, there, moved, we, film, only, ...\n",
       "Name: sentence, dtype: object"
      ]
     },
     "execution_count": 15,
     "metadata": {},
     "output_type": "execute_result"
    }
   ],
   "source": [
    "dictOfElements = imdb.get_word_index()\n",
    "function(dictOfElements, X_sub)\n",
    "X_sub"
   ]
  },
  {
   "cell_type": "code",
   "execution_count": 16,
   "metadata": {
    "collapsed": false
   },
   "outputs": [
    {
     "data": {
      "text/plain": [
       "0      the as you with out themselves powerful lets l...\n",
       "1      the thought solid thought senator do making to...\n",
       "2      the as there in at by br of sure many br of pr...\n",
       "3      the of bernadette mon they halfway of identity...\n",
       "4      the sure themes br only acting i i was favouri...\n",
       "5      the effort still been that usually makes for o...\n",
       "6      the boiled full involving to impressive boring...\n",
       "7      the of installed local of their br of attentio...\n",
       "8      the out can't some to hit looking when is them...\n",
       "9      the as on there plot she's iii film that for f...\n",
       "10     the clear fact entertaining there life back br...\n",
       "11     the no was personality as on was me time along...\n",
       "12     the was did hands fact absolute was then laugh...\n",
       "13     the especially like after same scientist state...\n",
       "14     the child on they where totally instead he aro...\n",
       "15     the is rate hope br my out double this is agai...\n",
       "16     the auto cross this of mental it of driven of ...\n",
       "17     the they of rukh br of apricorn thought swathe...\n",
       "18     the was one see me of scriptwriter br wife as ...\n",
       "19     the exercise he it is tony falls ask has is fo...\n",
       "20     the running this lily movie 'resigned' as mons...\n",
       "21     the throughout good scream i've angles just of...\n",
       "22     the was tale leaves japanese for why back just...\n",
       "23     the of words film law's widens favorably incre...\n",
       "24     the of i've 26 on with way this innuendo film ...\n",
       "25     the as it is time usual basis must has is smal...\n",
       "26     the of year house hoped br am rating of orry b...\n",
       "27     the bad me in through in so lucienne her bad m...\n",
       "28     the slaughter susan christian this drama br wh...\n",
       "29     the was one you're of ending is stars br gets ...\n",
       "                             ...                        \n",
       "970    the until end that cast begins br sense even h...\n",
       "971    the was several mccormick this original vampir...\n",
       "972    the social i i watching woman those no as with...\n",
       "973    the which old that there by br of personally p...\n",
       "974    the crashed earth hellborn has is mammoths yam...\n",
       "975    the that horror movie what this hold computer ...\n",
       "976    the is time wants to accents pipers br of woke...\n",
       "977    the as by ghost's those in of they're br of ce...\n",
       "978    the of guy but as on with away although this i...\n",
       "979    the ryan in tudor it is quite br seems not tha...\n",
       "980    the much jokes at shooting that it his musical...\n",
       "981    the chew br is guilty still many happened majo...\n",
       "982    the was although as on had makes most have one...\n",
       "983    the is wasn't o'brien said their has spoil lik...\n",
       "984    the was against looking that no was maybe as o...\n",
       "985    the budget br ted mess revolutionary exclusive...\n",
       "986    the was had two for as on it him sexy not this...\n",
       "987    the was then start wife funny please appears o...\n",
       "988    the even hard furthermore comedy is actually s...\n",
       "989    the is money few they fact of possessions slav...\n",
       "990    the of everyone br of duty it world tell was p...\n",
       "991    the career scene it only fire odd br try alisa...\n",
       "992    the no was why following like have 2 reserve s...\n",
       "993    the by br though produce million she couple in...\n",
       "994    the as on with of järvilaturi scored on way wo...\n",
       "995    the was two as these it of where uninteresting...\n",
       "996    the was with exudes actors work no was least a...\n",
       "997    the but of vhs was rather his tchaikovsky film...\n",
       "998    the of mad nowhere child on horrible there fun...\n",
       "999    the wacthing there moved we film only right in...\n",
       "Name: sentence, dtype: object"
      ]
     },
     "execution_count": 16,
     "metadata": {},
     "output_type": "execute_result"
    }
   ],
   "source": [
    "for i in range(limit):\n",
    "    X_sub[i] = ' '.join(X_sub[i])\n",
    "X_sub"
   ]
  },
  {
   "cell_type": "markdown",
   "metadata": {},
   "source": [
    "Enfin, nous avons convertit les tableaux en chaînes de caractère. Affichons le dictionnaire de ce corpus de 1000 commentaires. "
   ]
  },
  {
   "cell_type": "code",
   "execution_count": 17,
   "metadata": {
    "collapsed": false
   },
   "outputs": [
    {
     "name": "stdout",
     "output_type": "stream",
     "text": [
      "['000', '0080', '0083', '00s', '01', '04', '06', '08', '087', '10', '100', '1000', '1000s', '100s', '101', '102', '103', '106', '109', '10x', '11', '112', '1138', '12', '120', '12a', '12th', '13', '13th', '14', '142', '149', '14a', '14th', '15', '150', '16', '17', '175', '1798', '17th', '18', '180', '1837', '1871', '1888', '1897', '18th', '19', '1900', '1901', '1915', '1920', '1920s', '1929', '1930', '1930s', '1931', '1932', '1933', '1935', '1936', '1938', '193o', '1940', '1940s', '1942', '1943', '1944', '1945', '1946', '1947', '1948', '1949', '1950', '1950s', '1952', '1953', '1955', '1956', '1957', '1959', '1960', '1960s', '1961', '1963', '1964', '1965', '1966', '1967', '1968', '1969', '1970', '1970s', '1971', '1972', '1973', '1974', '1976', '1977', '1978', '1979', '1980', '1980s', '1981', '1982', '1983', '1984', '1985', '1986', '1987', '1988', '1990', '1990s', '1991', '1992', '1993', '1994', '1995', '1996', '1997', '1998', '1999', '19th', '1am', '1st', '20', '200', '2000', '2001', '2002', '2003', '2004', '2005', '2006', '2007', '2008', '2009', '2010', '2022', '20s', '20th', '21', '21849890', '21st', '22', '23', '237', '24', '25', '250', '25th', '26', '27', '270', '27th', '28', '2h30', '2more', '2nd', '30', '3000', '30am', '30min', '30s', '30th', '31', '32', '34', '34th', '35', '35mm', '360', '36th', '3d', '3rd', '3yrs', '40', '40s', '43', '45', '45am', '469', '48', '49', '498', '4ever', '4th', '50', '50s', '52', '53', '54', '55', '5539', '56', '5hrs', '5ive', '5th', '60', '60s', '61', '63', '64', '65', '70', '700', '70ies', '70s', '71', '73', '740', '747', '75', '76', '77', '79', '7th', '80', '80s', '83', '84', '84s', '85', '86', '86s', '88', '8th', '8u', '90', '91', '94', '95', '96', '99', '9am', '9do', '9th', 'aa', 'aah', 'ab', 'abandon', 'abandoned', 'abandons', 'abbey', 'abbott', 'abby', 'abc', 'abdic', 'abducted', 'abernathy', 'abetted', 'abhishek', 'abilities', 'ability', 'able', 'abnormal', 'abominations', 'aboriginal', 'aborigine', 'aborigines', 'aborted', 'abortion', 'abound', 'abounds', 'about', 'above', 'abraham', 'abrahams', 'abril', 'abrupt', 'abruptly', 'absence', 'absent', 'absolute', 'absolutely', 'absolutley', 'absorb', 'absorbed', 'absorbing', 'abstract', 'abstractions', 'absurd', 'absurdities', 'absurdity', 'absurdly', 'abundance', 'abundant', 'abundantly', 'abuse', 'abusive', 'abysmal', 'academy', 'accelerate', 'accent', 'accents', 'accentuated', 'accentuates', 'accept', 'acceptable', 'acceptance', 'accepted', 'accepting', 'accepts', 'access', 'accessibility', 'accessible', 'accident', 'accidentally', 'acclaim', 'acclaimed', 'accolades', 'accommodate', 'accompanied', 'accomplice', 'accomplices', 'accomplished', 'accomplishes', 'accomplishment', 'accorded', 'according', 'accordingly', 'accosted', 'account', 'accounted', 'accounts', 'accrued', 'acct', 'accumulated', 'accuracy', 'accurate', 'accurately', 'accusation', 'accusations', 'accuse', 'accused', 'accuses', 'accustomed', 'ace', 'acedemy', 'achieve', 'achieved', 'achievement', 'achievements', 'achieving', 'achilleas', 'aching', 'acid', 'acknowledged', 'acknowledgements', 'acquire', 'acquired', 'acquits', 'acrobat', 'acrobatic', 'across', 'act', 'acted', 'acting', 'action', 'actiona', 'actions', 'active', 'activist', 'activists', 'activities', 'actor', 'actors', 'actress', 'actresses', 'acts', 'actual', 'actually', 'ad', 'ada', 'adam', 'adamant', 'adams', 'adamson', 'adaptation', 'adaptations', 'adapted', 'adapting', 'adaption', 'add', 'added', 'addendum', 'addict', 'addicted', 'addiction', 'adding', 'addition', 'additional', 'additionally', 'additions', 'address', 'addressed', 'addressing', 'adds', 'adelaide', 'adept', 'adequate', 'adhered', 'adibah', 'adjacent', 'adjust', 'adjustin', 'administration', 'admirable', 'admiral', 'admiration', 'admire', 'admired', 'admission', 'admit', 'admits', 'admitted', 'admittedly', 'admitting', 'adolescence', 'adolescent', 'adolph', 'adopt', 'adopted', 'adoption', 'adoptive', 'adopts', 'adoration', 'adore', 'adored', 'adrenaline', 'adrian', 'adriana', 'adrienne', 'ads', 'adult', 'adulterous', 'adulthood', 'adults', 'advance', 'advanced', 'advancements', 'advances', 'advancing', 'advantage', 'advantaged', 'advantages', 'adventure', 'adventurer', 'adventures', 'adventurous', 'adversary', 'adversity', 'advertise', 'advertised', 'advertisements', 'advertising', 'advice', 'advices', 'advise', 'advised', 'adviser', 'ae', 'aeon', 'aerial', 'aerobics', 'aesthetic', 'aestheticism', 'aesthetics', 'afer', 'affair', 'affaire', 'affect', 'affected', 'affecting', 'affection', 'affectionate', 'affectionately', 'affections', 'affective', 'affirmation', 'affleck', 'affluent', 'afford', 'affords', 'afghanistan', 'afleck', 'afloat', 'afoot', 'afore', 'aforementioned', 'aforesaid', 'afraid', 'africa', 'african', 'africans', 'after', 'aftermath', 'afternoon', 'afterthought', 'afterward', 'afterwards', 'again', 'against', 'agatha', 'age', 'aged', 'agency', 'agenda', 'agendas', 'agent', 'agents', 'ager', 'ages', 'aggie', 'aggressive', 'aggressively', 'aghast', 'aging', 'agitated', 'agnostic', 'ago', 'agonizingly', 'agony', 'agree', 'agreed', 'agreement', 'agrees', 'agusti', 'ah', 'aha', 'ahead', 'ahem', 'ahmad', 'ahmadinejad', 'ahoy', 'ai', 'aid', 'aidan', 'aide', 'aiding', 'aids', 'aiello', 'ailing', 'aim', 'aime', 'aimed', 'aiming', 'aimée', 'ain', 'aint', 'aintry', 'air', 'aircraft', 'aired', 'airhead', 'airing', 'airlifted', 'airlines', 'airplane', 'airport', 'airports', 'airwolf', 'aishwarya', 'aisle', 'ajax', 'ajay', 'ak', 'aka', 'akcent', 'aki', 'akin', 'akins', 'akira', 'akki', 'akshay', 'akshaye', 'akshey', 'al', 'alabama', 'alain', 'alamo', 'alan', 'alarmists', 'alarms', 'alas', 'alba', 'albeit', 'albert', 'albertson', 'album', 'albums', 'albéniz', 'alcohol', 'alcoholic', 'alcoholism', 'alda', 'aldolpho', 'alec', 'alejandro', 'alekos', 'alert', 'alex', 'alexander', 'alexandre', 'alfred', 'alfredo', 'ali', 'alias', 'alibis', 'alice', 'alicia', 'alien', 'alienate', 'alienates', 'alienating', 'alienation', 'aliens', 'aligned', 'alike', 'alisan', 'alisande', 'alison', 'alistair', 'alive', 'all', 'alladin', 'allan', 'allance', 'allegations', 'alleged', 'allegorical', 'allen', 'alley', 'alleys', 'alliance', 'allied', 'allies', 'alligators', 'allison', 'allow', 'allowed', 'allowing', 'allows', 'alloyed', 'alluded', 'alluring', 'ally', 'almighty', 'almost', 'alok', 'alone', 'along', 'alongside', 'aloof', 'alosio', 'alphabet', 'alphonse', 'already', 'alright', 'also', 'alt', 'altagracia', 'alter', 'alteration', 'altered', 'altering', 'alternate', 'alternative', 'alters', 'altho', 'although', 'altman', 'altogether', 'alvin', 'always', 'alyn', 'am', 'amalgam', 'amanda', 'amasses', 'amateur', 'amateurish', 'amateurist', 'amateurs', 'amato', 'amazed', 'amazing', 'amazingly', 'amazon', 'ambassador', 'ambiance', 'ambientation', 'ambiguous', 'ambition', 'ambitions', 'ambitious', 'amelia', 'amelie', 'amen', 'amendment', 'america', 'american', 'americana', 'americans', 'amiable', 'amicably', 'amick', 'amid', 'amidst', 'amigo', 'amiss', 'amitabh', 'amityville', 'ammmmm', 'ammo', 'amok', 'among', 'amongst', 'amoral', 'amount', 'amounted', 'amounting', 'amounts', 'amour', 'amphetamine', 'ample', 'amrita', 'amsterdam', 'amuse', 'amused', 'amusement', 'amusing', 'amy', 'an', 'anal', 'analog', 'analogy', 'analysis', 'analyzed', 'analyzing', 'anand', 'anastasia', 'anatomy', 'ancestor', 'ancestors', 'ancestry', 'anchor', 'anchorman', 'ancien', 'ancient', 'and', 'andalusian', 'andersen', 'anderson', 'andre', 'andrea', 'andreas', 'andrei', 'andretti', 'andrew', 'andrews', 'andromeda', 'androvsky', 'andy', 'anecdotal', 'anecdotes', 'anesthesia', 'anesthesiologist', 'aneta', 'ang', 'angasm', 'angel', 'angela', 'angeles', 'angelic', 'angelica', 'angelina', 'angelo', 'angelopoulos', 'angelos', 'angels', 'anger', 'angered', 'angie', 'angle', 'angles', 'anglo', 'angrier', 'angry', 'angst', 'anguish', 'anil', 'animal', 'animals', 'animaster', 'animate', 'animated', 'animation', 'animator', 'animators', 'animatronic', 'anime', 'animosity', 'aniston', 'anita', 'ann', 'anna', 'anne', 'annemarie', 'annie', 'anniston', 'anniversary', 'annna', 'anno', 'announce', 'announced', 'announcer', 'announces', 'annoy', 'annoyed', 'annoying', 'annoyingly', 'annual', 'another', 'anothwer', 'anselmo', 'ansonia', 'answer', 'answers', 'ant', 'antagonist', 'antagonistic', 'antheil', 'anthem', 'anthems', 'anthology', 'anthony', 'anthropologists', 'anti', 'anticipated', 'anticipating', 'anticipation', 'antics', 'antidote', 'antihero', 'antithesis', 'antlers', 'antoine', 'anton', 'antonietta', 'antonio', 'antonioni', 'ants', 'antwone', 'antònia', 'anupam', 'anxious', 'any', 'anya', 'anybody', 'anyhoo', 'anyhow', 'anymore', 'anyone', 'anything', 'anytime', 'anyway', 'anyways', 'anywhere', 'anywhoo', 'aorta', 'ap', 'apaches', 'apalling', 'apart', 'apartheid', 'apartment', 'apartments', 'apathetic', 'ape', 'apes', 'apex', 'aplenty', 'aplomb', 'apocalypse', 'apollo', 'apologetic', 'apologies', 'apology', 'appalling', 'apparent', 'apparently', 'apparitions', 'appeal', 'appealed', 'appealing', 'appeals', 'appear', 'appearance', 'appearances', 'appeared', 'appearence', 'appearing', 'appears', 'appeasement', 'appelation', 'applaud', 'applauded', 'applegate', 'appliances', 'applied', 'applies', 'apply', 'applying', 'appoach', 'appoint', 'appreciate', 'appreciated', 'appreciates', 'appreciation', 'apprehensive', 'approach', 'approached', 'approaches', 'approaching', 'appropriate', 'appropriated', 'appropriately', 'approval', 'approve', 'approximate', 'approximately', 'apres', 'apricorn', 'april', 'aproned', 'aptly', 'aquaman', 'arab', 'arabic', 'aragami', 'aragorn', 'araki', 'aramaic', 'arc', 'arch', 'archaeological', 'archaeologist', 'archaic', 'archer', 'archibald', 'architect', 'archive', 'arcs', 'arctic', 'arcy', 'ardent', 'are', 'area', 'areas', 'aren', 'arena', 'aretha', 'argentina', 'argentine', 'argh', 'arguably', 'argue', 'argues', 'arguing', 'argument', 'argumentation', 'argumentative', 'arguments', 'arias', 'ariel', 'arisan', 'arise', 'arises', 'arising', 'aristocracy', 'aristocrat', 'aristocratic', 'aristocrats', 'arjun', 'ark', 'arkin', 'arlana', 'arlington', 'arly', 'arm', 'armageddon', 'armed', 'armor', 'armpit', 'armpits', 'arms', 'armstrong', 'army', 'arne', 'arness', 'arnie', 'arnis', 'arnold', 'around', 'arouse', 'arouses', 'arquette', 'arranged', 'arrangement', 'arrangements', 'arranges', 'arrest', 'arrested', 'arresting', 'arrests', 'arrival', 'arrive', 'arrived', 'arrives', 'arriving', 'arrogance', 'arrogant', 'arrogantly', 'arrondissement', 'arrow', 'arrows', 'arrrrgh', 'arsonists', 'art', 'artefacts', 'artemisia', 'artful', 'artfully', 'arthouse', 'arthur', 'article', 'articles', 'articulated', 'artifacts', 'artificial', 'artificiality', 'artificially', 'artillery', 'artisans', 'artist', 'artistic', 'artists', 'arts', 'artsy', 'artwork', 'arty', 'aryans', 'as', 'asagoro', 'asanine', 'asbestos', 'asceticism', 'ash', 'ashamed', 'ashcroft', 'ashford', 'ashley', 'ashok', 'asia', 'asian', 'asians', 'aside', 'asif', 'asinine', 'ask', 'asked', 'askey', 'asking', 'asks', 'asleep', 'aspect', 'aspects', 'asphyxiated', 'aspirations', 'aspire', 'aspired', 'aspiring', 'ass', 'assassin', 'assassination', 'assassins', 'assault', 'assaulted', 'assed', 'assemble', 'assembled', 'assembling', 'assembly', 'assertion', 'assertions', 'asses', 'asset', 'assigned', 'assignment', 'assimilated', 'assistance', 'assistant', 'assistants', 'assisted', 'associate', 'associated', 'association', 'assorted', 'assortment', 'assume', 'assumed', 'assumes', 'assuming', 'assured', 'astaire', 'asthmatic', 'astin', 'astonishing', 'astonishingly', 'astor', 'astound', 'astounding', 'astronaut', 'astronomical', 'astrée', 'astute', 'asylum', 'at', 'atari', 'atavistic', 'ate', 'athletic', 'athleticism', 'ati', 'atkins', 'atkinson', 'atlanta', 'atlantians', 'atlantic', 'atlantica', 'atlantis', 'atlease', 'atmosphere', 'atmospheric', 'atmospherics', 'atmosphère', 'atom', 'atomic', 'atrocious', 'atrociousness', 'atrocities', 'atta', 'attached', 'attaching', 'attack', 'attacked', 'attacker', 'attackers', 'attacking', 'attacks', 'attains', 'attempt', 'attempted', 'attempting', 'attempts', 'attenborough', 'attend', 'attendants', 'attended', 'attendees', 'attending', 'attention', 'attest', 'attic', 'attila', 'attire', 'attitude', 'attitudes', 'attorney', 'attracted', 'attracting', 'attraction', 'attractive', 'attractiveness', 'attributed', 'attributes', 'atul', 'aubrey', 'audibly', 'audience', 'audiences', 'audio', 'audit', 'audition', 'auditions', 'audrey', 'auer', 'auggie', 'augie', 'augmented', 'august', 'aunt', 'aura', 'aural', 'austen', 'austere', 'austin', 'australia', 'australian', 'australians', 'austria', 'auteur', 'authentic', 'authenticity', 'author', 'authorities', 'authority', 'authors', 'autie', 'autistic', 'auto', 'autobiographical', 'autobiography', 'autobots', 'autograph', 'automatic', 'automatically', 'automobile', 'autopilot', 'autopsy', 'autumn', 'ava', 'availability', 'available', 'avalanche', 'avalon', 'avariciously', 'avatars', 'avenger', 'avengers', 'avenging', 'avenues', 'average', 'averagely', 'aviation', 'aving', 'aviv', 'avoid', 'avoidable', 'avoided', 'avoids', 'avril', 'awaited', 'awaiting', 'awaits', 'awake', 'awakening', 'award', 'awarded', 'awards', 'aware', 'awareness', 'awash', 'away', 'awe', 'aweigh', 'awesome', 'awesomely', 'awestruck', 'awful', 'awfully', 'awhile', 'awkward', 'awkwardly', 'awkwardness', 'awol', 'awry', 'awsome', 'aww', 'ax', 'axe', 'axel', 'ayers', 'ayn', 'aztec', 'azumi', 'b2', 'b4', 'baaaaaad', 'baba', 'babbage', 'babble', 'babbles', 'babbling', 'babe', 'babelfish', 'babes', 'babette', 'babies', 'babs', 'baby', 'babylon', 'babysitter', 'babysitting', 'bacall', 'bach', 'bachar', 'bacharach', 'bachchan', 'bachelor', 'bachman', 'bacio', 'back', 'backdrop', 'backed', 'background', 'backing', 'backrounds', 'backs', 'backstabbing', 'backstage', 'backstory', 'backula', 'backup', 'backwards', 'backwoods', 'backyard', 'bad', 'baddie', 'baddies', 'badge', 'badlands', 'badly', 'badness', 'baez', 'baffling', 'bag', 'baggage', 'bagged', 'bagging', 'baggy', 'baghban', 'bagpipes', 'bags', 'bahrain', 'baio', 'bait', 'bajo', 'bajpai', 'baked', 'baker', 'bakery', 'bakes', 'bakshi', 'bakvaas', 'balance', 'balanced', 'balancing', 'balasko', 'bald', 'balderdash', 'baldwin', 'ball', 'ballad', 'ballads', 'ballantine', 'ballet', 'ballin', 'ballistic', 'ballroom', 'balls', 'baloney', 'balsa', 'baltic', 'bam', 'bambaata', 'bambino', 'bamboo', 'ban', 'bana', 'banal', 'banana', 'bancroft', 'band', 'bandaged', 'bandannas', 'bandit', 'bands', 'bandy', 'bane', 'bang', 'banished', 'banjo', 'bank', 'banker', 'banks', 'banned', 'banner', 'banning', 'banter', 'banton', 'banu', 'banzai', 'bao', 'baps', 'bar', 'barack', 'baranski', 'barbara', 'barbarian', 'barbarism', 'barbecue', 'barbie', 'barcelona', 'bare', 'barefoot', 'barely', 'bares', 'bargain', 'bargained', 'barging', 'baritone', 'barker', 'barkley', 'barlow', 'barnes', 'barney', 'barnstorming', 'baron', 'baroque', 'barr', 'barrel', 'barreled', 'barres', 'barring', 'barrows', 'barry', 'barrymore', 'bars', 'bart', 'bartha', 'bartley', 'barton', 'barty', 'baryshnikov', 'base', 'baseball', 'based', 'baseketball', 'basement', 'baser', 'bases', 'basest', 'bashed', 'bashes', 'bashing', 'basic', 'basically', 'basics', 'basil', 'basinger', 'basis', 'basket', 'basketball', 'baskets', 'bass', 'bassenger', 'bassinger', 'basso', 'bastard', 'bastedo', 'bat', 'bataan', 'bates', 'bath', 'bathe', 'bathed', 'bathing', 'bathroom', 'baths', 'bathsheba', 'batman', 'baton', 'bats', 'battered', 'battery', 'battle', 'battlefield', 'battlefields', 'battlements', 'battles', 'battlestar', 'battling', 'batty', 'bauer', 'bawling', 'baxter', 'bay', 'bayridge', 'baywatch', 'bbc', 'bbc1', 'bbe', 'bc', 'be', 'beach', 'bead', 'beads', 'beales', 'beams', 'bean', 'beans', 'bear', 'bearable', 'beard', 'bearded', 'bearing', 'bears', 'beast', 'beasts', 'beat', 'beaten', 'beating', 'beatings', 'beatle', 'beatles', 'beaton', 'beats', 'beatty', 'beau', 'beauties', 'beautiful', 'beautifully', 'beauty', 'beaver', 'beavis', 'became', 'because', 'beckinsale', 'becky', 'become', 'becomes', 'becoming', 'bed', 'bedchamber', 'bedraggled', 'bedroom', 'beds', 'bee', 'beef', 'beefheart', 'beek', 'been', 'beens', 'beer', 'beers', 'beery', 'beetle', 'beetlejuice', 'beetles', 'befalls', 'before', 'beforehand', 'befriended', 'befriending', 'befriends', 'beg', 'began', 'begetting', 'beggars', 'begged', 'begging', 'begin', 'beginning', 'beginnings', 'begins', 'begley', 'begrudging', 'beguiling', 'begun', 'behalf', 'behave', 'behaves', 'behaving', 'behavior', 'behaviorally', 'behaviour', 'beheading', 'behest', 'behind', 'behold', 'behr', 'being', 'beings', 'bel', 'bela', 'belabored', 'belasco', 'belated', 'belatedly', 'belching', 'beldan', 'beleaguered', 'belgian', 'belgians', 'belief', 'beliefs', 'belies', 'believability', 'believable', 'believe', 'believed', 'believers', 'believes', 'believing', 'belittled', 'bell', 'belle', 'bellied', 'bello', 'bells', 'belly', 'belmondo', 'belmont', 'belong', 'belonged', 'belongs', 'beloved', 'below', 'belt', 'belted', 'belting', 'belushi', 'bemoan', 'bemoaning', 'ben', 'bench', 'bend', 'bender', 'bending', 'beneath', 'benefactor', 'beneficial', 'benefit', 'benefited', 'benicio', 'bening', 'benjamin', 'benkei', 'bennett', 'benno', 'benny', 'benoit', 'benson', 'bent', 'bentley', 'benward', 'beowulf', 'berating', 'bereaved', 'bereavement', 'berenger', 'beresford', 'bergdorf', 'bergen', 'bergman', 'bergqvist', 'berkeley', 'berkowitz', 'berlin', 'berlinale', 'berman', 'bernadette', 'bernard', 'bernhard', 'bernice', 'bernie', 'bernsen', 'berry', 'berryman', 'berserk', 'berserkers', 'bert', 'berwick', 'beside', 'besides', 'besieged', 'besotted', 'bespectacled', 'best', 'bested', 'bet', 'beta', 'beth', 'betrayal', 'bets', 'betsy', 'bette', 'better', 'bettie', 'betty', 'between', 'beutifully', 'beverly', 'beware', 'bewildered', 'bewildering', 'bewilderment', 'bewitched', 'beyonce', 'beyond', 'bhaer', 'bhagyashree', 'bhajpai', 'bhamra', 'bharathi', 'bhatti', 'bias', 'biased', 'bible', 'biblical', 'bicycle', 'bierce', 'big', 'bigelow', 'bigfoot', 'bigg', 'bigga', 'bigger', 'biggest', 'bighouseaz', 'bigotry', 'bigwig', 'bike', 'biker', 'bikers', 'bikes', 'bikini', 'bikinis', 'biko', 'bikram', 'bilateral', 'bilge', 'bilious', 'bilko', 'bill', 'billed', 'billeted', 'billie', 'billion', 'bills', 'billy', 'bimbo', 'bimbos', 'bin', 'binder', 'binding', 'bing', 'binks', 'binoculars', 'bintang', 'biographic', 'biography', 'biological', 'biopic', 'biopics', 'bipolar', 'bird', 'birdie', 'birds', 'birnam', 'birth', 'birthday', 'birthmother', 'bisexual', 'bishop', 'bislane', 'bissonnette', 'bit', 'bitch', 'bitching', 'bitchy', 'bite', 'biting', 'bits', 'bitter', 'bitterly', 'bittersweet', 'bizarre', 'bjm', 'bjork', 'blabbering', 'black', 'blackballed', 'blackblood', 'blackenstein', 'blackmailer', 'blacks', 'blacksmith', 'blacksnake', 'blacktop', 'blackwood', 'blacula', 'blade', 'bladerunner', 'blah', 'blaine', 'blair', 'blais', 'blaise', 'blake', 'blalock', 'blame', 'blameless', 'blames', 'blaming', 'blanc', 'bland', 'blandings', 'blank', 'blanket', 'blankly', 'blanks', 'blast', 'blasts', 'blatant', 'blatantly', 'blaxploitation', 'blazing', 'bleak', 'bleaker', 'bleakness', 'blecher', 'bled', 'bleed', 'bleeding', 'bleedmedry', 'bleeth', 'blend', 'blended', 'blending', 'blends', 'blessed', 'blethyn', 'blew', 'blight', 'blighter', 'blind', 'blinded', 'blindly', 'blink', 'blinking', 'blinks', 'blip', 'bliss', 'blithe', 'bloated', 'blob', 'bloch', 'block', 'blockbuster', 'blocked', 'blocks', 'blogspot', 'blond', 'blonde', 'blondell', 'blonder', 'blood', 'bloodbath', 'blooded', 'bloods', 'bloodshed', 'bloodsucker', 'bloodsuckers', 'bloodthirsty', 'bloody', 'bloom', 'bloomin', 'bloore', 'bloss', 'blossom', 'blossomed', 'blossoming', 'blossoms', 'blow', 'blowhard', 'blowing', 'blowjobs', 'blown', 'blows', 'blowtorch', 'blubbers', 'bludgeons', 'blue', 'bluegrass', 'bluer', 'blues', 'bluff', 'blunder', 'blunt', 'bluntly', 'blurb', 'blurbs', 'blurted', 'blythe', 'bo', 'board', 'boarded', 'boards', 'boardwalk', 'boasting', 'boasts', 'boat', 'boatload', 'boats', 'bob', 'bobby', 'bobcat', 'bocabonita', 'bod', 'bodies', 'bodily', 'bodo', 'bodrov', 'bods', 'body', 'bodysuit', 'boesman', 'boffin', 'bogarde', 'bogart', 'bogdanovich', 'bogeyman', 'bogged', 'boggy', 'bogus', 'boiled', 'boiling', 'boils', 'boitano', 'bolam', 'boland', 'bold', 'bole', 'bolivia', 'bolivian', 'boll', 'bollocks', 'bollywood', 'bolsheviks', 'bolshoi', 'bolsters', 'bolt', 'bolts', 'boman', 'bomb', 'bombastic', 'bombay', 'bombed', 'bombers', 'bombing', 'bombshells', 'bon', 'bond', 'bondage', 'bonding', 'bone', 'bones', 'bonham', 'bonk', 'bonnie', 'bono', 'bonus', 'boo', 'boobies', 'booby', 'boogers', 'boogeyman', 'boogie', 'book', 'booker', 'booking', 'bookish', 'books', 'bookstore', 'boom', 'boomers', 'boone', 'boonies', 'booooooooobies', 'boop', 'boorman', 'boost', 'boosted', 'boot', 'booth', 'bootleggers', 'boots', 'boozing', 'bops', 'border', 'borderline', 'borders', 'bore', 'boreanaz', 'bored', 'boredom', 'borg', 'borges', 'boring', 'boris', 'born', 'borne', 'borneo', 'borradaile', 'borrow', 'borrowed', 'borrows', 'borzage', 'bosnian', 'boss', 'bostwick', 'bosworth', 'botanist', 'botched', 'both', 'bother', 'bothered', 'bothering', 'bothers', 'bottle', 'bottom', 'bottomed', 'bottoms', 'bought', 'boulder', 'bounce', 'bouncing', 'bouncy', 'bound', 'boundaries', 'bounty', 'bourne', 'bout', 'bouvier', 'bow', 'bowl', 'bowlers', 'bowling', 'box', 'boxer', 'boxes', 'boxing', 'boy', 'boycott', 'boyd', 'boyer', 'boyfriend', 'boyfriends', 'boyhood', 'boyish', 'boyle', 'boys', 'boz', 'bozic', 'bozz', 'br', 'bracco', 'brad', 'bradford', 'bradley', 'brady', 'bragana', 'brain', 'braindead', 'brained', 'brainless', 'brains', 'brainwashed', 'brainwashing', 'brainy', 'brakes', 'branagh', 'branaugh', 'branch', 'branches', 'branching', 'brand', 'brando', 'brandon', 'brannigan', 'braselle', 'brash', 'brashear', 'brashness', 'brass', 'brassed', 'brat', 'brattiest', 'bratty', 'braun', 'brave', 'braveheart', 'bravely', 'bravery', 'bravo', 'brawlers', 'brawny', 'brazil', 'brazilian', 'bread', 'break', 'breakable', 'breakage', 'breakdancing', 'breakfast', 'breakfasts', 'breaking', 'breakout', 'breaks', 'breakthrough', 'breast', 'breasts', 'breath', 'breathed', 'breather', 'breathes', 'breathing', 'breathless', 'breathnach', 'breathtaking', 'breats', 'breckin', 'breckinridge', 'bred', 'bredon', 'breed', 'breezes', 'bregana', 'brenda', 'brendan', 'brennan', 'brent', 'bresson', 'bret', 'brewer', 'brewing', 'brewster', 'brian', 'brick', 'bricked', 'bricks', 'bride', 'brideless', 'brides', 'bridge', 'bridges', 'bridget', 'brief', 'briefcase', 'briefly', 'briefs', 'brien', 'briers', 'brigadier', 'briggs', 'bright', 'brighter', 'brigitte', 'brilliance', 'brilliant', 'brilliantly', 'brimming', 'brinda', 'bring', 'bringing', 'brings', 'brinke', 'brio', 'brisk', 'brisson', 'brit', 'britain', 'britains', 'britcom', 'britfilm', 'british', 'britney', 'britton', 'broached', 'broad', 'broadcast', 'broader', 'broadly', 'broads', 'broadway', 'brobdingnagian', 'brock', 'brodie', 'broke', 'brokedown', 'broken', 'broker', 'bromfield', 'bronson', 'bronstein', 'bronte', 'brontë', 'brooding', 'brooklyn', 'brooks', 'broom', 'broome', 'bros', 'brosnan', 'brothel', 'brother', 'brotherconflict', 'brotherhood', 'brotherly', 'brothers', 'brought', 'brown', 'browne', 'brownshirt', 'browsing', 'brrr', 'bruce', 'bruckheimer', 'bruhl', 'bruise', 'brunda', 'bruneau', 'brunette', 'bruno', 'brunt', 'brusqueness', 'brussels', 'brutal', 'brutality', 'brutally', 'bryan', 'bryant', 'bs', 'btk', 'btw', 'bu', 'buah', 'buaku', 'bubbly', 'bubonic', 'buchanan', 'bucharest', 'buck', 'bucket', 'buckets', 'buckmaster', 'bucks', 'bud', 'buddhists', 'buddies', 'budding', 'buddy', 'budget', 'budgetary', 'buds', 'bueller', 'buff', 'buffalo', 'buffoon', 'buffoonery', 'buffs', 'buffy', 'bug', 'bugger', 'buggy', 'bugling', 'bugs', 'build', 'building', 'buildings', 'builds', 'buildup', 'built', 'bulb', 'bulgarian', 'bulimia', 'bulk', 'bull', 'bullet', 'bulletins', 'bullets', 'bullies', 'bullit', 'bulls', 'bullsh', 'bullwhip', 'bully', 'bullying', 'bum', 'bumblers', 'bumbling', 'bump', 'bumpkins', 'bunch', 'bundles', 'bunker', 'bunnies', 'bunny', 'bunuels', 'burbank', 'burbridge', 'burdened', 'bureau', 'bureaucracy', 'burgeoning', 'burger', 'burgermeister', 'burgess', 'burial', 'buried', 'burke', 'burlesque', 'burlesques', 'burn', 'burned', 'burners', 'burnett', 'burnford', 'burning', 'burns', 'burnstyn', 'burp', 'burqas', 'burst', 'bursting', 'bursts', 'burstyn', 'burt', 'burton', 'bury', 'burying', 'burâddo', 'bus', 'busby', 'buscemi', 'busey', 'busfield', 'bush', 'bushes', 'bushman', 'business', 'businesses', 'businesslike', 'businessman', 'businessmen', 'busom', 'bust', 'buster', 'busts', 'busy', 'but', 'butch', 'butchered', 'butchering', 'butler', 'butt', 'butter', 'butterflies', 'butterfly', 'buttgereit', 'button', 'butts', 'buy', 'buyers', 'buying', 'buys', 'buzz', 'buzzell', 'buzzing', 'by', 'bye', 'bygone', 'bynes', 'byrne', 'byron', 'bystander', 'bytes', 'bête', 'cabal', 'cabanne', 'cabbage', 'cabin', 'cable', 'caca', 'cacophony', 'cactus', 'cad', 'cada', 'caddyshack', 'cadence', 'cadet', 'cadets', 'cafe', 'caffeine', 'café', 'cage', 'caged', 'cagney', 'cahill', 'cahn', 'caimano', 'cain', 'caine', 'cake', 'cal', 'calamitous', 'calamity', 'calculated', 'caleigh', 'calendar', 'calf', 'calhoun', 'caliber', 'calibration', 'calibre', 'california', 'caligari', 'call', 'called', 'caller', 'calligraphic', 'calling', 'calloused', 'calloway', 'calls', 'calm', 'calrissian', 'calson', 'calumniated', 'calvet', 'calvin', 'cama', 'camacho', 'camaraderie', 'camarary', 'camazotz', 'cambodian', 'cambreau', 'camcorder', 'came', 'cameo', 'cameos', 'camera', 'cameraman', 'cameras', 'camerawork', 'cameron', 'cameroon', 'camille', 'camp', 'campaign', 'campaigns', 'campbell', 'camper', 'campers', 'campfire', 'campiness', 'camping', 'camps', 'campus', 'campy', 'camus', 'can', 'canada', 'canadian', 'canal', 'cancel', 'canceling', 'cancelled', 'cancer', 'candice', 'candid', 'candidate', 'candidates', 'candle', 'candlelight', 'candleshoe', 'candor', 'candy', 'cane', 'cannavale', 'cannes', 'cannibal', 'cannibalism', 'cannibals', 'cannon', 'cannonball', 'cannons', 'cannot', 'canoe', 'canoodle', 'cans', 'cant', 'canutt', 'canvas', 'canyon', 'cap', 'capabilities', 'capability', 'capable', 'capably', 'capacity', 'cape', 'caper', 'caperings', 'capers', 'capitaine', 'capital', 'capitalise', 'capitalism', 'capitalist', 'capitalists', 'capitalize', 'capitalizes', 'capote', 'capped', 'capra', 'caprica', 'capsule', 'captain', 'caption', 'captivated', 'captivates', 'captivating', 'captive', 'captivity', 'capture', 'captured', 'captures', 'capturing', 'capulet', 'car', 'carandiru', 'carasso', 'caravan', 'carax', 'carbon', 'card', 'cardboard', 'cards', 'cardz', 'care', 'cared', 'career', 'careers', 'careful', 'carefully', 'careless', 'carelessly', 'carell', 'cares', 'caretaker', 'caretakers', 'carey', 'cargo', 'caribbean', 'caribou', 'caricature', 'caricatures', 'caring', 'carl', 'carla', 'carlise', 'carlito', 'carlo', 'carlos', 'carlson', 'carlton', 'carlyle', 'carmack', 'carmen', 'carmus', 'carnage', 'carnality', 'carnival', 'carol', 'caroline', 'caron', 'carouse', 'carpathian', 'carpenter', 'carpet', 'carradine', 'carrell', 'carrey', 'carriage', 'carriages', 'carrie', 'carried', 'carrier', 'carriers', 'carries', 'carrington', 'carroll', 'carry', 'carrying', 'carrère', 'cars', 'carson', 'cart', 'carter', 'carthage', 'carton', 'cartoon', 'cartoonish', 'cartoons', 'cartoony', 'cartwrights', 'caruso', 'carve', 'cary', 'casablanca', 'case', 'cases', 'casey', 'cash', 'cashier', 'casing', 'casino', 'casper', 'cassandra', 'cassavetes', 'cassel', 'cassette', 'cassi', 'cassidy', 'cassini', 'cast', 'casted', 'castel', 'caster', 'casting', 'castle', 'castrati', 'castro', 'casual', 'casually', 'casualties', 'cat', 'catalan', 'catalina', 'catalogue', 'catastrophe', 'catastrophic', 'catch', 'catches', 'catching', 'catchphrases', 'catchy', 'categorised', 'category', 'catered', 'cateress', 'catering', 'catharsis', 'cathedral', 'catherine', 'catholic', 'catholicism', 'catholics', 'catholiques', 'cathryn', 'catiii', 'cato', 'caton', 'cats', 'catskills', 'cattle', 'catwoman', 'caught', 'cauldron', 'cause', 'caused', 'causes', 'causing', 'caution', 'cautionary', 'cautious', 'cavalli', 'cavanagh', 'cave', 'caveman', 'cavemen', 'caves', 'cavil', 'cbc', 'cd', 'ceasar', 'cease', 'cecil', 'cecile', 'cecilia', 'cei', 'celebei', 'celebi', 'celebrate', 'celebrated', 'celebrates', 'celebration', 'celebrity', 'celebs', 'celery', 'celeste', 'celestine', 'celie', 'celine', 'cell', 'cellar', 'cells', 'celluloid', 'cement', 'cemented', 'cemetery', 'censors', 'censorship', 'cent', 'center', 'centered', 'centering', 'centers', 'central', 'centre', 'centres', 'centrically', 'cents', 'centuries', 'century', 'cereal', 'cerebral', 'ceremonies', 'ceremony', 'certain', 'certainly', 'certainty', 'certifiably', 'certification', 'cervi', 'cest', 'ceylon', 'cgi', 'chabon', 'chad', 'chador', 'chagos', 'chagrin', 'chai', 'chain', 'chains', 'chainsaw', 'chainsaws', 'chainsmoking', 'chair', 'chalk', 'challenge', 'challenged', 'challenger', 'challenges', 'challenging', 'chamberlain', 'champ', 'championship', 'chan', 'chance', 'chancery', 'chances', 'chandler', 'chandu', 'chaney', 'chang', 'change', 'changed', 'changes', 'changing', 'channel', 'channels', 'channing', 'chaos', 'chaotic', 'chaplin', 'chapter', 'chapters', 'charachter', 'character', 'characterisation', 'characteristic', 'characteristics', 'characterization', 'characterizations', 'characters', 'charecters', 'charge', 'charged', 'charger', 'charges', 'charging', 'charisma', 'charismatic', 'charisse', 'charles', 'charleton', 'charley', 'charlie', 'charlotte', 'charlton', 'charm', 'charmed', 'charming', 'charmingly', 'charms', 'charter', 'charts', 'chase', 'chased', 'chases', 'chasing', 'chatter', 'chatterboxes', 'chatting', 'chauvinism', 'chavez', 'chavo', 'chazen', 'che', 'cheadle', 'cheap', 'cheapen', 'cheapened', 'cheaper', 'cheapie', 'cheaply', 'cheat', 'cheated', 'cheaters', 'cheating', 'cheats', 'check', 'checked', 'checker', 'checking', 'checklist', 'checkmate', 'checks', 'cheech', 'cheek', 'cheeks', 'cheer', 'cheered', 'cheerful', 'cheerfully', 'cheering', 'cheerleader', 'cheers', 'cheese', 'cheesey', 'cheesiness', 'cheesy', 'chef', 'cheh', 'chelsea', 'chematodes', 'chemical', 'chemicals', 'chemist', 'chemistry', 'chenoweth', 'cher', 'cherie', 'cherise', 'cherish', 'cherry', 'cheryl', 'chess', 'chest', 'chester', 'cheung', 'chevy', 'chew', 'cheyenne', 'chia', 'chiba', 'chicago', 'chick', 'chicken', 'chickens', 'chicks', 'chico', 'chief', 'chiklis', 'child', 'childbirth', 'childhood', 'childhoods', 'childish', 'childlike', 'childlish', 'children', 'chile', 'chilean', 'chiller', 'chillers', 'chilling', 'chills', 'chimney', 'chimp', 'chimps', 'china', 'chinatown', 'chineese', 'chinese', 'chink', 'chinpira', 'chintzy', 'chip', 'chipe', 'chirps', 'chirpy', 'chloe', 'chock', 'chocked', 'chocolate', 'choi', 'choice', 'choices', 'choir', 'choke', 'choked', 'cholesterol', 'chomsky', 'chong', 'choose', 'chooses', 'choosing', 'chop', 'chopped', 'chopper', 'choppy', 'chopra', 'chopras', 'choral', 'chord', 'chore', 'choreographed', 'choreography', 'chores', 'chorus', 'chose', 'chosen', 'choses', 'chou', 'chow', 'chris', 'chrissakes', 'chrissy', 'christ', 'christen', 'christens', 'christensen', 'christian', 'christianity', 'christians', 'christianson', 'christie', 'christine', 'christmas', 'christophe', 'christopher', 'christy', 'chromosomes', 'chronicle', 'chronicles', 'chu', 'chubby', 'chuck', 'chuckle', 'chuckled', 'chuckles', 'chuckling', 'chucky', 'chulawasse', 'chun', 'chuncho', 'chunk', 'church', 'churlishly', 'churn', 'churned', 'churns', 'chyna', 'cia', 'cigar', 'cigarette', 'cinderella', 'cine', 'cinema', 'cinemagic', 'cinematic', 'cinematographer', 'cinematographers', 'cinematographic', 'cinematography', 'cinemax', 'circle', 'circles', 'circulation', 'circumstance', 'circumstances', 'circus', 'ciro', 'cites', 'cities', 'citizen', 'citizens', 'city', 'civil', 'civilians', 'civilization', 'clacking', 'clad', 'claim', 'claimed', 'claiming', 'claims', 'clair', 'claire', 'clampett', 'clan', 'clanging', 'clanky', 'clapped', 'clara', 'clare', 'clarence', 'clarify', 'clarissa', 'clarity', 'clark', 'clarke', 'clash', 'clashing', 'class', 'classes', 'classic', 'classical', 'classicks', 'classics', 'classified', 'classmate', 'classmates', 'classroom', 'classrooms', 'classy', 'claude', 'claudel', 'claudia', 'claudius', 'claus', 'clausen', 'claustrophobic', 'claw', 'claws', 'clay', 'claymation', 'claymore', 'clean', 'cleaner', 'cleanliness', 'clear', 'clearly', 'cleavage', 'cleaver', 'clenches', 'clerk', 'cleveland', 'clever', 'cleverly', 'cliche', 'cliched', 'cliches', 'clichès', 'cliché', 'clichéd', 'clichée', 'clichés', 'click', 'clicked', 'clicks', 'client', 'clients', 'clientèle', 'cliff', 'cliffhanger', 'cliffhangers', 'clifford', 'cliffs', 'climactic', 'climate', 'climatic', 'climax', 'climb', 'climber', 'climbing', 'climbs', 'climes', 'cling', 'clinging', 'clinic', 'clink', 'clint', 'clinton', 'clip', 'clipboard', 'clique', 'clive', 'cloaks', 'clock', 'clocking', 'clockwork', 'clone', 'cloning', 'clooney', 'close', 'closed', 'closely', 'closer', 'closest', 'closet', 'closets', 'closeups', 'closing', 'closure', 'clot', 'clothes', 'clothing', 'cloudkicker', 'clouds', 'clouse', 'clouseau', 'clown', 'clowns', 'club', 'clubs', 'clue', 'clueless', 'clues', 'clumsy', 'clunks', 'clunky', 'clure', 'cluster', 'clutching', 'clutter', 'clytemnestra', 'clément', 'cn', 'cnn', 'co', 'coach', 'coaching', 'coal', 'coarseness', 'coast', 'coastal', 'coaster', 'coasts', 'coat', 'coated', 'coats', 'coattails', 'coax', 'cobb', 'cobbled', 'coburn', 'cobweb', 'coca', 'cocaine', 'cocker', 'cockney', 'cockroach', 'cocktail', 'cocktails', 'cocoon', 'cocteau', 'cod', 'coda', 'code', 'codes', 'cody', 'coe', 'coen', 'coffee', 'coffin', 'coffins', 'cognates', 'cogs', 'cohabitant', 'cohen', 'coherence', 'coherency', 'coherent', 'cohesive', 'coiffed', 'coilition', 'coin', 'coincide', 'coincidence', 'coincidences', 'coincidentally', 'coincidently', 'coined', 'coke', 'col', 'colagrande', 'colbert', 'cold', 'cole', 'coleman', 'colgate', 'colin', 'collaborations', 'collapse', 'collapses', 'collapsing', 'collar', 'collaring', 'colleague', 'colleagues', 'collect', 'collecting', 'collection', 'collective', 'collectors', 'collects', 'colleen', 'college', 'colleges', 'collegiate', 'collette', 'collie', 'collins', 'collinwood', 'collision', 'colloquialisms', 'colman', 'cologne', 'colombo', 'colonel', 'colonies', 'colony', 'color', 'colorado', 'colorful', 'colorization', 'colorless', 'colors', 'colossal', 'colour', 'coloured', 'colourless', 'colours', 'coltrane', 'columbia', 'columbian', 'columbo', 'columned', 'com', 'combat', 'combination', 'combine', 'combined', 'combines', 'combining', 'combo', 'combs', 'combust', 'come', 'comeback', 'comebacks', 'comedian', 'comedians', 'comedic', 'comedies', 'comedy', 'comely', 'comers', 'comes', 'comet', 'comeuppance', 'comfort', 'comfortable', 'comforting', 'comic', 'comical', 'comics', 'comigo', 'coming', 'command', 'commander', 'commando', 'commend', 'commended', 'commending', 'comment', 'commentary', 'commentator', 'commentators', 'commented', 'commenter', 'commenting', 'comments', 'commerce', 'commercial', 'commercialized', 'commercials', 'commies', 'commissions', 'commit', 'commitment', 'commits', 'committed', 'committee', 'committing', 'commodified', 'commodore', 'common', 'commonly', 'commonplace', 'communicate', 'communicating', 'communion', 'communist', 'communists', 'community', 'commuter', 'comotose', 'companeros', 'companies', 'companion', 'companions', 'companionship', 'company', 'compare', 'compared', 'compares', 'comparing', 'comparison', 'comparisons', 'comparrison', 'compassion', 'compassionate', 'compelled', 'compelling', 'compendium', 'compensate', 'compete', 'competency', 'competent', 'competently', 'competing', 'competition', 'competitive', 'competitiveness', 'compilation', 'complain', 'complained', 'complaining', 'complains', 'complaint', 'complaints', 'complement', 'complements', 'complete', 'completed', 'completely', 'completeness', 'complex', 'complexities', 'complexity', 'complicated', 'complicating', 'complications', 'complicit', 'compliment', 'complimentary', 'complimenting', 'compliments', 'component', 'components', 'composed', 'composer', 'composers', 'composes', 'composition', 'compound', 'comprehend', 'comprehension', 'compressed', 'comprised', 'compromise', 'compromised', 'compulsion', 'compulsive', 'compulsively', 'compunction', 'computer', 'computers', 'comstock', 'con', 'conan', 'conceal', 'conceals', 'conceded', 'conceit', 'conceited', 'conceived', 'conceives', 'concentrate', 'concentrated', 'concentrates', 'concentrating', 'concentration', 'concept', 'conception', 'concepts', 'concern', 'concerned', 'concerning', 'concerns', 'concert', 'concerts', 'conclude', 'concluded', 'concludes', 'conclusion', 'conclusions', 'concoction', 'concocts', 'concorde', 'concrete', 'condemn', 'condemned', 'condensed', 'condensing', 'condescending', 'condescension', 'condition', 'conditions', 'condom', 'condor', 'conducted', 'conductor', 'coney', 'confederate', 'conference', 'confess', 'confessing', 'confession', 'confidant', 'confidence', 'confident', 'confidential', 'confides', 'configured', 'confined', 'confinement', 'confines', 'confirm', 'confirms', 'confiscated', 'conflict', 'conflicted', 'conflicting', 'conflicts', 'confront', 'confrontation', 'confrontational', 'confronted', 'confronts', 'confused', 'confusing', 'confusion', 'congenital', 'congo', 'congratulate', 'congratulatory', 'congressional', 'congressman', 'conjoined', 'conjured', 'conjures', 'connect', 'connected', 'connecticutt', 'connecting', 'connection', 'connections', 'connects', 'conned', 'connell', 'connery', 'conniving', 'connoisseurs', 'connolly', 'connor', 'conquered', 'conquers', 'conrad', 'conscience', 'conscientious', 'conscious', 'consciously', 'consciousness', 'consecutive', 'consensus', 'consenting', 'consequences', 'consequential', 'consequently', 'conservative', 'consider', 'considerable', 'considerably', 'considerate', 'consideration', 'considerations', 'considered', 'considering', 'considers', 'consist', 'consisted', 'consistent', 'consistently', 'consisting', 'consists', 'conspicuous', 'conspicuously', 'conspiracies', 'conspiracy', 'constance', 'constant', 'constantly', 'constants', 'constitutes', 'constitutional', 'constrained', 'constraints', 'constricted', 'constrictor', 'construct', 'constructed', 'construction', 'consuelo', 'consumed', 'consumerism', 'consumption', 'contact', 'contacts', 'contain', 'contained', 'containers', 'containing', 'contains', 'contemporaries', 'contemporary', 'contempt', 'contemptible', 'contend', 'contender', 'content', 'contention', 'contents', 'contest', 'contestants', 'context', 'continental', 'contini', 'continual', 'continually', 'continuation', 'continue', 'continued', 'continues', 'continuity', 'continuous', 'contract', 'contractor', 'contradict', 'contradiction', 'contradictions', 'contradictory', 'contrary', 'contrast', 'contrasted', 'contribute', 'contributed', 'contributes', 'contribution', 'contributions', 'contrived', 'contriving', 'control', 'controlled', 'controlling', 'controls', 'controversial', 'controversy', 'convenience', 'conveniences', 'convenient', 'convention', 'conventional', 'converge', 'conversation', 'conversations', 'conversing', 'convert', 'converted', 'convey', 'conveyed', 'conveying', 'conveyor', 'convicted', 'conviction', 'convicts', 'convince', 'convinced', 'convinces', 'convincing', 'convincingly', 'convoluted', 'cook', 'cookbook', 'cookie', 'cooking', 'cooks', 'cool', 'cooler', 'coolio', 'coolly', 'coolness', 'coonskin', 'coop', 'cooper', 'coote', 'cop', 'cope', 'copied', 'copies', 'coping', 'copper', 'coppola', 'cops', 'copy', 'copyright', 'corben', 'corbett', 'corbin', 'cordell', 'corder', 'core', 'corey', 'corin', 'corinne', 'corkscrew', 'corky', 'corman', 'corn', 'cornelia', 'cornell', 'corner', 'cornered', 'cornillac', 'cornwell', 'corny', 'corollary', 'corporal', 'corporate', 'corporation', 'corpse', 'corpses', 'correct', 'correction', 'correctional', 'correctly', 'correctness', 'correlating', 'corroborration', 'corrosive', 'corrupt', 'corrupted', 'corrupting', 'corson', 'cort', 'cortez', 'corundum', 'corvette', 'cory', 'cos', 'cosby', 'coscarelli', 'cosimo', 'cosimos', 'cosmatos', 'cosmetic', 'cosmeticians', 'cosmos', 'cost', 'costard', 'costas', 'costner', 'costs', 'costume', 'costumes', 'costuming', 'couch', 'couched', 'coulardeau', 'could', 'couldn', 'coulier', 'coulouris', 'council', 'counsel', 'count', 'counted', 'counter', 'counteroffer', 'counterpart', 'counterparts', 'counterpoint', 'countess', 'countless', 'countries', 'country', 'countryman', 'countryside', 'counts', 'coup', 'couple', 'coupled', 'couples', 'coupon', 'courage', 'courageous', 'courier', 'course', 'courses', 'court', 'courtland', 'courtroom', 'courtrooms', 'courts', 'courtship', 'cousin', 'cousins', 'cove', 'coven', 'cover', 'coverage', 'covered', 'covering', 'covers', 'covert', 'coveted', 'coward', 'cowardice', 'cowboy', 'cowering', 'cowgirl', 'coworker', 'cowper', 'cox', 'coyote', 'coys', 'coz', 'cr', 'cr4p', 'cr5eate', 'crabs', 'crack', 'cracked', 'cracker', 'crackers', 'cracking', 'crackle', 'cradle', 'craft', 'crafted', 'craftiness', 'crafts', 'craftsman', 'craftsmanship', 'cragg', 'craig', 'cram', 'cramp', 'crandall', 'crane', 'crank', 'crap', 'crapness', 'crappiest', 'crappily', 'crappiness', 'crappy', 'crash', 'crashed', 'crashes', 'crashing', 'crass', 'cratchit', 'craven', 'craves', 'craving', 'crawford', 'crawl', 'crawled', 'crawling', 'crazed', 'crazies', 'craziness', 'crazy', 'creaky', 'cream', 'creamed', 'create', 'created', 'creates', 'creating', 'creation', 'creations', 'creative', 'creatively', 'creativeness', 'creativity', 'creator', 'creators', 'creature', 'creatures', 'credibility', 'credible', 'credit', 'credited', 'creditors', 'credits', 'credulous', 'creek', 'creep', 'creeped', 'creeper', 'creepiest', 'creepiness', 'creeps', 'creepy', 'crenna', 'crescendo', 'crew', 'crewmate', 'crews', 'crib', 'cribs', 'crichton', 'cried', 'cries', 'crighton', 'crime', 'crimes', 'criminal', 'criminally', 'criminals', 'cringe', 'cringed', 'cringing', 'crippled', 'crises', 'crisis', 'crisp', 'crispin', 'criteria', 'critic', 'critical', 'critically', 'criticism', 'criticize', 'criticized', 'criticizing', 'critics', 'critique', 'critters', 'croatian', 'croc', 'crochet', 'crockett', 'crocodile', 'croft', 'cromoscope', 'cromwell', 'cronenberg', 'cronies', 'crook', 'crooks', 'crop', 'cropping', 'crops', 'crore', 'crosby', 'cross', 'crossed', 'crosseyed', 'crossing', 'crossovers', 'crossroads', 'crotch', 'crouch', 'crouching', 'crouse', 'crowd', 'crowds', 'crown', 'crowned', 'crowning', 'crucial', 'crucified', 'crucifix', 'crucifux', 'crude', 'crudely', 'crudeness', 'crueler', 'cruelly', 'cruelty', 'cruise', 'cruiserweight', 'cruises', 'crumbled', 'crumby', 'crumple', 'crumpled', 'crunching', 'crusade', 'crusades', 'crush', 'crushed', 'crushes', 'crushing', 'crust', 'cruz', 'cry', 'crybaby', 'crying', 'crypt', 'cryptic', 'cryptkeeper', 'crystal', 'crystallizes', 'crystals', 'crystina', 'ctrl', 'ctx', 'cuba', 'cuban', 'cube', 'cubes', 'cubitt', 'cuckoo', 'cuddle', 'cuddly', 'cues', 'cuff', 'culkin', 'cullum', 'culp', 'culpability', 'culprit', 'cult', 'cultists', 'cultivate', 'cults', 'cultural', 'culture', 'cumming', 'cumulative', 'cunard', 'cundey', 'cundieff', 'cunning', 'cunningham', 'cup', 'curates', 'curb', 'cure', 'cured', 'cures', 'curing', 'curiosity', 'curious', 'curiously', 'curl', 'curled', 'curling', 'curls', 'curly', 'curr', 'current', 'currently', 'currents', 'curriculum', 'curse', 'cursed', 'curses', 'cursing', 'cursor', 'cursory', 'curtain', 'curtis', 'curtiz', 'curves', 'cusack', 'cusak', 'cushing', 'custer', 'custody', 'customer', 'customers', 'customs', 'cut', 'cute', 'cuteness', 'cutlery', 'cutout', 'cutouts', 'cuts', 'cutter', 'cutting', 'cuttrell', 'cuz', 'cv', 'cw', 'cyber', 'cybil', 'cybill', 'cyborg', 'cyborgs', 'cycle', 'cyclical', 'cylon', 'cylons', 'cynical', 'cynicism', 'cynics', 'cynthia', 'cypher', 'czech', 'cédric', 'céline', 'da', 'dabbling', 'dabney', 'dabs', 'dad', 'daddy', 'dafoe', 'daft', 'daftardar', 'dagger', 'dahl', 'dahmer', 'dailey', 'daily', 'dainton', 'daisy', 'dakota', 'dakotas', 'dalarna', 'dale', 'dalip', 'dallas', 'dalliance', 'dalmatian', 'dalmatians', 'dalmations', 'dalton', 'daltrey', 'daly', 'dam', 'damage', 'damaged', 'damaging', 'dame', 'dames', 'damiani', 'damien', 'damme', 'dammit', 'damn', 'damned', 'damon', 'damp', 'damsel', 'dan', 'dana', 'dance', 'danced', 'dancehall', 'dancer', 'dancers', 'dances', 'dancing', 'dandy', 'dane', 'daneldorado', 'danelia', 'daneliuc', 'danes', 'dang', 'danger', 'dangerous', 'dangerously', 'dangling', 'dani', 'daniel', 'daniela', 'danielle', 'daniels', 'danish', 'danner', 'danning', 'danny', 'dante', 'danyael', 'daoshvili', 'daphne', 'dara', 'darbar', 'dare', 'dares', 'daria', 'daring', 'dario', 'dark', 'darkened', 'darker', 'darkest', 'darkman', 'darkness', 'darko', 'darlene', 'darling', 'darn', 'darryl', 'darts', 'darwell', 'darwin', 'dashing', 'dashingly', 'dasilva', 'data', 'date', 'dated', 'dates', 'dating', 'dau', 'daughter', 'daughterly', 'daughters', 'daunting', 'dave', 'david', 'davies', 'davis', 'dawson', 'day', 'daylight', 'days', 'daytime', 'dazzle', 'dazzled', 'dazzling', 'de', 'dead', 'deadly', 'deadpan', 'deaf', 'deal', 'dealer', 'dealing', 'dealings', 'deals', 'dealt', 'dean', 'deanna', 'dear', 'death', 'deathbed', 'deaths', 'deathstalker', 'deathtrap', 'debacle', 'debatable', 'debate', 'debauchery', 'debbie', 'debit', 'deborah', 'debra', 'debt', 'debut', 'decade', 'decades', 'decalogue', 'decameron', 'decapitated', 'decca', 'deceased', 'deceit', 'deceiving', 'deceivingly', 'decency', 'decent', 'deception', 'deceptive', 'deceptively', 'dechifered', 'decide', 'decided', 'decidedly', 'decides', 'deciding', 'decipher', 'decision', 'decisions', 'declaration', 'declare', 'declared', 'declares', 'decline', 'declined', 'declining', 'decoding', 'decommissioned', 'deconstruct', 'deconstruction', 'deconstructs', 'decorated', 'decoration', 'decors', 'decoy', 'dedicated', 'dedication', 'dedications', 'deduced', 'deduct', 'dee', 'deed', 'deem', 'deemed', 'deep', 'deepening', 'deeper', 'deeply', 'deepti', 'deer', 'deewaar', 'def', 'defeated', 'defeating', 'defects', 'defence', 'defend', 'defendant', 'defended', 'defending', 'defensa', 'defense', 'defenseless', 'deferred', 'deficit', 'defies', 'definately', 'define', 'defined', 'definetely', 'definetly', 'defining', 'definite', 'definitely', 'definition', 'definitive', 'definitively', 'deflected', 'deformed', 'deformities', 'deft', 'defy', 'defying', 'degenerate', 'degenerates', 'degrading', 'degree', 'degrees', 'dehumanization', 'dei', 'deidre', 'deighton', 'deja', 'dekker', 'del', 'delapidated', 'delaware', 'delay', 'delectable', 'deleted', 'delia', 'deliberate', 'deliberately', 'delicate', 'delicately', 'delicious', 'deliciously', 'delight', 'delighted', 'delightful', 'delightfully', 'delights', 'delinquent', 'delinquents', 'delirious', 'deliver', 'deliverance', 'delivered', 'delivering', 'delivers', 'delivery', 'delpy', 'delude', 'deluded', 'deluise', 'delusional', 'delved', 'delves', 'dem', 'demand', 'demanded', 'demands', 'demeaning', 'demeanor', 'demented', 'demerit', 'demise', 'demo', 'democracy', 'democratic', 'demographic', 'demolished', 'demolition', 'demon', 'demongeot', 'demonic', 'demons', 'demonstrably', 'demonstrate', 'demonstrated', 'demonstrates', 'demotes', 'demunn', 'demystify', 'den', 'denchs', 'denholm', 'denial', 'denied', 'deniro', 'denis', 'denise', 'denison', 'denizens', 'denmark', 'dennis', 'denny', 'denomination', 'denominator', 'denotes', 'denouement', 'dens', 'dentist', 'dentistry', 'dentists', 'denunciation', 'denver', 'deny', 'denying', 'denzel', 'denzil', 'depalma', 'depardieu', 'departed', 'department', 'departments', 'departure', 'depend', 'dependances', 'dependent', 'depending', 'depends', 'depict', 'depicted', 'depiction', 'depictions', 'depicts', 'depp', 'depraved', 'deprecating', 'depressed', 'depressing', 'depression', 'depth', 'deputy', 'der', 'derek', 'dereks', 'derisive', 'derive', 'derived', 'derman', 'dermot', 'dern', 'derogatory', 'des', 'descendant', 'descendants', 'descending', 'descends', 'descent', 'deschanel', 'describe', 'described', 'describes', 'describing', 'descript', 'description', 'desdemona', 'desecrated', 'desecration', 'desert', 'deserted', 'deserts', 'deserve', 'deserved', 'deservedly', 'deserves', 'deserving', 'deservingly', 'desh', 'design', 'designed', 'designer', 'designs', 'desire', 'desires', 'desist', 'desk', 'desolate', 'despair', 'despairing', 'desperate', 'desperately', 'desperation', 'despise', 'despite', 'despondently', 'destabilise', 'dester', 'destination', 'destinations', 'destined', 'destins', 'destiny', 'destroy', 'destroyed', 'destroying', 'destroys', 'destruction', 'destructive', 'detached', 'detail', 'detailed', 'detailing', 'details', 'detained', 'detect', 'detective', 'detectives', 'detention', 'deter', 'deteriorate', 'determination', 'determined', 'determines', 'detmers', 'detract', 'detracted', 'detraction', 'detractor', 'detroit', 'deus', 'dev', 'devastated', 'devastates', 'devastating', 'develop', 'developed', 'developing', 'development', 'developments', 'develops', 'deviant', 'deviate', 'device', 'devices', 'devil', 'devils', 'devin', 'devine', 'devious', 'devlin', 'devoid', 'devote', 'devoted', 'devotee', 'devotees', 'devotion', 'devours', 'devout', 'dewitt', 'dexter', 'dezel', 'dhol', 'dhoom', 'dhoom2', 'di', 'diabolical', 'diaboliques', 'diage', 'diagnosed', 'dial', 'dialect', 'dialog', 'dialogs', 'dialogue', 'dialoques', 'dialouge', 'diametrically', 'diamond', 'diana', 'diane', 'dianne', 'diaries', 'diarrhea', 'diary', 'diaspora', 'diatribe', 'dibiase', 'dicaprio', 'dick', 'dickens', 'dickinson', 'dictated', 'dictates', 'dictator', 'dictatorship', 'diction', 'dictionary', 'did', 'didactic', 'didn', 'die', 'died', 'diego', 'dieing', 'dien', 'dies', 'diesel', 'dietrich', 'differ', 'difference', 'differences', 'different', 'differentiate', 'differently', 'differs', 'difficult', 'difficulties', 'difficulty', 'difranco', 'dig', 'digest', 'digestible', 'dighton', 'digi', 'digital', 'digitally', 'digits', 'dignified', 'dignity', 'digress', 'digs', 'dil', 'dilapidated', 'dildar', 'dildo', 'dilemma', 'dilemmas', 'dilettantish', 'dilip', 'dillinger', 'dillon', 'dilly', 'diluted', 'dim', 'dimeco', 'dimension', 'dimensional', 'dimensions', 'diminish', 'diminishes', 'dims', 'dimwit', 'din', 'dine', 'dingoes', 'dingos', 'dinner', 'dino', 'dinos', 'dinosaur', 'dinosaurs', 'dinotopia', 'dint', 'dion', 'dip', 'dipaolo', 'dipped', 'dippie', 'dips', 'dire', 'direct', 'directed', 'directer', 'directing', 'direction', 'directions', 'directly', 'director', 'directorial', 'directors', 'directs', 'dirge', 'dirt', 'dirty', 'diry', 'dis', 'disabilities', 'disabled', 'disablement', 'disadvantaged', 'disagree', 'disagreement', 'disagreements', 'disagrees', 'disappear', 'disappearance', 'disappeared', 'disappearing', 'disappears', 'disappoint', 'disappointed', 'disappointing', 'disappointingly', 'disappointment', 'disappoints', 'disarmament', 'disaster', 'disasters', 'disastor', 'disastrous', 'disavowed', 'disbelief', 'disc', 'discarded', 'discards', 'discernible', 'disciples', 'discipleship', 'disclaimer', 'disclosed', 'disco', 'discomfort', 'discomforting', 'disconcert', 'disconcerting', 'disconnected', 'discontents', 'discount', 'discouraging', 'discourses', 'discover', 'discovered', 'discoveries', 'discovering', 'discovers', 'discovery', 'discriminates', 'discrimination', 'discs', 'discuss', 'discussed', 'discusses', 'discussing', 'discussion', 'discussions', 'disease', 'diseased', 'diseases', 'disemboweling', 'disenfranchised', 'disfigurement', 'disgrace', 'disgraced', 'disgraceful', 'disgruntled', 'disguise', 'disguised', 'disgust', 'disgusted', 'disgusting', 'disgustingly', 'disgusts', 'dish', 'dishes', 'dishonor', 'disintegration', 'disjointed', 'disks', 'dislikably', 'dislike', 'disliked', 'disliking', 'dismally', 'dismay', 'dismayed', 'dismiss', 'dismisses', 'disney', 'disneyland', 'disneys', 'disobeys', 'disorder', 'disorganised', 'disorganized', 'disoriented', 'disparity', 'dispatch', 'dispatched', 'dispatches', 'dispelled', 'dispenses', 'displaced', 'display', 'displayed', 'displaying', 'displays', 'displeasure', 'disporting', 'disposal', 'dispose', 'disposing', 'dispossessed', 'dispute', 'disputed', 'disqualifying', 'disregard', 'disregards', 'disrespect', 'disrupt', 'dissatisfaction', 'dissatisfied', 'dissection', 'disseminated', 'dissenters', 'dissertation', 'disservice', 'dissimilar', 'dissing', 'dissociates', 'dissolution', 'dissolve', 'dissolves', 'distance', 'distant', 'distinction', 'distinctive', 'distinctively', 'distinctiveness', 'distinctly', 'distinguish', 'distinguished', 'distorted', 'distorting', 'distortion', 'distract', 'distracted', 'distracting', 'distraction', 'distractive', 'distraught', 'distress', 'distressed', 'distressing', 'distributor', 'distributors', 'district', 'disturb', 'disturbed', 'disturbing', 'disturbingly', 'ditties', 'ditto', 'dive', 'diver', 'diverges', 'diverse', 'diversion', 'dives', 'divided', 'divine', 'divinely', 'diving', 'division', 'divisional', 'divisions', 'divisive', 'divisiveness', 'divorce', 'divorced', 'divorcing', 'divulges', 'diwani', 'dixon', 'djalili', 'dk', 'dmz', 'dna', 'do', 'doc', 'dock', 'doctor', 'doctors', 'documentaries', 'documentary', 'documented', 'documents', 'dodesukaden', 'dodge', 'dodging', 'does', 'doesn', 'doesnt', 'dog', 'doggedly', 'doggett', 'doggie', 'doghi', 'dogma', 'dogs', 'dogsbody', 'doh', 'doilies', 'doing', 'doings', 'dola', 'dolemite', 'doli', 'doll', 'dollar', 'dollars', 'dolls', 'dolly', 'dolman', 'dolomites', 'dolph', 'dolphin', 'domain', 'domergue', 'domestic', 'dominant', 'dominate', 'dominated', 'dominates', 'dominating', 'domination', 'domineering', 'dominic', 'dominick', 'domino', 'don', 'donald', 'donate', 'done', 'dongen', 'donna', 'donnelly', 'donning', 'donor', 'dont', 'doo', 'doom', 'doomed', 'doon', 'door', 'doors', 'doorstep', 'dop', 'dope', 'dopey', 'doppelganger', 'dorado', 'doreen', 'doren', 'dorf', 'dorff', 'dorie', 'doris', 'dorm', 'dormael', 'dorothy', 'dorsey', 'dort', 'dosages', 'dose', 'dosen', 'doses', 'dostoyevsky', 'dotes', 'dotty', 'double', 'doubt', 'doubters', 'doubtfully', 'doubting', 'doubtlessly', 'doubts', 'douchet', 'doug', 'dought', 'douglas', 'doused', 'down', 'downed', 'downey', 'downfall', 'downhill', 'downplaying', 'downpour', 'downright', 'downs', 'downside', 'downstairs', 'downtown', 'downtrodden', 'downward', 'doyle', 'doze', 'dozen', 'dozens', 'dp', 'dr', 'drab', 'dracht', 'dracula', 'draft', 'drafted', 'drag', 'dragged', 'dragging', 'draggy', 'drago', 'dragon', 'dragonball', 'dragonfly', 'dragons', 'drags', 'drain', 'drained', 'drainpipe', 'drake', 'drama', 'dramamine', 'dramas', 'dramatic', 'dramatically', 'dramatization', 'dramatized', 'drank', 'drastic', 'drastically', 'draw', 'drawback', 'drawer', 'drawers', 'drawing', 'drawings', 'drawling', 'drawn', 'dread', 'dreadful', 'dreads', 'dream', 'dreamcast', 'dreamed', 'dreamer', 'dreaming', 'dreams', 'dreamy', 'dreary', 'dreck', 'drenched', 'dresch', 'dress', 'dressed', 'dresses', 'dressing', 'dressings', 'dressler', 'drew', 'drews', 'dreyer', 'dreyfuss', 'dried', 'drift', 'drifting', 'drill', 'driller', 'drilling', 'drink', 'drinking', 'drinks', 'dripped', 'drippingly', 'drips', 'drive', 'drivel', 'driven', 'driver', 'drives', 'driving', 'droids', 'droll', 'drone', 'droned', 'droning', 'drool', 'droopy', 'drop', 'dropped', 'dropping', 'drops', 'dross', 'drought', 'drove', 'drovers', 'droves', 'drown', 'drowned', 'drowning', 'drug', 'drugged', 'drugs', 'drummer', 'drumming', 'drums', 'drunk', 'drunken', 'drusilla', 'dry', 'dub', 'dubbed', 'dubbing', 'dubey', 'dubious', 'dublin', 'dubs', 'duchess', 'duchovney', 'duchovny', 'duck', 'duckling', 'dud', 'dude', 'dudes', 'dudley', 'duds', 'duduks', 'due', 'duel', 'dues', 'duet', 'duff', 'duffell', 'dufus', 'duh', 'duk', 'duke', 'dukes', 'dull', 'dullard', 'dumb', 'dumbed', 'dumber', 'dumbness', 'dump', 'dumped', 'dumping', 'dumps', 'dumpster', 'dunaway', 'duncan', 'dung', 'dunne', 'dunnit', 'dunno', 'duo', 'dupatta', 'duplex', 'duprez', 'duquenne', 'durante', 'duration', 'durbin', 'duress', 'during', 'duryea', 'dusk', 'dust', 'dustbins', 'dustin', 'dusty', 'dutch', 'dutiful', 'dutt', 'duty', 'duvall', 'dvd', 'dvds', 'dwarf', 'dwarfed', 'dwarfs', 'dwayne', 'dwell', 'dwelt', 'dwelves', 'dwight', 'dwindling', 'dx', 'dyer', 'dying', 'dylan', 'dynamic', 'dynamics', 'dynamite', 'dynasty', 'dysfunction', 'dysfunctional', 'dystrophy', 'each', 'eadie', 'eager', 'eagerly', 'eagerness', 'ealing', 'ealings', 'ear', 'earl', 'earlier', 'earliest', 'early', 'earn', 'earned', 'earnest', 'earning', 'earnings', 'earns', 'earp', 'earring', 'ears', 'earth', 'earthquake', 'ease', 'easel', 'easier', 'easiest', 'easily', 'east', 'eastern', 'eastwood', 'eastwoods', 'easy', 'eat', 'eaten', 'eater', 'eating', 'eats', 'ebay', 'ebert', 'ec', 'eccentric', 'eccentricmother', 'eccentrics', 'eccleston', 'echo', 'echoed', 'echoes', 'echoing', 'eclectic', 'eclipse', 'eclipsing', 'eclisse', 'economic', 'economy', 'ecstasy', 'ecstatic', 'ed', 'eddie', 'eddy', 'edgar', 'edge', 'edged', 'edgy', 'edie', 'edina', 'edison', 'edit', 'edited', 'editing', 'edition', 'editor', 'editors', 'edits', 'edmond', 'edmund', 'eduard', 'eduardo', 'educated', 'education', 'educational', 'edward', 'edwina', 'eeeeh', 'eerie', 'eerily', 'eeriness', 'effect', 'effective', 'effectively', 'effectiveness', 'effects', 'effeminate', 'effort', 'effortlessly', 'efforts', 'effusively', 'efx', 'egan', 'egged', 'eggs', 'ego', 'egoist', 'egomaniac', 'egos', 'egotistical', 'egregious', 'egypt', 'egyptian', 'eh', 'eight', 'eighth', 'eighties', 'einon', 'einstein', 'eisenhower', 'either', 'ej', 'ek', 'el', 'elaborate', 'elam', 'elderly', 'eldest', 'elected', 'election', 'electric', 'electrical', 'electricity', 'electrifying', 'electronic', 'electronics', 'elegance', 'elegant', 'elegantly', 'element', 'elementary', 'elements', 'elephant', 'elephants', 'elevated', 'elevates', 'elevator', 'elevators', 'eleven', 'elga', 'eli', 'elia', 'elicit', 'eliciting', 'elijah', 'eliminating', 'elisabeth', 'elisha', 'elite', 'elizabeth', 'elizondo', 'elle', 'ellen', 'ellender', 'ellington', 'elliot', 'elliott', 'ellipses', 'ellis', 'ellison', 'elm', 'elmer', 'elmes', 'elmo', 'eloquence', 'elsa', 'else', 'elses', 'elsewhere', 'elson', 'elton', 'eludes', 'elves', 'elvira', 'elvis', 'elwes', 'ely', 'elysee', 'em', 'embarassing', 'embark', 'embarks', 'embarrass', 'embarrassed', 'embarrassing', 'embarrassingly', 'embarrassment', 'embellished', 'embeth', 'embezzler', 'embodied', 'embody', 'embrace', 'embracing', 'emerge', 'emerged', 'emerges', 'emerging', 'emigrates', 'emil', 'emilfork', 'emily', 'eminem', 'emissary', 'emitting', 'emma', 'emmanuel', 'emmanuelle', 'emmenthal', 'emmy', 'emoting', 'emotion', 'emotional', 'emotionally', 'emotionless', 'emotions', 'empathetic', 'empathize', 'empathy', 'emperor', 'emphasis', 'emphasizes', 'emphatically', 'empire', 'employ', 'employed', 'employee', 'employees', 'employs', 'empowerment', 'emptiest', 'emptour', 'empty', 'emy', 'en', 'enable', 'enablers', 'enables', 'enacted', 'enactment', 'enacts', 'enamored', 'encased', 'enchanted', 'enchanting', 'enchantingly', 'enchantment', 'encoded', 'encompassing', 'encore', 'encounter', 'encountered', 'encountering', 'encounters', 'encourage', 'encourages', 'encroachment', 'encultured', 'end', 'endangered', 'endear', 'endearing', 'endearingly', 'endearment', 'endeavor', 'endeavors', 'ended', 'ending', 'endings', 'endless', 'endlessly', 'endorse', 'endorsement', 'endorses', 'endows', 'endpieces', 'ends', 'endurable', 'endure', 'endured', 'endures', 'enema', 'enemies', 'enemy', 'energetic', 'energy', 'enfance', 'enforcement', 'enforcer', 'engage', 'engaged', 'engagement', 'engages', 'engaging', 'engagingly', 'engine', 'engineer', 'engineered', 'engineering', 'engineers', 'england', 'englanders', 'english', 'englishman', 'englund', 'engrish', 'engrossed', 'engrossing', 'enhance', 'enhanced', 'enhancements', 'enhancers', 'enhances', 'enigmatic', 'enjoy', 'enjoyable', 'enjoyed', 'enjoying', 'enjoyment', 'enjoys', 'enlighten', 'enlightened', 'enlist', 'enlisted', 'enlisting', 'enlists', 'ennio', 'enormeous', 'enormous', 'enormously', 'enough', 'enraged', 'enrapture', 'ensemble', 'ensenada', 'enslavement', 'ensnare', 'ensue', 'ensues', 'ensuing', 'ensure', 'ensured', 'ensures', 'ensuring', 'entangled', 'enter', 'entered', 'entering', 'enterprise', 'enters', 'entertain', 'entertained', 'entertainers', 'entertaining', 'entertainingly', 'entertainment', 'entertainments', 'entertains', 'enthralling', 'enthusiasm', 'enthusiast', 'enthusiastic', 'enthusiastically', 'enthusiasts', 'enticing', 'entire', 'entirely', 'entities', 'entitled', 'entity', 'entomologist', 'entrains', 'entrance', 'entranced', 'entrancing', 'entrapment', 'entrepreneur', 'entries', 'entrusted', 'entry', 'environment', 'environmentalism', 'environments', 'envision', 'envisioned', 'envoked', 'envy', 'eo', 'ephemeral', 'epic', 'epicenter', 'epics', 'epilepsy', 'epilogue', 'episode', 'episodes', 'episodic', 'episopes', 'epitome', 'epitomized', 'epochal', 'epps', 'equal', 'equalling', 'equally', 'equation', 'equipment', 'equivalent', 'equivocations', 'er', 'era', 'eradicated', 'eras', 'erase', 'erased', 'eraserhead', 'erasing', 'erb', 'erected', 'eric', 'erich', 'erik', 'erika', 'ernest', 'ernesto', 'ernie', 'erosive', 'erotic', 'err', 'erratic', 'erred', 'errol', 'erroneous', 'error', 'errors', 'ers', 'erudite', 'erupted', 'erupts', 'esau', 'escalate', 'escalates', 'escalating', 'escapade', 'escapades', 'escape', 'escaped', 'escapes', 'escaping', 'escapism', 'escapist', 'escher', 'eschew', 'escort', 'escpecially', 'ese', 'esk', 'eskimo', 'esoteric', 'esp', 'especially', 'esperanza', 'espionage', 'esposito', 'esquire', 'esrechowitz', 'essence', 'essential', 'essentially', 'establish', 'established', 'establishing', 'estate', 'esteem', 'esteemed', 'esterhase', 'esther', 'estimated', 'estonian', 'estranged', 'et', 'eta', 'etait', 'etc', 'eternal', 'eternally', 'eternity', 'ethan', 'ethel', 'ethereal', 'ethnic', 'ethnicity', 'ettore', 'etude', 'eugene', 'eunuch', 'euphoric', 'eureka', 'euripides', 'euro', 'europa', 'europe', 'european', 'europeans', 'eurosleaze', 'eustache', 'eva', 'evacuates', 'evaluation', 'evan', 'evanescence', 'evangelion', 'evans', 'evasion', 'eve', 'evelyn', 'even', 'evening', 'event', 'eventhough', 'events', 'eventual', 'eventually', 'ever', 'everard', 'everett', 'evergreen', 'everlasting', 'every', 'everybody', 'everyday', 'everyman', 'everyone', 'everything', 'everywhere', 'evidence', 'evident', 'evidently', 'evil', 'evils', 'evoke', 'evoked', 'evokes', 'evolution', 'evolutions', 'evolve', 'evolves', 'evolving', 'evos', 'ewan', 'ewoks', 'ex', 'exact', 'exacting', 'exactly', 'exacts', 'exaggerated', 'exaggerating', 'exaltation', 'examination', 'examine', 'examined', 'examiner', 'examining', 'example', 'examples', 'exasperation', 'exceeding', 'exceeds', 'excelled', 'excellence', 'excellent', 'excels', 'except', 'exception', 'exceptional', 'exceptionally', 'exceptions', 'excerpts', 'excess', 'excessive', 'excessively', 'exchange', 'excised', 'excitable', 'excited', 'excitement', 'excitements', 'exciting', 'excitingly', 'exclamation', 'exclude', 'excluded', 'excluding', 'exclusively', 'exclusivity', 'excrement', 'excretion', 'excruciatingly', 'excursion', 'excuse', 'excused', 'exec', 'execrable', 'executed', 'execution', 'executions', 'executive', 'executives', 'exeggcute', 'exercise', 'exerted', 'exertion', 'exhibitionism', 'exhibitionist', 'exhibitions', 'exhibits', 'exhooker', 'exile', 'exist', 'existed', 'existence', 'existent', 'exists', 'exit', 'exonerate', 'exorcises', 'exorcism', 'exorcist', 'exotic', 'expand', 'expanded', 'expanding', 'expands', 'expansive', 'expansiveness', 'expcept', 'expect', 'expectation', 'expectations', 'expected', 'expectedly', 'expecting', 'expects', 'expedient', 'expedition', 'expense', 'expensive', 'experience', 'experienced', 'experiences', 'experiencing', 'experiment', 'experimental', 'experiments', 'expert', 'expertise', 'expertly', 'experts', 'explain', 'explained', 'explaining', 'explains', 'explanation', 'explanations', 'explicit', 'explicitly', 'explode', 'explodes', 'exploit', 'exploitation', 'exploitative', 'exploited', 'exploiting', 'exploitive', 'exploits', 'exploration', 'explore', 'explored', 'explores', 'exploring', 'explosion', 'explosions', 'explosive', 'expolsion', 'exported', 'expose', 'exposed', 'exposes', 'exposing', 'exposition', 'expository', 'exposure', 'express', 'expresses', 'expressing', 'expression', 'expressionism', 'expressionistic', 'expressionless', 'expressions', 'expressive', 'expressiveness', 'exquisite', 'exquisitely', 'extend', 'extended', 'extensive', 'extensively', 'extent', 'exterior', 'extinct', 'extinguishers', 'extra', 'extraordinary', 'extras', 'extraterrestrials', 'extravagant', 'extreme', 'extremely', 'extremes', 'exuberance', 'exuberant', 'exudes', 'eye', 'eyebrow', 'eyebrows', 'eyed', 'eyelids', 'eyeliner', 'eyes', 'eyesight', 'eyesore', 'eyewitness', 'eyre', 'faat', 'fabio', 'fable', 'fabric', 'fabulous', 'fabulously', 'facade', 'face', 'faced', 'faceless', 'faces', 'facet', 'faceted', 'facets', 'facial', 'facility', 'facing', 'facsimile', 'fact', 'faction', 'factor', 'factors', 'factory', 'facts', 'factual', 'fade', 'faded', 'fades', 'fading', 'faggus', 'fahey', 'fai', 'fail', 'failed', 'failing', 'fails', 'failure', 'failures', 'faint', 'fainting', 'faints', 'fair', 'fairborn', 'fairly', 'fairness', 'fairy', 'fairytale', 'faison', 'faith', 'faithful', 'fake', 'faked', 'fakes', 'faking', 'falco', 'falcon', 'falk', 'falkland', 'fall', 'fallacy', 'fallen', 'fallibility', 'falling', 'fallon', 'fallout', 'falls', 'false', 'falsities', 'falter', 'fame', 'famed', 'familial', 'familiar', 'familiarity', 'families', 'family', 'famine', 'famous', 'fan', 'fanaa', 'fanatasy', 'fanatic', 'fanatical', 'fanatics', 'fanboys', 'fanciful', 'fancy', 'fanfan', 'fangs', 'fannie', 'fannish', 'fannn', 'fanny', 'fans', 'fantasies', 'fantasist', 'fantastic', 'fantastically', 'fantasy', 'fante', 'far', 'faraway', 'farce', 'farcical', 'fare', 'fared', 'farily', 'farm', 'farman', 'farmer', 'farmhouse', 'farnsworth', 'farrady', 'farrell', 'fart', 'farther', 'farting', 'farts', 'fascinated', 'fascinates', 'fascinating', 'fascination', 'fascism', 'fascist', 'fashion', 'fashionable', 'fashioned', 'fasinating', 'fast', 'fastball', 'faster', 'fastest', 'fat', 'fatal', 'fatale', 'fate', 'fated', 'father', 'fatherliness', 'fathers', 'fatigue', 'fatigued', 'fatigues', 'fatter', 'faubourg', 'fault', 'faulted', 'faults', 'faux', 'fav', 'favor', 'favorably', 'favored', 'favorite', 'favorites', 'favors', 'favortie', 'favortism', 'favour', 'favourable', 'favourably', 'favourite', 'favourites', 'favours', 'fawcett', 'fay', 'faye', 'façade', 'fbi', 'fear', 'feared', 'fearful', 'fearing', 'fearless', 'fearlessly', 'fears', 'fearsome', 'feast', 'feasts', 'feat', 'feather', 'feathered', 'featherweight', 'feats', 'feature', 'featured', 'features', 'featurette', 'featuring', 'feb', 'february', 'fecal', 'feckless', 'fecund', 'fed', 'federation', 'fee', 'feebly', 'feed', 'feeding', 'feeds', 'feel', 'feeling', 'feelings', 'feels', 'feet', 'feign', 'feijó', 'feinstone', 'feirstein', 'feisty', 'feldman', 'feline', 'felix', 'fell', 'felling', 'fellini', 'fellow', 'fellowes', 'fellows', 'fells', 'felon', 'felt', 'female', 'females', 'feminine', 'femininity', 'feminism', 'feminist', 'feminists', 'femme', 'fence', 'fencers', 'fencing', 'feore', 'ferdie', 'ferland', 'fernando', 'ferrel', 'ferrell', 'ferris', 'fervent', 'fervor', 'fest', 'festering', 'festival', 'festivals', 'fetal', 'fetch', 'fetched', 'fetching', 'fetid', 'fetish', 'fetus', 'fetuses', 'feud', 'feudal', 'fever', 'fevered', 'few', 'fey', 'fez', 'fi', 'fiancee', 'fiancé', 'fiasco', 'fiber', 'fication', 'fiction', 'fictional', 'fictionalization', 'fictitious', 'fidani', 'fide', 'fidelity', 'fido', 'field', 'fielding', 'fields', 'fiend', 'fiennes', 'fierce', 'fiery', 'fifteen', 'fifth', 'fifties', 'fifty', 'fight', 'fighter', 'fighters', 'fighting', 'fights', 'figment', 'figure', 'figured', 'figures', 'figurines', 'figuring', 'file', 'files', 'fill', 'filled', 'filler', 'filleted', 'filling', 'fills', 'film', 'filmcow', 'filmed', 'filmfare', 'filmic', 'filming', 'filmmaker', 'filmmakers', 'filmographies', 'filmography', 'filmometer', 'filmrolls', 'films', 'filmstrip', 'filmy', 'filth', 'filthy', 'final', 'finale', 'finally', 'finance', 'financed', 'finances', 'financial', 'financially', 'finch', 'find', 'finding', 'findings', 'finds', 'fine', 'fineman', 'finer', 'finest', 'finger', 'fingernails', 'fingers', 'finish', 'finished', 'finishes', 'finishing', 'finlay', 'finn', 'fintail', 'fiona', 'fire', 'firebomb', 'firecracker', 'fired', 'firefighters', 'firefights', 'fireman', 'firemen', 'fireplace', 'fireworks', 'firing', 'firm', 'firmer', 'firmly', 'first', 'firstly', 'firth', 'fischer', 'fish', 'fishburne', 'fished', 'fisher', 'fisherman', 'fist', 'fistfights', 'fists', 'fit', 'fits', 'fitting', 'fitz', 'five', 'fix', 'fixed', 'flabby', 'flack', 'flag', 'flags', 'flair', 'flak', 'flamboyance', 'flamboyant', 'flame', 'flames', 'flamethrowers', 'flamin', 'flaming', 'flan', 'flanders', 'flanked', 'flannery', 'flapping', 'flare', 'flash', 'flashback', 'flashbacks', 'flashes', 'flashing', 'flashman', 'flashpots', 'flashy', 'flat', 'flatmate', 'flatop', 'flattering', 'flatulence', 'flavia', 'flavor', 'flavour', 'flavourless', 'flaw', 'flawed', 'flawless', 'flaws', 'flea', 'fleadh', 'fleas', 'fled', 'fledgling', 'flee', 'fleeing', 'fleet', 'fleeting', 'fleming', 'flemming', 'flemyng', 'flesh', 'fleshed', 'flew', 'flexibility', 'flic', 'flick', 'flicking', 'flicks', 'flies', 'flight', 'flights', 'flighty', 'flik', 'flimsier', 'flimsy', 'flinch', 'fling', 'flings', 'flipping', 'flips', 'flirting', 'flirts', 'flitter', 'float', 'floating', 'flock', 'flogging', 'flood', 'flooded', 'floor', 'floored', 'floors', 'floozies', 'flop', 'flora', 'florence', 'floriane', 'florida', 'florin', 'flosi', 'flossing', 'flour', 'flow', 'flowed', 'flower', 'flowers', 'flowing', 'flown', 'flows', 'flubbing', 'fluctuating', 'fluent', 'fluff', 'fluffy', 'fluid', 'flung', 'flurry', 'flush', 'flute', 'fluttery', 'fly', 'flyer', 'flying', 'flynn', 'flyte', 'foaming', 'foch', 'focus', 'focused', 'focuses', 'focusing', 'fodder', 'foe', 'foes', 'fog', 'fogbound', 'foil', 'fold', 'folding', 'foliage', 'folk', 'folklore', 'folks', 'follow', 'followable', 'followed', 'followers', 'following', 'followings', 'follows', 'folly', 'fonda', 'fondly', 'fondness', 'fondo', 'fong', 'fontaine', 'fonterbras', 'food', 'fool', 'fooled', 'fooling', 'foolish', 'fools', 'foot', 'footage', 'football', 'footlight', 'footsteps', 'foppish', 'for', 'forbes', 'forbid', 'forbidden', 'force', 'forced', 'forcefully', 'forces', 'forcing', 'ford', 'fordian', 'foreboding', 'foree', 'forehead', 'foreign', 'foreigner', 'foreigners', 'forensics', 'forerunner', 'foreseeable', 'foreshadows', 'forest', 'forever', 'forewarning', 'forged', 'forget', 'forgettable', 'forging', 'forgivable', 'forgive', 'forgiveness', 'forgives', 'forgot', 'forgotten', 'fork', 'forked', 'forks', 'form', 'formal', 'format', 'formed', 'former', 'forming', 'forms', 'formula', 'formulaic', 'formulas', 'formulate', 'formulative', 'fornication', 'forseeable', 'forsythe', 'forsythian', 'fort', 'forth', 'forties', 'fortnight', 'fortress', 'fortunate', 'fortunately', 'fortune', 'forty', 'forum', 'forward', 'forwarded', 'forwarding', 'forwards', 'foster', 'fou', 'fought', 'foul', 'foulata', 'foulkrod', 'found', 'foundation', 'founded', 'founder', 'founding', 'foundling', 'founds', 'four', 'fourteen', 'fourth', 'fowzi', 'fox', 'foxes', 'foxx', 'fp', 'fraction', 'fractured', 'fragasso', 'fragile', 'fragment', 'fragmented', 'fragments', 'frailty', 'frain', 'frakes', 'frame', 'framed', 'frames', 'framework', 'framing', 'france', 'franchise', 'franchot', 'franciosa', 'francis', 'francisca', 'francisco', 'franck', 'franco', 'francois', 'francophile', 'frank', 'frankau', 'frankel', 'frankenstein', 'frankfurt', 'frankie', 'franklin', 'frankly', 'frankness', 'frantic', 'franz', 'fraser', 'fraticelli', 'fraudulent', 'frazer', 'frazier', 'freak', 'freaked', 'freakin', 'freaking', 'freakish', 'freaks', 'freaky', 'freccia', 'frechette', 'fred', 'freddy', 'frederic', 'free', 'freebird', 'freed', 'freedom', 'freejack', 'freeman', 'freeze', 'freezes', 'freight', 'frelling', 'french', 'frequency', 'frequent', 'frequently', 'fresh', 'freshened', 'freshman', 'fret', 'fretted', 'freudian', 'frf', 'friar', 'fricker', 'friday', 'fridge', 'fried', 'friedkin', 'friedman', 'friel', 'friend', 'friendly', 'friends', 'friendship', 'friers', 'fright', 'frightened', 'frightening', 'frighteningly', 'frightfully', 'frights', 'frills', 'fringe', 'fritz', 'frivolous', 'frodo', 'frog', 'frogmarched', 'from', 'front', 'frontal', 'fronted', 'frontier', 'frost', 'frothy', 'frowned', 'frownland', 'fruit', 'fruitless', 'frumpy', 'frustrated', 'frustrating', 'frustration', 'fry', 'frye', 'fryer', 'ftagn', 'fu', 'fudge', 'fuel', 'fueled', 'fufils', 'fugitive', 'fuher', 'fujiko', 'fulci', 'fulfil', 'fulfilling', 'full', 'fuller', 'fullscreen', 'fully', 'fulton', 'fumbling', 'fumigators', 'fun', 'function', 'functional', 'functioning', 'fund', 'fundamental', 'fundamentalists', 'fundamentally', 'funded', 'funds', 'funeral', 'funerals', 'funky', 'funner', 'funnier', 'funniest', 'funnily', 'funny', 'fuqua', 'fur', 'furious', 'furnishings', 'furniture', 'furo', 'further', 'furthermore', 'furtive', 'fury', 'fuselage', 'futile', 'future', 'futures', 'futuristic', 'fuzzy', 'fx', 'féminin', 'fêtes', 'fürmann', 'ga', 'gabby', 'gabe', 'gable', 'gables', 'gabriel', 'gabrielle', 'gackt', 'gades', 'gadget', 'gadgets', 'gaffari', 'gag', 'gagging', 'gaggle', 'gags', 'gail', 'gain', 'gained', 'gains', 'gainsbourgh', 'gal', 'galactic', 'galactica', 'galaxy', 'gale', 'gallico', 'galore', 'gals', 'gamble', 'gambler', 'gamblers', 'gambling', 'game', 'gamer', 'gamera', 'gamers', 'games', 'gaming', 'gamorrean', 'gamut', 'gandhi', 'gandolfini', 'gang', 'gangly', 'gangs', 'gangster', 'gangsters', 'gantlet', 'ganz', 'gap', 'gaps', 'gar', 'garage', 'garam', 'garbage', 'garbed', 'garber', 'garbo', 'garcia', 'gard', 'garde', 'garden', 'gardeners', 'gardens', 'gardiner', 'garish', 'garland', 'garlic', 'garner', 'garners', 'garofalo', 'garr', 'garris', 'garrison', 'gary', 'gas', 'gaslight', 'gasp', 'gasped', 'gassed', 'gate', 'gates', 'gateway', 'gather', 'gathered', 'gathering', 'gauche', 'gauge', 'gauged', 'gauges', 'gauntlet', 'gauri', 'gave', 'gavin', 'gawky', 'gay', 'gaynor', 'gays', 'gaze', 'gazooks', 'gear', 'gearhead', 'geddes', 'gee', 'geek', 'geeks', 'geeky', 'gegen', 'geisha', 'geishas', 'gellar', 'gelling', 'gels', 'gem', 'gems', 'gen', 'gena', 'gender', 'genders', 'gene', 'genera', 'general', 'generally', 'generals', 'generate', 'generated', 'generates', 'generating', 'generation', 'generational', 'generations', 'generic', 'generous', 'generously', 'genetic', 'genette', 'geneva', 'genghis', 'genie', 'genies', 'genious', 'genius', 'geniuses', 'genn', 'genocide', 'genome', 'genre', 'genres', 'gent', 'genteel', 'gentileschi', 'gentle', 'gentleman', 'gentlemen', 'gently', 'genuine', 'genuinely', 'genuineness', 'geoffrey', 'geographic', 'geographically', 'geologist', 'george', 'georges', 'georgian', 'gerald', 'gerard', 'gerbils', 'gere', 'germ', 'german', 'germanic', 'germans', 'germany', 'gerolmo', 'gerrit', 'gerry', 'gershon', 'gershwin', 'gertrude', 'gervais', 'gespenster', 'gestapo', 'gesticulating', 'gesture', 'gestures', 'get', 'getaway', 'gets', 'gettaway', 'getting', 'ghandi', 'gharanas', 'gharlie', 'ghastly', 'ghent', 'ghetto', 'ghidorah', 'ghost', 'ghostbusters', 'ghosting', 'ghostly', 'ghosts', 'ghoststory', 'ghoulish', 'gi', 'giacchino', 'giada', 'gialli', 'giallo', 'giannini', 'giant', 'gibberish', 'gibler', 'giddy', 'gideon', 'gift', 'gifted', 'gifting', 'gifts', 'gig', 'gigantic', 'giggle', 'giggles', 'gilbert', 'gildersleeve', 'gilley', 'gilliam', 'gillian', 'gilligan', 'gilmore', 'gimme', 'gimmick', 'gimmicks', 'gimmicky', 'gina', 'ginger', 'gingold', 'gino', 'gins', 'giombini', 'giordano', 'giovanna', 'giovanni', 'girardot', 'girdle', 'girl', 'girlfriend', 'girlie', 'girls', 'girotti', 'gist', 'gitan', 'gitane', 'gitwisters', 'giulietta', 'give', 'given', 'gives', 'giving', 'gizmos', 'glacial', 'glad', 'gladiator', 'gladiatorial', 'gladys', 'glamor', 'glamorous', 'glamour', 'glances', 'glancing', 'glaring', 'glass', 'glasses', 'glazed', 'gleason', 'glee', 'gleeson', 'glengarry', 'glenn', 'glib', 'glimcher', 'glimmer', 'glimpse', 'glimpsed', 'glimpses', 'glisten', 'glitch', 'glitched', 'glitter', 'glitz', 'global', 'globetrotting', 'gloom', 'gloria', 'glorious', 'gloriously', 'glory', 'glossier', 'glossy', 'gloved', 'glover', 'gloves', 'glow', 'glower', 'glowing', 'glue', 'glutton', 'glyn', 'gm', 'gnatpole', 'gnaw', 'go', 'goa', 'goading', 'goal', 'goals', 'goat', 'goatee', 'gobo', 'gobs', 'god', 'godard', 'godawful', 'godawfully', 'goddamit', 'goddess', 'godfather', 'godfrey', 'godly', 'godmother', 'gods', 'godzilla', 'goebbels', 'goer', 'goers', 'goes', 'goethe', 'going', 'goings', 'gojo', 'gojoe', 'gold', 'goldberg', 'goldblum', 'golden', 'goldeneye', 'goldsworthy', 'goldthwait', 'golf', 'golly', 'gomes', 'gone', 'gonna', 'gonzalez', 'goo', 'good', 'goodbye', 'goodfellas', 'goodie', 'gooding', 'goodness', 'goodnight', 'goods', 'goodtimes', 'goody', 'goof', 'goofiness', 'goofs', 'goofy', 'goon', 'goons', 'goony', 'goose', 'goosebumps', 'gorbunov', 'gordan', 'gordon', 'gordy', 'gore', 'gorgeous', 'gorilla', 'goring', 'gornick', 'gory', 'gosh', 'gospels', 'gossip', 'gossiping', 'got', 'gotell', 'goth', 'gotham', 'gothic', 'gothika', 'gotta', 'gotten', 'goudry', 'gough', 'gov', 'governed', 'governess', 'government', 'governments', 'governs', 'govinda', 'grab', 'grabbed', 'grabbing', 'grable', 'grabs', 'grace', 'graced', 'graceful', 'graces', 'grade', 'grader', 'graders', 'grades', 'gradually', 'graduated', 'graffiti', 'graham', 'grail', 'grain', 'grainy', 'gram', 'grams', 'gran', 'grand', 'granddaughter', 'grande', 'grander', 'grandfather', 'grandfathers', 'grandiose', 'grandma', 'grandmaster', 'grandmother', 'grandpa', 'grandparents', 'grandson', 'grange', 'granny', 'grant', 'granted', 'grapes', 'graphic', 'graphical', 'graphics', 'gras', 'grasp', 'grass', 'grasshopper', 'grat', 'grate', 'grated', 'grateful', 'grates', 'gratification', 'gratitude', 'gratuitous', 'grave', 'gravedigger', 'gravel', 'graver', 'graves', 'gravest', 'graveyard', 'gray', 'grayson', 'graziano', 'grazing', 'grease', 'great', 'greater', 'greatest', 'greatly', 'greatness', 'greece', 'greedy', 'greek', 'greeks', 'green', 'greenaway', 'greendale', 'greene', 'greenfield', 'greengrass', 'greenhouse', 'greenlit', 'greenwood', 'greeted', 'greg', 'gregg', 'gregory', 'greist', 'gremlins', 'greta', 'gretal', 'gretchen', 'grew', 'grey', 'greystoke', 'grieco', 'grief', 'grier', 'grieve', 'grieves', 'griffin', 'griffith', 'griffiths', 'grift', 'grifters', 'grillo', 'grim', 'grimace', 'grinch', 'grinderlin', 'grinding', 'grinned', 'grinning', 'grip', 'gripe', 'griping', 'gripped', 'gripping', 'grips', 'grisby', 'griselda', 'grisly', 'grittiness', 'gritty', 'grizzled', 'groan', 'grocery', 'grodin', 'groin', 'grooms', 'groovay', 'groove', 'groovin', 'groovy', 'gross', 'grossest', 'grossing', 'grossly', 'grotesque', 'grotesquely', 'groult', 'ground', 'groundbreaking', 'grounding', 'grounds', 'groundskeeper', 'group', 'groups', 'grove', 'grow', 'growing', 'growl', 'growling', 'grown', 'grows', 'growth', 'grudge', 'grudgingly', 'gruesome', 'gruesomely', 'gruff', 'gruffudd', 'grumble', 'grumbled', 'grumpiness', 'gruner', 'grunts', 'gryphons', 'guarantee', 'guaranteed', 'guard', 'guardian', 'guards', 'guernsey', 'guerrilla', 'guerrillas', 'guess', 'guessed', 'guessing', 'guest', 'guests', 'guevara', 'guffawed', 'guffawing', 'guiccioli', 'guidance', 'guide', 'guidelines', 'guides', 'guido', 'guile', 'guileless', 'guilt', 'guilty', 'guinea', 'guinn', 'guinness', 'guise', 'guitar', 'gujarati', 'gulf', 'gullible', 'gulliver', 'gulpilil', 'gulping', 'gumby', 'gummer', 'gummo', 'gummy', 'gun', 'gunbuster', 'gundam', 'gundams', 'gunfight', 'gunfighting', 'gunga', 'gunk', 'gunman', 'gunmen', 'gunn', 'gunner', 'gunpoint', 'guns', 'gunship', 'gunshot', 'gurdebeke', 'guru', 'gus', 'gustad', 'gustafson', 'gusto', 'gut', 'guts', 'gutsy', 'gutting', 'guy', 'guys', 'gw', 'gwangwa', 'gwyneth', 'gwynne', 'gymnastics', 'gypo', 'gypsy', 'ha', 'haaaaaaaa', 'haas', 'habit', 'habits', 'hack', 'hacked', 'hackenstein', 'hacker', 'hackman', 'hackneyed', 'hacks', 'had', 'hadass', 'hadj', 'hadley', 'hadn', 'hagar', 'haggard', 'haha', 'hai', 'haim', 'hain', 'haines', 'hair', 'haircut', 'haircuts', 'hairdo', 'haired', 'hairstyles', 'hairy', 'haje', 'hakuna', 'hal', 'haldane', 'hale', 'half', 'halfhearted', 'halfway', 'hall', 'hallam', 'hallgren', 'hallie', 'hallmark', 'halloween', 'hallows', 'hallucinogen', 'halperin', 'ham', 'hamburger', 'hamill', 'hamilton', 'hamlet', 'hammer', 'hammerhead', 'hammett', 'hamming', 'hammy', 'hampered', 'hampshire', 'hampton', 'hamtaro', 'hamwork', 'han', 'hancock', 'hand', 'handbook', 'handcuff', 'handed', 'handful', 'handicap', 'handicapped', 'handkerchief', 'handle', 'handled', 'handles', 'handling', 'handrails', 'hands', 'handsome', 'handsomeness', 'handy', 'handyman', 'haneke', 'hanged', 'hanger', 'hanging', 'hangover', 'hangs', 'hanif', 'hank', 'hanks', 'hanna', 'hannah', 'hans', 'hansen', 'hanson', 'hanzo', 'hanzô', 'haphazard', 'hapless', 'happen', 'happened', 'happening', 'happenings', 'happens', 'happenstance', 'happierabroad', 'happily', 'happiness', 'happy', 'hara', 'harassed', 'harbor', 'harbors', 'harbou', 'harbour', 'hard', 'hardcore', 'harder', 'hardest', 'harding', 'hardly', 'hardnut', 'hardship', 'hardships', 'hardware', 'hardwicke', 'hardy', 'hare', 'harem', 'hares', 'hark', 'harlan', 'harlem', 'harley', 'harlin', 'harling', 'harlow', 'harmann', 'harmless', 'harmlessly', 'harmon', 'harmonic', 'harmony', 'harold', 'harp', 'harpo', 'harrass', 'harried', 'harriet', 'harris', 'harrison', 'harrowing', 'harry', 'harsh', 'harshness', 'hart', 'hartley', 'hartman', 'hartmann', 'haruhiko', 'harvey', 'has', 'haskell', 'hasn', 'hasselhoff', 'haste', 'hasten', 'hastings', 'hasty', 'hat', 'hatchard', 'hatcher', 'hate', 'hated', 'hateful', 'hater', 'hates', 'hating', 'hatred', 'hats', 'hatton', 'haul', 'haun', 'haunted', 'haunting', 'haunts', 'hauser', 'have', 'haven', 'having', 'havoc', 'haw', 'hawai', 'hawaii', 'hawke', 'hawki', 'hawn', 'hayao', 'hayek', 'hayes', 'haynes', 'hays', 'haywood', 'hayworth', 'hazardous', 'hazel', 'hazing', 'hazy', 'hazzard', 'hb', 'hbo', 'hd', 'he', 'head', 'headache', 'headed', 'heading', 'headley', 'heads', 'headshrinkers', 'headstrong', 'heady', 'heahthrow', 'healed', 'healing', 'heals', 'health', 'healthy', 'hear', 'heard', 'hearing', 'hears', 'hearse', 'hearst', 'heart', 'heartache', 'heartbreaking', 'heartbroken', 'hearted', 'heartedly', 'heartfelt', 'heartily', 'heartless', 'hearts', 'heartwarming', 'heat', 'heated', 'heath', 'heather', 'heaven', 'heavenly', 'heavies', 'heavily', 'heavy', 'heavyweight', 'heavyweights', 'heck', 'hectic', 'hector', 'hedgehog', 'hedren', 'hedy', 'hee', 'heel', 'heeled', 'heeru', 'heflin', 'hefty', 'heh', 'heidi', 'height', 'heightened', 'heights', 'heinz', 'heir', 'heist', 'hel', 'held', 'helen', 'helga', 'helge', 'helicopter', 'helicopters', 'hell', 'hella', 'hellborn', 'hellboy', 'hellhole', 'hellman', 'hello', 'hellraiser', 'helm', 'helmet', 'helmets', 'help', 'helped', 'helpers', 'helpful', 'helping', 'helpless', 'helplessly', 'helps', 'hemet', 'hemi', 'hemorrhage', 'hence', 'henchman', 'henchmen', 'hendrix', 'hennenlotter', 'henny', 'henri', 'henry', 'henson', 'hepburn', 'hepcats', 'her', 'heralded', 'herb', 'herbert', 'herd', 'here', 'heredity', 'herein', 'heres', 'heresy', 'herge', 'heritage', 'herky', 'herman', 'hermits', 'hernandez', 'hernia', 'hero', 'heroes', 'heroic', 'heroine', 'heroines', 'heroism', 'heros', 'herrings', 'herrmann', 'hers', 'herschel', 'herself', 'hesitate', 'hesitating', 'hessling', 'hesteria', 'hesterical', 'heston', 'hestons', 'heterosexual', 'hetrakul', 'heurtebise', 'hey', 'heyward', 'hh', 'hhe1', 'hi', 'hiccups', 'hickock', 'hickory', 'hicks', 'hid', 'hidden', 'hide', 'hideous', 'hides', 'hiding', 'high', 'higher', 'highest', 'highlight', 'highlighted', 'highlights', 'highly', 'highs', 'highschool', 'highway', 'highways', 'hiker', 'hiking', 'hilarious', 'hilariously', 'hilarity', 'hilary', 'hill', 'hillary', 'hills', 'hilltop', 'hillyer', 'hilton', 'him', 'himself', 'hindi', 'hinds', 'hindsight', 'hindu', 'hinduism', 'hindusthan', 'hines', 'hinges', 'hint', 'hinted', 'hip', 'hiphop', 'hipper', 'hippie', 'hippies', 'hippy', 'hips', 'hirarlal', 'hire', 'hired', 'hires', 'hiring', 'hirsute', 'his', 'hisaichi', 'hispanic', 'hispano', 'historian', 'historians', 'historic', 'historical', 'historically', 'history', 'histrionics', 'hit', 'hitch', 'hitchcock', 'hitchcockian', 'hitchcok', 'hitches', 'hitchhiker', 'hither', 'hitler', 'hitokiri', 'hits', 'hitting', 'hittite', 'hiv', 'hiyao', 'hjerner', 'hk', 'hmmm', 'hmmmm', 'hmmmmmm', 'ho', 'hoards', 'hoary', 'hoax', 'hobgoblins', 'hodder', 'hodgepodge', 'hodges', 'hodgins', 'hoechlin', 'hoffman', 'hog', 'hogan', 'hohl', 'hokey', 'hokeyness', 'hokie', 'hokum', 'holbrook', 'hold', 'holding', 'holds', 'hole', 'holes', 'holiday', 'holidays', 'holier', 'holland', 'hollering', 'holliday', 'holliman', 'hollow', 'holly', 'hollyweird', 'hollywood', 'hollywoodized', 'holm', 'holmes', 'holodeck', 'holst', 'holy', 'homage', 'homages', 'hombre', 'hombres', 'home', 'homeboys', 'homecoming', 'homefront', 'homeland', 'homeless', 'homemade', 'homeownership', 'homer', 'homes', 'hometown', 'homeward', 'homey', 'homicidal', 'homicidally', 'homme', 'homoeroticism', 'homophobia', 'homosexuality', 'homosexually', 'homosexuals', 'honda', 'honed', 'honest', 'honestly', 'honesty', 'honey', 'honeymoon', 'hong', 'honkin', 'honor', 'honorary', 'honostly', 'honour', 'honourable', 'honoured', 'hood', 'hooded', 'hoodie', 'hook', 'hooked', 'hooker', 'hooligan', 'hoon', 'hooper', 'hoops', 'hoot', 'hooting', 'hoover', 'hop', 'hopalong', 'hope', 'hoped', 'hopefully', 'hopelessly', 'hopes', 'hoping', 'hopkins', 'hoplite', 'hopper', 'hordes', 'horler', 'hornburg', 'horner', 'hornophobic', 'horns', 'horny', 'horrendous', 'horrendously', 'horrible', 'horribly', 'horrid', 'horrific', 'horrificly', 'horrified', 'horrifying', 'horrifyingly', 'horror', 'horrorfest', 'horrors', 'horse', 'horseback', 'horsell', 'horseman', 'horses', 'hose', 'hosing', 'hospital', 'hospitalization', 'hossein', 'host', 'hostage', 'hosted', 'hostel', 'hostile', 'hostility', 'hot', 'hotarubi', 'hotel', 'hott', 'hottest', 'hottie', 'hou', 'houellebecq', 'hour', 'hours', 'house', 'houseboat', 'household', 'housekeeper', 'housemann', 'houses', 'housewife', 'housewives', 'housing', 'hovel', 'how', 'howard', 'however', 'howie', 'howling', 'hoyo', 'hrs', 'hsd', 'http', 'hubris', 'hudson', 'huertas', 'hug', 'huge', 'huggable', 'hugging', 'hugh', 'hugon', 'huh', 'hui', 'huitième', 'hulce', 'hulk', 'hulking', 'hum', 'human', 'humanity', 'humanoid', 'humans', 'humberto', 'humble', 'humbling', 'humbly', 'humdrum', 'humid', 'humiliate', 'humiliated', 'humiliating', 'humility', 'hummer', 'humming', 'humor', 'humorists', 'humorless', 'humorous', 'humour', 'humphrey', 'humphries', 'humping', 'humvee', 'hunchback', 'hundred', 'hundreds', 'hung', 'hungama', 'hungarian', 'hungary', 'hungrily', 'hungry', 'hunk', 'hunky', 'hunnydew', 'huns', 'hunt', 'hunted', 'hunter', 'hunters', 'hunting', 'huntley', 'hunts', 'hurriedly', 'hurry', 'hurt', 'hurting', 'hurts', 'husband', 'husbands', 'hush', 'hussars', 'hustle', 'hustler', 'huston', 'hut', 'hutchinson', 'huttner', 'hutton', 'hybrid', 'hyde', 'hymn', 'hype', 'hyped', 'hyper', 'hyperspace', 'hypnosis', 'hypnotized', 'hypothesis', 'hyroglyph', 'hysteria', 'hysterical', 'hysterically', 'i8n', 'ian', 'ibanez', 'ibsen', 'icb', 'ice', 'iceberg', 'ichi', 'ichikawa', 'icing', 'ick', 'icon', 'iconic', 'iconoclast', 'icons', 'icy', 'id', 'idaho', 'idea', 'ideal', 'idealism', 'idealistic', 'ideally', 'ideals', 'ideas', 'identical', 'identifiable', 'identified', 'identify', 'identities', 'identity', 'ideological', 'ideology', 'idiocy', 'idiosyncratic', 'idiot', 'idiotic', 'idiotically', 'idiots', 'idolizes', 'if', 'iffr', 'ifs', 'ignorance', 'ignorant', 'ignore', 'ignored', 'ignoring', 'igor', 'ii', 'iii', 'ikiru', 'ilias', 'ill', 'illbient', 'illegal', 'illinois', 'illiteracy', 'illness', 'illnesses', 'illogical', 'illogically', 'illusion', 'illustrated', 'illustrating', 'illustration', 'illya', 'ilona', 'ilse', 'im', 'image', 'imagery', 'images', 'imaginary', 'imagination', 'imaginations', 'imaginative', 'imaginatively', 'imagine', 'imagined', 'imagines', 'imagining', 'imanol', 'imbued', 'imc6', 'imdb', 'imelda', 'imho', 'imitating', 'imitation', 'imitators', 'immaculate', 'immature', 'immeasurably', 'immediate', 'immediately', 'immense', 'immensely', 'immersed', 'immersion', 'immigrants', 'immigration', 'immorally', 'immortal', 'immortalize', 'immune', 'imo', 'impact', 'impaired', 'impaled', 'impales', 'impatiently', 'impeccable', 'impeccably', 'impending', 'imperative', 'imperfection', 'imperfections', 'imperial', 'imperialism', 'impersonal', 'impersonate', 'impersonates', 'impersonating', 'impersonation', 'impersonators', 'impetus', 'implanted', 'implausibilities', 'implausibility', 'implausible', 'implement', 'implicate', 'implications', 'implied', 'implies', 'imply', 'implying', 'importance', 'important', 'importantly', 'imposed', 'impossible', 'impossibly', 'imposture', 'impotent', 'impress', 'impressed', 'impresses', 'impressing', 'impression', 'impressionable', 'impressive', 'imprison', 'imprisoned', 'improbable', 'improbably', 'impromptu', 'improv', 'improve', 'improved', 'improvement', 'improvisation', 'improvisationally', 'improvise', 'improvised', 'improvises', 'impudent', 'impulse', 'impulses', 'imrie', 'in', 'inability', 'inaccuracies', 'inaccurate', 'inagaki', 'inappropriate', 'inappropriately', 'inauguration', 'inbreed', 'incapable', 'incarceration', 'incarnation', 'incas', 'incessant', 'incest', 'incident', 'incidents', 'include', 'included', 'includes', 'including', 'inclusive', 'incognizant', 'income', 'incomparable', 'incompatible', 'incompetence', 'incompetent', 'incompetente', 'incompetently', 'incomplete', 'incomprehensible', 'inconsistancies', 'inconsistencies', 'inconsistent', 'incorporated', 'incorporates', 'incorporating', 'incorrect', 'increase', 'increases', 'increasing', 'increasingly', 'incredible', 'incredibly', 'incriminating', 'incubus', 'incurred', 'indecision', 'indecisive', 'indeed', 'indefinitely', 'indelible', 'indelibly', 'independence', 'independent', 'indescribably', 'indestructible', 'india', 'indian', 'indiana', 'indians', 'indicate', 'indicates', 'indicating', 'indication', 'indicative', 'indicitive', 'indictment', 'indie', 'indifferent', 'indigenous', 'indignation', 'indistinguishable', 'individual', 'individuals', 'indo', 'indoctrination', 'indolent', 'indra', 'induce', 'inducing', 'indulge', 'indulgent', 'industrial', 'industrialization', 'industries', 'industrious', 'industry', 'ineffectual', 'inefficient', 'inept', 'ineptly', 'inert', 'inescapable', 'inevitable', 'inevitably', 'inexcusable', 'inexplicable', 'inexplicably', 'infamous', 'infancy', 'infant', 'infatuation', 'infected', 'infectious', 'infest', 'infested', 'infesting', 'infidelities', 'infidelity', 'infiltrate', 'infiltrated', 'infinite', 'infinitely', 'infinitum', 'infinity', 'inflated', 'inflicted', 'influence', 'influenced', 'influences', 'influential', 'info', 'infomercial', 'infomercials', 'inform', 'informant', 'information', 'informative', 'informed', 'informer', 'informing', 'informs', 'infrequently', 'infused', 'ing', 'ingenious', 'ingeniously', 'ingenue', 'ingenuity', 'ingredient', 'ingredients', 'ingrid', 'inhabitants', 'inhabited', 'inhabits', 'inhaler', 'inherent', 'inherently', 'inheritance', 'inherited', 'inheriting', 'inherits', 'inhuman', 'inhumane', 'inhumanity', 'inimitable', 'initial', 'initially', 'initials', 'initiate', 'initiation', 'injection', 'injects', 'injure', 'injured', 'injuries', 'injury', 'injustice', 'inland', 'inmate', 'inmates', 'innards', 'innate', 'inner', 'innocence', 'innocent', 'innocents', 'innocuous', 'innovation', 'innovations', 'innovative', 'innuendo', 'innuendoes', 'innuendos', 'innumerable', 'inoculates', 'inpromptu', 'input', 'inquest', 'inquires', 'inquisitive', 'ins', 'insane', 'insanely', 'insanity', 'insatiable', 'insatiably', 'inscribed', 'inserted', 'inserting', 'inserts', 'inside', 'insiders', 'insides', 'insight', 'insightful', 'insightfulness', 'insights', 'insignificant', 'insinuate', 'insinuating', 'insipid', 'insist', 'insistence', 'insistent', 'insists', 'insomnia', 'insp', 'inspector', 'inspiration', 'inspirational', 'inspire', 'inspired', 'inspiring', 'install', 'installation', 'installed', 'installments', 'instance', 'instances', 'instantly', 'instead', 'instigated', 'instigation', 'instinct', 'instincts', 'institution', 'institutionalized', 'instructions', 'instructor', 'instrumental', 'instrumented', 'insufferable', 'insufficiently', 'insult', 'insulted', 'insulting', 'insults', 'insurance', 'insurmountable', 'int', 'intact', 'integral', 'integrated', 'integrity', 'intellect', 'intellectual', 'intellectually', 'intelligence', 'intelligensia', 'intelligent', 'intend', 'intended', 'intends', 'intense', 'intensely', 'intensity', 'intenstine', 'intent', 'intention', 'intentional', 'intentionally', 'intentioned', 'intentions', 'interact', 'interacting', 'interaction', 'interactions', 'interactive', 'interchangeable', 'intercontinental', 'intercut', 'interest', 'interested', 'interesting', 'interestingly', 'interests', 'interface', 'interferes', 'interfering', 'interiors', 'interject', 'interjection', 'interminable', 'intermission', 'internal', 'international', 'internationally', 'internet', 'interpersonal', 'interpret', 'interpretation', 'interpretations', 'interpreted', 'interpretive', 'interrogate', 'interrogating', 'interrupted', 'interval', 'intervene', 'intervention', 'interview', 'interviewed', 'interviewees', 'interviews', 'interwoven', 'intestinal', 'intestines', 'intimacy', 'intimate', 'intimated', 'intimidated', 'intimidating', 'into', 'intolerance', 'intolerant', 'intoxication', 'intrepid', 'intrested', 'intricacies', 'intricate', 'intricately', 'intrigue', 'intrigued', 'intrigueing', 'intriguing', 'intrinsic', 'intrinsically', 'intriquing', 'intro', 'introduce', 'introduced', 'introduces', 'introducing', 'introduction', 'introspection', 'introspective', 'intruded', 'intruders', 'intrus', 'intrusions', 'intrusive', 'intuitive', 'invade', 'invaded', 'invaders', 'invading', 'invaluable', 'invariably', 'invasion', 'invented', 'inventing', 'invention', 'inventions', 'inventive', 'inventiveness', 'inventor', 'invents', 'invest', 'invested', 'investigate', 'investigates', 'investigating', 'investigation', 'investigations', 'investigative', 'investing', 'investment', 'investor', 'invigorating', 'invincibility', 'invincible', 'invisible', 'invite', 'invited', 'inviting', 'invoked', 'involuntarily', 'involuntary', 'involve', 'involved', 'involvement', 'involves', 'involving', 'inyong', 'iowa', 'iphigenia', 'iq', 'ira', 'irak', 'iran', 'iranian', 'iranians', 'iraq', 'ireland', 'irene', 'iris', 'irish', 'irks', 'iron', 'ironic', 'ironically', 'ironies', 'ironists', 'ironside', 'irony', 'irredeemably', 'irrefutable', 'irrelevant', 'irresistible', 'irresponsible', 'irresponsibly', 'irrfan', 'irritable', 'irritated', 'irritating', 'irritatingly', 'irs', 'is', 'isaac', 'isaacs', 'isabell', 'isabelle', 'ishibashi', 'ishtar', 'islam', 'island', 'islands', 'isles', 'ism', 'ismail', 'isn', 'isnt', 'isobel', 'isolate', 'isolated', 'isolation', 'isolationist', 'israel', 'israelis', 'issue', 'issues', 'istead', 'istvan', 'it', 'italian', 'italians', 'italy', 'itch', 'item', 'items', 'its', 'itself', 'iturbi', 'iv', 'ivan', 'ivanna', 'ive', 'ivy', 'iwai', 'izzard', 'iñárritu', 'jabba', 'jabs', 'jack', 'jacked', 'jacket', 'jackhammer', 'jackie', 'jackman', 'jacko', 'jackson', 'jacksons', 'jacobi', 'jacoby', 'jacques', 'jada', 'jade', 'jaded', 'jaffar', 'jaffe', 'jag', 'jagger', 'jail', 'jailed', 'jails', 'jaime', 'jake', 'jakie', 'jam', 'james', 'jamie', 'jan', 'jana', 'jane', 'janeane', 'janes', 'janet', 'jang', 'janice', 'janie', 'janine', 'janitor', 'jannetty', 'janos', 'january', 'japan', 'japanes', 'japanese', 'jar', 'jarada', 'jared', 'jargon', 'jariwala', 'jarmusch', 'jarndyce', 'jarring', 'jars', 'jasmine', 'jason', 'jasper', 'jawline', 'jaws', 'jay', 'jaye', 'jazz', 'jc', 'jealous', 'jealousy', 'jean', 'jeanane', 'jeanette', 'jeannot', 'jeans', 'jed', 'jedi', 'jeep', 'jeez', 'jefe', 'jeff', 'jefferson', 'jeffrey', 'jello', 'jelly', 'jellybean', 'jen', 'jenifer', 'jenna', 'jennie', 'jennifer', 'jenny', 'jensen', 'jeon', 'jeopardy', 'jeremy', 'jericho', 'jerk', 'jerks', 'jerky', 'jerry', 'jersey', 'jess', 'jesse', 'jessica', 'jessie', 'jest', 'jester', 'jesters', 'jesuit', 'jesus', 'jet', 'jets', 'jew', 'jewel', 'jewels', 'jewish', 'jewison', 'jews', 'jezebel', 'jha', 'jhene', 'jhoom', 'jidai', 'jigsaw', 'jill', 'jillson', 'jim', 'jimenez', 'jimi', 'jimmy', 'jinks', 'jinxed', 'jj', 'jm', 'jnr', 'jo', 'joan', 'joanna', 'job', 'jobs', 'jobyna', 'jock', 'jockey', 'jocks', 'jodie', 'jody', 'joe', 'joel', 'joey', 'jog', 'jogs', 'johanson', 'john', 'johnathan', 'johnnie', 'johnny', 'johnson', 'johnston', 'join', 'joined', 'joins', 'joint', 'jojo', 'joke', 'joker', 'jokers', 'jokes', 'joking', 'jolie', 'joliet', 'jolly', 'jolt', 'jolting', 'jon', 'jonathan', 'jones', 'jonestown', 'joplin', 'jordan', 'jorgen', 'jose', 'joseph', 'josette', 'josh', 'jour', 'journal', 'journalism', 'journalist', 'journalists', 'journey', 'journeys', 'jovi', 'jox', 'joy', 'joyous', 'jr', 'jt', 'ju', 'juan', 'juanita', 'jud', 'judd', 'judge', 'judged', 'judgemental', 'judges', 'judging', 'judgment', 'judi', 'judith', 'judson', 'juggernaut', 'juhee', 'juhi', 'jules', 'juli', 'julia', 'julian', 'julianna', 'julie', 'julien', 'juliet', 'juliette', 'julius', 'july', 'jumbled', 'jump', 'jumped', 'jumpin', 'jumping', 'jumps', 'jun', 'june', 'jungle', 'jungles', 'junior', 'junk', 'junked', 'junkie', 'jurassic', 'jury', 'just', 'justice', 'justifiably', 'justification', 'justified', 'justify', 'justin', 'jutras', 'jutta', 'juvenile', 'juxtaposition', 'järvilaturi', 'jürgen', 'ka', 'kaafi', 'kabbalah', 'kabei', 'kabhi', 'kabul', 'kader', 'kael', 'kagan', 'kahn', 'kai', 'kak', 'kalifornia', 'kamal', 'kameena', 'kane', 'kanefsky', 'kanes', 'kanin', 'kanji', 'kansas', 'kaoru', 'kapoor', 'kar', 'karadzhic', 'karas', 'karate', 'karen', 'kari', 'karisma', 'karl', 'karloff', 'karmic', 'karyn', 'karzis', 'kasadya', 'kasey', 'kashakim', 'kate', 'katha', 'katharine', 'katherine', 'kathleen', 'kathmandu', 'kathryn', 'katie', 'katona', 'katsu', 'katya', 'katzenberg', 'kaun', 'kavogianni', 'kay', 'kayla', 'kazakhstani', 'kazan', 'kazuo', 'keaton', 'keen', 'keenan', 'keenly', 'keep', 'keeper', 'keeping', 'keeps', 'keira', 'keitel', 'keith', 'keko', 'kelippoth', 'keller', 'kellie', 'kellogg', 'kells', 'kelly', 'ken', 'kendall', 'kenichi', 'kennedy', 'kenneth', 'kenny', 'kent', 'kentucky', 'kenya', 'keppel', 'kept', 'kerby', 'kermit', 'kernels', 'kerry', 'kes', 'kessler', 'kettle', 'kevan', 'kevin', 'kewpie', 'key', 'keyboard', 'keys', 'keystone', 'khakee', 'khanna', 'kher', 'khleo', 'khouri', 'khrzhanosvky', 'ki', 'kibbutz', 'kicha', 'kick', 'kicked', 'kicking', 'kicks', 'kid', 'kiddies', 'kidding', 'kidman', 'kidnapped', 'kidnapper', 'kidnapping', 'kidnappings', 'kids', 'kiefer', 'kiera', 'kierlaw', 'kiley', 'kill', 'killed', 'killer', 'killers', 'killing', 'killings', 'kills', 'kilmer', 'kilometers', 'kilpatrick', 'kim', 'kimberly', 'kimble', 'kincaid', 'kind', 'kinda', 'kindegarden', 'kindling', 'kindness', 'kinds', 'kinetescope', 'kinetic', 'kinetics', 'king', 'kingdom', 'kingpin', 'kingsley', 'kinka', 'kinnear', 'kino', 'kinship', 'kip', 'kipling', 'kira', 'kirby', 'kirk', 'kirkland', 'kirsten', 'kiss', 'kisses', 'kit', 'kitchen', 'kitchener', 'kite', 'kitne', 'kits', 'kitten', 'kittens', 'kitty', 'kiva', 'klara', 'klasky', 'klaus', 'klaw', 'kliegs', 'kline', 'klingsor', 'klondike', 'klugman', 'klum', 'knappertsbusch', 'knb', 'knee', 'knees', 'knew', 'knife', 'knight', 'knightley', 'knightly', 'knights', 'knock', 'knocked', 'knocking', 'knockoff', 'knockouts', 'knocks', 'knoller', 'knots', 'know', 'knowing', 'knowingly', 'knowledge', 'knowledgeable', 'knowles', 'known', 'knows', 'knox', 'knoxville', 'knuckle', 'knuckles', 'kobayashi', 'koechner', 'koen', 'kol', 'kolchak', 'kolya', 'kon', 'konchalovsky', 'kong', 'konkana', 'kono', 'koo', 'kookoo', 'kopins', 'korea', 'korean', 'korine', 'kornbluth', 'kosleck', 'koto', 'kovacs', 'kove', 'kowalski', 'krabbe', 'krabbé', 'kraft', 'kralik', 'kramer', 'krause', 'krel', 'krell', 'krige', 'kris', 'krisana', 'krishna', 'krista', 'kristan', 'kristel', 'kristen', 'kroko', 'kruger', 'krypton', 'kryptonite', 'kubrick', 'kudisch', 'kudos', 'kudrow', 'kumar', 'kumars', 'kung', 'kurosawa', 'kurt', 'kurtwood', 'kushrenada', 'kusturica', 'kutcher', 'kyd', 'kyle', 'kyoko', 'kyoto', 'kyz', 'la', 'lab', 'label', 'labeled', 'labels', 'labor', 'laborers', 'laboriously', 'labour', 'labratory', 'labs', 'labyrinthine', 'lacan', 'lace', 'laced', 'laces', 'lack', 'lacked', 'lacking', 'lackluster', 'lacks', 'lad', 'ladder', 'laden', 'ladened', 'ladies', 'lads', 'lady', 'ladyslipper', 'lagging', 'lagosi', 'lah', 'lahem', 'laid', 'laila', 'lain', 'laine', 'lajos', 'lake', 'laker', 'lamarr', 'lamas', 'lamb', 'lambast', 'lambert', 'lambs', 'lame', 'lamely', 'lamentable', 'lamest', 'lamont', 'lampe', 'lampidorrans', 'lampoon', 'lan', 'lana', 'lancaster', 'lance', 'lancer', 'land', 'landau', 'landed', 'landing', 'landings', 'landmark', 'lando', 'landowner', 'lands', 'landscape', 'landscapes', 'landscaping', 'landslide', 'lane', 'lanes', 'langdon', 'lange', 'langford', 'langoliers', 'language', 'languages', 'lanisha', 'lankford', 'lansbury', 'lanter', 'lanza', 'lap', 'lapse', 'lapsed', 'lapses', 'lara', 'lard', 'large', 'largely', 'largeness', 'larger', 'largest', 'largo', 'larking', 'larner', 'larraz', 'larry', 'lars', 'larsen', 'larval', 'las', 'laser', 'lash', 'lassick', 'lassie', 'last', 'lasted', 'lastly', 'lasts', 'late', 'lately', 'latent', 'later', 'latest', 'latex', 'lathan', 'latin', 'latina', 'latino', 'latter', 'latvia', 'laugh', 'laughable', 'laughably', 'laughed', 'laughing', 'laughlin', 'laughs', 'laughter', 'laughton', 'laughworthy', 'launched', 'laundry', 'laura', 'laurel', 'lauren', 'laurence', 'laurens', 'laurie', 'lavender', 'lavigne', 'lavish', 'law', 'lawler', 'lawns', 'lawrence', 'laws', 'lawsuit', 'lawyer', 'lawyers', 'lay', 'layered', 'layers', 'laying', 'lays', 'lazarus', 'lazer', 'lazy', 'lbs', 'lds', 'le', 'leachman', 'lead', 'leaden', 'leader', 'leaders', 'leading', 'leads', 'leaflets', 'league', 'leak', 'lean', 'leap', 'leaps', 'lear', 'learn', 'learned', 'learning', 'learns', 'leary', 'leash', 'least', 'leather', 'leatherface', 'leatherfaces', 'leave', 'leaven', 'leaves', 'leaving', 'lebanon', 'lebeau', 'lecarré', 'lecherous', 'lecture', 'led', 'ledger', 'lee', 'leelee', 'leering', 'lees', 'leesville', 'left', 'leftists', 'leftovers', 'leg', 'legacy', 'legal', 'legally', 'legend', 'legendary', 'legged', 'legion', 'legions', 'legislatures', 'legit', 'legitimacy', 'legitimately', 'legs', 'leibman', 'leif', 'leigh', 'leight', 'leila', 'leisurely', 'leitch', 'lembach', 'lemercier', 'lemmon', 'lemon', 'lemora', 'lena', 'lend', 'lending', 'lends', 'length', 'lenient', 'lennon', 'lenny', 'leno', 'lense', 'lensed', 'lenses', 'lensman', 'lent', 'leo', 'leon', 'leonard', 'leone', 'leonie', 'leprechaun', 'lerner', 'les', 'lesbian', 'lesbians', 'leslie', 'less', 'lesser', 'lesson', 'lessons', 'lest', 'lester', 'lestrade', 'let', 'letch', 'letdown', 'lethal', 'lethargy', 'lets', 'letter', 'letters', 'letting', 'letty', 'letzter', 'leva', 'levan', 'levant', 'level', 'levels', 'levens', 'lever', 'levi', 'levinson', 'levy', 'lew', 'lewis', 'lex', 'leyte', 'lezlie', 'li', 'liaison', 'lian', 'liar', 'lib', 'libby', 'liberal', 'liberals', 'liberate', 'liberated', 'liberating', 'liberation', 'liberties', 'liberty', 'libido', 'libidos', 'librarian', 'libraries', 'library', 'lice', 'license', 'licitates', 'lick', 'licks', 'lie', 'lied', 'lies', 'lieutenant', 'life', 'lifeforce', 'lifeless', 'lifelessly', 'lifelike', 'lifelong', 'lifestyle', 'lifetime', 'lift', 'lifted', 'lifting', 'lifts', 'light', 'lighted', 'lighten', 'lightened', 'lighter', 'lighthearted', 'lighting', 'lightly', 'lightning', 'lights', 'lightsaber', 'lightships', 'lightweight', 'likable', 'like', 'likeable', 'liked', 'likelihood', 'likely', 'likes', 'likewise', 'liking', 'likings', 'lila', 'lili', 'lilia', 'lillian', 'lilly', 'lily', 'limbo', 'limbs', 'limelight', 'limit', 'limitations', 'limited', 'limitlessly', 'limits', 'limo', 'limp', 'limply', 'lin', 'linchpin', 'lincoln', 'linda', 'lindo', 'lindsay', 'lindy', 'line', 'linear', 'linearly', 'lined', 'liner', 'liners', 'lines', 'linger', 'lingered', 'lingering', 'lingers', 'lingo', 'link', 'linked', 'linklater', 'links', 'lion', 'lionel', 'liotta', 'lip', 'lips', 'lipstick', 'liquor', 'lisa', 'lisette', 'lisp', 'list', 'listed', 'listen', 'listened', 'listening', 'listing', 'lists', 'lit', 'literal', 'literalist', 'literally', 'literary', 'literate', 'literature', 'lithgow', 'littered', 'littering', 'little', 'liu', 'liv', 'live', 'lived', 'lively', 'liven', 'lives', 'livestock', 'livien', 'living', 'livingston', 'liz', 'lizabeth', 'lizard', 'lizards', 'll', 'lloyd', 'loach', 'load', 'loaded', 'loading', 'loads', 'loaf', 'loan', 'loathing', 'lobby', 'lobotomized', 'local', 'locales', 'locals', 'locataire', 'locate', 'located', 'location', 'locationed', 'locations', 'lochlyn', 'lock', 'locke', 'locked', 'lockers', 'lockheed', 'locking', 'locks', 'locust', 'loder', 'lodging', 'lodz', 'loft', 'log', 'logan', 'logic', 'logical', 'logically', 'login', 'logo', 'logs', 'lohan', 'loin', 'lois', 'lol', 'lola', 'lolita', 'lommel', 'london', 'londoners', 'loneliness', 'lonely', 'lonelygirl15', 'lonestar', 'long', 'longed', 'longer', 'longest', 'longing', 'longings', 'longjohns', 'longoria', 'longs', 'longstanding', 'longtime', 'look', 'looked', 'looking', 'looks', 'loom', 'looney', 'loony', 'loop', 'loopholes', 'loopy', 'loose', 'loosed', 'loosely', 'looser', 'loosing', 'loot', 'looting', 'lopez', 'lord', 'lordi', 'lords', 'lore', 'lorenz', 'lorenzo', 'loretta', 'lorne', 'lorre', 'los', 'lose', 'loser', 'losers', 'loses', 'losey', 'losing', 'loss', 'losses', 'lost', 'lot', 'lotion', 'lots', 'lottery', 'lou', 'louche', 'loud', 'louella', 'louese', 'louis', 'louise', 'louisiana', 'lousy', 'loutishness', 'louts', 'lovable', 'love', 'loveable', 'loved', 'lovehatedreamslifeworkplayfriends', 'loveless', 'lovely', 'lovemaking', 'lover', 'lovers', 'loves', 'lovett', 'lovey', 'lovin', 'loving', 'lovingly', 'lovitz', 'low', 'lowbrow', 'lowcut', 'lowe', 'lower', 'lowered', 'lowest', 'lowlights', 'lows', 'loy', 'loyal', 'loyalist', 'loyalty', 'lsd', 'lt', 'luana', 'lubitsch', 'lubricated', 'lucaitis', 'lucas', 'luchino', 'lucia', 'lucienne', 'lucille', 'lucio', 'lucius', 'luck', 'luckily', 'lucky', 'lucrative', 'lucy', 'ludicrous', 'ludicrously', 'ludlum', 'lugia', 'lugosi', 'lugs', 'luján', 'luke', 'lukes', 'lullaby', 'lumbers', 'luminescent', 'luminous', 'lump', 'luna', 'lunacy', 'lunar', 'lunatic', 'lunch', 'lunchmeat', 'lundgren', 'lundren', 'lung', 'lunges', 'lungren', 'lunkhead', 'lure', 'lured', 'lurk', 'luscious', 'lush', 'lussier', 'lust', 'lusting', 'lusts', 'luthor', 'luva', 'luvahire', 'lux', 'luxurious', 'luxury', 'luzhin', 'lyda', 'lydia', 'lydon', 'lying', 'lynch', 'lynched', 'lynching', 'lyndon', 'lynn', 'lynne', 'lyon', 'lyrics', 'léaud', 'léo', 'm1', 'ma', 'mabel', 'mac', 'macabre', 'macarhur', 'macarthur', 'macaulay', 'macaw', 'macbeth', 'macdonald', 'mace', 'macedonia', 'macek', 'macgyver', 'macha', 'machaty', 'mache', 'machete', 'machiavellian', 'machinal', 'machinations', 'machine', 'machinery', 'machines', 'macho', 'machu', 'mack', 'mackinnon', 'mackintosh', 'macmurray', 'macromedia', 'macroscopic', 'macy', 'mad', 'madame', 'maddie', 'maddin', 'maddona', 'maddox', 'maddy', 'made', 'madeleine', 'madhavi', 'madhuri', 'madhvi', 'madigan', 'madison', 'madly', 'madman', 'madness', 'madonna', 'madsen', 'mae', 'maeder', 'maestro', 'maetel', 'mafia', 'mag', 'magazine', 'magazines', 'maggie', 'maggot', 'magic', 'magical', 'magically', 'magician', 'magictrain', 'magistral', 'magistrate', 'magnification', 'magnificent', 'magnified', 'magnitude', 'magnum', 'magnus', 'magtena', 'maguire', 'mahal', 'maharishi', 'mahoney', 'maid', 'maiden', 'maids', 'mail', 'main', 'mainly', 'mainstream', 'maintain', 'maintained', 'maintaining', 'majestic', 'major', 'majorcan', 'majority', 'majorly', 'majors', 'make', 'maked', 'makepeace', 'maker', 'makers', 'makes', 'makeshift', 'makeup', 'making', 'makings', 'malapropisms', 'malaria', 'malcolm', 'malden', 'maldera', 'male', 'males', 'malevolent', 'maliciousness', 'malignant', 'maligned', 'malik', 'malil', 'malkovich', 'malle', 'malls', 'malone', 'malta', 'maléfique', 'mama', 'mame', 'mamet', 'mammoth', 'mammoths', 'man', 'manage', 'manageable', 'managed', 'management', 'manager', 'managerial', 'managers', 'manages', 'managing', 'manbeast', 'manchu', 'manchurian', 'manchus', 'mancuso', 'mandatory', 'mandell', 'mandy', 'maneuver', 'maneuverability', 'maneuvering', 'manfredi', 'manga', 'manger', 'manhandles', 'manhattan', 'manhood', 'maniac', 'maniacs', 'manic', 'manifested', 'manipulated', 'manipulates', 'manipulating', 'manipulation', 'manipulations', 'manipulative', 'mankind', 'manly', 'mann', 'mannara', 'mannequin', 'mannequins', 'manner', 'mannered', 'mannerisms', 'manners', 'manning', 'mannu', 'mano', 'manoeuvres', 'manoj', 'manojlovic', 'manor', 'manos', 'mans', 'mansfield', 'mansion', 'manson', 'mantaga', 'mantan', 'mantegna', 'mantle', 'manuccie', 'manufactured', 'manure', 'manuscript', 'many', 'map', 'marathon', 'marble', 'marblehead', 'marc', 'marcel', 'marcello', 'marcellous', 'march', 'marches', 'marching', 'marcie', 'marcus', 'mard', 'margaret', 'margin', 'marginal', 'marginally', 'margins', 'maria', 'mariah', 'mariana', 'marie', 'marienbad', 'mariette', 'marijuana', 'marilu', 'marilyn', 'marin', 'marine', 'mariner', 'marines', 'mario', 'marion', 'marisa', 'marital', 'marius', 'marjorie', 'mark', 'marked', 'marker', 'market', 'marketable', 'marketeering', 'marketing', 'marketplaces', 'markham', 'markov', 'marks', 'marlee', 'marleen', 'marlene', 'marley', 'marlon', 'maro', 'marquis', 'marriage', 'marriages', 'married', 'marries', 'marry', 'marrying', 'mars', 'marsha', 'marshall', 'mart', 'martel', 'martha', 'martial', 'martin', 'martineau', 'martinez', 'martino', 'marty', 'maru', 'maruschka', 'marvel', 'marvellous', 'marvellously', 'marvelous', 'marvin', 'marxism', 'mary', 'marylee', 'mas', 'masculinity', 'mashed', 'masi', 'mask', 'masked', 'masks', 'maslin', 'masochism', 'masochist', 'masochistically', 'mason', 'mass', 'massacre', 'massacres', 'massage', 'massages', 'masse', 'massey', 'massive', 'masssacre', 'mast', 'master', 'masterbates', 'mastered', 'masterful', 'mastermind', 'masterpiece', 'masterpieces', 'masters', 'masterson', 'masterton', 'masterwork', 'mastery', 'masticating', 'mastroianni', 'masturbates', 'masturbation', 'mat', 'matata', 'match', 'matched', 'matches', 'matching', 'mate', 'mater', 'material', 'materialized', 'materials', 'maternity', 'mates', 'matewan', 'math', 'mathematicians', 'mathew', 'mathieu', 'matilda', 'matinée', 'matlin', 'matriarch', 'matrimonial', 'matrix', 'matt', 'matte', 'matter', 'matters', 'matthau', 'matthew', 'mattia', 'mature', 'matured', 'matures', 'maude', 'maudlin', 'mauled', 'maupassant', 'maureen', 'maurice', 'mauricio', 'maurren', 'maverick', 'mavericks', 'max', 'maximilian', 'maximum', 'maxine', 'may', 'maya', 'mayall', 'maybe', 'maybee', 'mayberry', 'mayfair', 'mayfield', 'mayhem', 'maynard', 'mayne', 'mayor', 'mays', 'mazurki', 'mcadams', 'mcbain', 'mccarthy', 'mccartney', 'mcclain', 'mcclure', 'mccormick', 'mccoy', 'mcdermott', 'mcdoakes', 'mcdonald', 'mcdonalds', 'mcdonnell', 'mcdowall', 'mcdowell', 'mcenroe', 'mcfly', 'mcgarten', 'mcgill', 'mcgovern', 'mcgregor', 'mcguire', 'mchugh', 'mcintyre', 'mckenna', 'mckenzies', 'mckinney', 'mclaglen', 'mcmahon', 'mcnally', 'mcqueen', 'mcshane', 'me', 'meadows', 'meadowvale', 'meager', 'meal', 'mean', 'meander', 'meandering', 'meaner', 'meanial', 'meaning', 'meaningful', 'meaningfull', 'meaningless', 'meanings', 'means', 'meant', 'meantime', 'meanwhile', 'measly', 'measure', 'meat', 'meatballs', 'mecha', 'mechanic', 'mechanical', 'mechanism', 'medal', 'medallion', 'medals', 'meddle', 'medeiros', 'media', 'medical', 'medication', 'medicine', 'medieval', 'mediocre', 'mediocrity', 'meditation', 'medium', 'medley', 'meds', 'medusa', 'medusan', 'meek', 'meeker', 'meena', 'meerkat', 'meet', 'meeting', 'meets', 'meg', 'megalunged', 'megazones', 'megs', 'meighan', 'mel', 'melange', 'melanie', 'melded', 'meldrick', 'melds', 'melies', 'melinda', 'melisa', 'melissa', 'mellow', 'melnik', 'melodrama', 'melodramatic', 'melody', 'meloni', 'melons', 'melt', 'melted', 'melting', 'melvyn', 'member', 'members', 'memento', 'memorable', 'memorial', 'memories', 'memorized', 'memory', 'men', 'menace', 'menaced', 'menacing', 'menage', 'menaikkan', 'mend', 'mendizábal', 'mendonça', 'meng', 'mental', 'mentality', 'mentally', 'mention', 'mentioned', 'mentioning', 'mentions', 'mentor', 'mentoring', 'mentos', 'meow', 'mer', 'mercer', 'merchandise', 'mercial', 'mercifully', 'merciless', 'mercilessly', 'mercurial', 'mercury', 'mercy', 'mere', 'merely', 'merged', 'merging', 'meridian', 'merit', 'merits', 'merk', 'merlin', 'mermaid', 'merrill', 'merry', 'meryl', 'mesh', 'mesmerising', 'mesmerizing', 'meso', 'mesopotamia', 'mess', 'message', 'messages', 'messaging', 'messanger', 'messed', 'messenger', 'messiness', 'messing', 'mestizos', 'met', 'metafiction', 'metal', 'metallic', 'metamorphosis', 'metaphor', 'metaphoric', 'metaphorically', 'meteoric', 'meteorite', 'meteors', 'meter', 'methamphetamine', 'methane', 'method', 'methodically', 'methods', 'meticulous', 'metres', 'metro', 'metropolitan', 'meudon', 'mexican', 'mexico', 'meyer', 'meyers', 'mgm', 'mia', 'miami', 'mice', 'michael', 'micheals', 'michel', 'michelle', 'mick', 'mickey', 'micky', 'micro', 'microfiche', 'microphone', 'microsoft', 'microwave', 'mid', 'midday', 'middle', 'middleton', 'midler', 'midnight', 'midseason', 'midst', 'might', 'mightily', 'migrate', 'miguel', 'mihaela', 'miike', 'mike', 'mikey', 'mikhail', 'mikis', 'mil', 'milan', 'milburn', 'mild', 'mildly', 'mildred', 'mile', 'miles', 'milestone', 'miley', 'mili', 'militant', 'military', 'milk', 'milked', 'milks', 'mill', 'millenia', 'millennium', 'miller', 'million', 'millionaire', 'millions', 'mills', 'milos', 'milton', 'mimbos', 'mimic', 'mimicking', 'mimics', 'min', 'minbari', 'mind', 'minded', 'mindedness', 'mindless', 'minds', 'mindy', 'mine', 'miner', 'minerals', 'miners', 'mingles', 'mini', 'miniature', 'minimal', 'minimalist', 'minimalistic', 'minimally', 'minimise', 'minimum', 'mining', 'minion', 'minions', 'minis', 'miniseries', 'minister', 'minnelli', 'minnesota', 'minor', 'minority', 'minors', 'mins', 'minstrel', 'minus', 'minute', 'minutes', 'mir', 'mira', 'miracle', 'miracles', 'miraculously', 'miraglia', 'miramax', 'miranda', 'miriam', 'mirren', 'mirror', 'mirrormask', 'mirrors', 'mis', 'misanthropic', 'misbegotten', 'miscarriage', 'miscast', 'mischa', 'mischievous', 'miscues', 'misdirected', 'miserable', 'miserably', 'misery', 'misfit', 'misfits', 'misfortune', 'misgivings', 'misguided', 'misleading', 'misogynistic', 'misogyny', 'misplaced', 'misportrayed', 'misrepresentation', 'miss', 'missed', 'misses', 'missile', 'missiles', 'missing', 'mission', 'missionary', 'missy', 'mist', 'mistake', 'mistakenly', 'mistakes', 'mistaking', 'mistress', 'mistresses', 'misty', 'misunderstandings', 'misunderstood', 'misuse', 'misused', 'mitch', 'mitchell', 'mitchum', 'mitevska', 'mitzi', 'mix', 'mixed', 'mixes', 'mixture', 'miya', 'miyazaki', 'mj', 'mm', 'mn', 'mned', 'mnouchkine', 'moan', 'mob', 'mobile', 'mobility', 'mobster', 'mobsters', 'moby', 'mock', 'mocked', 'mocking', 'mockingbird', 'mockumentary', 'mode', 'model', 'modeled', 'modeling', 'modelled', 'models', 'moderate', 'modern', 'modest', 'modesty', 'modicum', 'modine', 'modulate', 'modulated', 'module', 'modus', 'moe', 'moh', 'mohabbatein', 'mohan', 'moines', 'mojo', 'mol', 'mold', 'moldy', 'mole', 'molecular', 'molina', 'molla', 'molly', 'moly', 'mom', 'moment', 'momentarily', 'moments', 'momentum', 'momma', 'mon', 'mona', 'monarch', 'monastery', 'money', 'monica', 'monk', 'monkey', 'monkeys', 'monks', 'mono', 'monoliths', 'monologues', 'mononoke', 'monopolized', 'monorail', 'monotonous', 'monster', 'monsterfest', 'monsters', 'monstervision', 'monstrosity', 'montage', 'montalban', 'montana', 'montand', 'montegna', 'montford', 'month', 'months', 'monty', 'monument', 'monumental', 'monumentally', 'monumentous', 'mood', 'moody', 'mooin', 'mooment', 'moon', 'moonstruck', 'moore', 'moorehead', 'moose', 'mora', 'moral', 'morale', 'moralistic', 'morality', 'morally', 'morass', 'morbid', 'morbius', 'more', 'moreau', 'moreover', 'moretti', 'morgan', 'morgana', 'morisette', 'morita', 'mormon', 'mormons', 'morning', 'morocco', 'moron', 'moroni', 'moronic', 'morons', 'morphed', 'morpheus', 'morphin', 'morphs', 'morricone', 'morris', 'morrisey', 'morrison', 'morrissey', 'morrow', 'mortal', 'morten', 'mortensen', 'morteval', 'mortgage', 'mortimer', 'morvern', 'mosquitoes', 'moss', 'most', 'mostel', 'mostly', 'mother', 'mothers', 'motif', 'motion', 'motionless', 'motions', 'motivated', 'motivation', 'motivations', 'motive', 'motives', 'moto', 'motorbikes', 'motorcycle', 'motorist', 'motown', 'mould', 'moulded', 'mouldy', 'mountain', 'mountains', 'mounted', 'mountie', 'mourns', 'mouse', 'moustache', 'mouth', 'mouthed', 'mouthful', 'mouths', 'mouton', 'move', 'moved', 'movement', 'movements', 'moves', 'movie', 'moviegoing', 'moviemakers', 'movies', 'movin', 'moving', 'mowing', 'mozart', 'mpaa', 'mr', 'mrs', 'ms', 'mst3k', 'mtv', 'muccino', 'much', 'mud', 'muddled', 'muertos', 'muffin', 'mugger', 'mugging', 'muhammad', 'muir', 'mukhsin', 'mulcahy', 'mulder', 'mulholland', 'muller', 'mulligan', 'mulling', 'multi', 'multiple', 'multiplies', 'multitude', 'mum', 'mumbles', 'mumbo', 'mummies', 'mummy', 'munch', 'muncie', 'munich', 'munkar', 'munroe', 'munsters', 'muppet', 'muppets', 'murder', 'murdered', 'murderer', 'murderers', 'murdering', 'murderous', 'murders', 'muriel', 'murky', 'murphy', 'murray', 'murrow', 'muscle', 'muscled', 'muscles', 'muscular', 'museum', 'mushroom', 'mushy', 'music', 'musical', 'musically', 'musicals', 'musician', 'musicians', 'musketeers', 'muslim', 'muslims', 'must', 'mustache', 'mustang', 'mustered', 'mustn', 'mutant', 'mutants', 'mute', 'muted', 'mutilated', 'mutilation', 'mutt', 'mutual', 'mutually', 'muzzle', 'muñoz', 'mvp', 'my', 'myers', 'myiazaki', 'myles', 'myopic', 'myra', 'myriad', 'myrtle', 'myself', 'myst', 'mysteries', 'mysterio', 'mysterious', 'mysteriously', 'mysteriousness', 'mystery', 'mystical', 'mysticism', 'mystics', 'myth', 'mythic', 'mythical', 'mythological', 'mythology', 'mäger', 'ménage', 'na', 'nabs', 'nachtmusik', 'nadir', 'nagase', 'nagging', 'nah', 'nail', 'nailing', 'nails', 'nair', 'naive', 'naively', 'naiveness', 'naivety', 'naiveté', 'naked', 'nakedness', 'namak', 'name', 'named', 'namely', 'names', 'nananana', 'nancy', 'nandini', 'nanette', 'nannies', 'nanny', 'nap', 'napa', 'napier', 'napoleon', 'narcissism', 'nargis', 'narrated', 'narration', 'narrations', 'narrative', 'narrator', 'narrow', 'nary', 'nasa', 'nasal', 'nasally', 'nascar', 'naschy', 'nashville', 'nastiness', 'nasty', 'nat', 'natalia', 'natalie', 'natascha', 'natasha', 'natassia', 'nath', 'nathan', 'nation', 'national', 'nationalist', 'nationalistic', 'nationality', 'nations', 'native', 'natives', 'natural', 'naturally', 'naturalness', 'nature', 'natured', 'naudet', 'naught', 'naughton', 'naughty', 'nauseating', 'nauseous', 'nauseum', 'naushads', 'nausicaa', 'naval', 'navigable', 'navin', 'navokov', 'navy', 'nazi', 'nazis', 'naïve', 'nba', 'nbc', 'nc', 'nco', 'ne', 'neanderthal', 'neanderthals', 'near', 'nearby', 'nearest', 'nearly', 'nearne', 'neat', 'neatly', 'nebulous', 'necessarily', 'necessary', 'neck', 'necklaces', 'necks', 'necktie', 'necron', 'ned', 'need', 'needed', 'needing', 'needle', 'needless', 'needlessly', 'needs', 'needy', 'neenan', 'nefarious', 'negative', 'negatively', 'neglected', 'negligible', 'negotiating', 'negotiation', 'neighbor', 'neighborhood', 'neighborhoods', 'neighbors', 'neighbour', 'neighbourhood', 'neighbours', 'neil', 'neill', 'neither', 'nekromantik', 'nell', 'nella', 'nelson', 'nemesis', 'neo', 'nephew', 'nepotism', 'nerd', 'nerds', 'nerdy', 'neri', 'nero', 'nerve', 'nerves', 'nervously', 'ness', 'nest', 'nestled', 'net', 'netherworld', 'netleská', 'nettie', 'network', 'neurotic', 'neutralize', 'neve', 'never', 'nevertheless', 'neville', 'new', 'newbern', 'newcombe', 'newcomer', 'newell', 'newer', 'newest', 'newfound', 'newgrounds', 'newhart', 'newly', 'newman', 'news', 'newsome', 'newspaper', 'newspapers', 'newsreels', 'newsweek', 'newth', 'newton', 'next', 'ngema', 'ni', 'nicco', 'nice', 'nicely', 'nicholas', 'nichole', 'nicholette', 'nicholls', 'nicholson', 'nick', 'nickelodeon', 'nickleby', 'nickname', 'nicky', 'nicolas', 'nicole', 'nicolosi', 'niece', 'nielsen', 'nietszche', 'nifty', 'night', 'nightclub', 'nightmare', 'nightmares', 'nightmarish', 'nights', 'nighttime', 'nihilistic', 'nikki', 'nikolaj', 'nil', 'nimoy', 'nina', 'nine', 'nineties', 'ninety', 'ninja', 'ninjas', 'ninteen', 'niro', 'nit', 'nite', 'nitpick', 'niven', 'nixed', 'nixon', 'no', 'noam', 'nobility', 'noble', 'nobodies', 'nobody', 'nodding', 'noemi', 'noethen', 'nog', 'nogerelli', 'noir', 'noirish', 'noirs', 'noise', 'noises', 'noisy', 'nolan', 'nolte', 'nom', 'nomads', 'nominal', 'nominated', 'nomination', 'nominations', 'nominee', 'non', 'nondescript', 'none', 'nonetheless', 'nonfiction', 'noni', 'nonsense', 'nonsensical', 'nonstop', 'nookie', 'noon', 'nope', 'nor', 'nora', 'noriko', 'norm', 'norma', 'normal', 'normally', 'norman', 'normand', 'norris', 'north', 'northam', 'northeast', 'northern', 'northerners', 'northwest', 'nose', 'nosed', 'nosferatu', 'nostalgia', 'nostalgic', 'nostril', 'not', 'notable', 'notably', 'notch', 'note', 'notebook', 'noted', 'notes', 'noteworthy', 'nothing', 'notice', 'noticeable', 'noticed', 'notices', 'noticing', 'notified', 'notifying', 'notion', 'notions', 'notise', 'notoriety', 'notorious', 'notoriously', 'notting', 'notwithstanding', 'nouvelle', 'novak', 'novel', 'novelist', 'novella', 'novels', 'novelty', 'november', 'novice', 'now', 'nowadays', 'nowhere', 'nsa', 'nt', 'nth', 'nu', 'nuanced', 'nuclear', 'nude', 'nudists', 'nudity', 'nuevo', 'nuf', 'nuisance', 'nuke', 'numb', 'number', 'numbers', 'numbing', 'numbingly', 'numerous', 'nuns', 'nunsploitation', 'nurse', 'nursed', 'nursery', 'nurses', 'nurture', 'nut', 'nutcracker', 'nutritional', 'nuts', 'nutty', 'nuys', 'ny', 'nyc', 'nykvist', 'nymphomaniac', 'nymphs', 'nyqvist', 'nytimes', 'oak', 'oasis', 'obedient', 'obese', 'obey', 'obfuscated', 'obi', 'obituaries', 'object', 'objections', 'objective', 'objectively', 'objectives', 'objects', 'obligated', 'obligation', 'obligatory', 'obligingly', 'obliterated', 'oblivious', 'obnoxious', 'oboe', 'obscene', 'obscenity', 'obscure', 'observances', 'observation', 'observations', 'observe', 'observer', 'obsessed', 'obsesses', 'obsession', 'obsessions', 'obsessive', 'obsessively', 'obsolete', 'obstacle', 'obstacles', 'obstruct', 'obstruction', 'obstructive', 'obstructs', 'obtain', 'obverse', 'obvious', 'obviously', 'obviousness', 'occasion', 'occasional', 'occasionally', 'occasions', 'occassionaly', 'occident', 'occidental', 'occult', 'occupied', 'occupies', 'occupying', 'occur', 'occurred', 'occurs', 'ocean', 'ocsar', 'octavia', 'october', 'octogenarian', 'octopus', 'odd', 'oddballs', 'oddity', 'oddly', 'oddness', 'oddparents', 'odds', 'oder', 'odessa', 'odin', 'odious', 'odyssey', 'oedepus', 'oedipal', 'of', 'off', 'offbeat', 'offend', 'offended', 'offenders', 'offends', 'offensive', 'offensively', 'offer', 'offered', 'offering', 'offerings', 'offers', 'office', 'officer', 'officers', 'offices', 'official', 'officialdom', 'officially', 'officials', 'officious', 'offs', 'offset', 'offshoots', 'offside', 'oft', 'often', 'oftentimes', 'ogle', 'ogre', 'oh', 'ohana', 'ohio', 'oil', 'oirish', 'oj', 'ok', 'okanagan', 'okay', 'oke', 'okinawa', 'olan', 'oland', 'old', 'older', 'oldest', 'olds', 'oldsters', 'olen', 'olive', 'oliver', 'olivia', 'olivier', 'ollie', 'olsen', 'olson', 'olympic', 'olympics', 'omar', 'omega', 'omen', 'omigod', 'ominous', 'omitting', 'omni', 'omnipresent', 'on', 'ona', 'once', 'oncoming', 'one', 'onerous', 'ones', 'oneself', 'ongoing', 'online', 'only', 'onofrio', 'ons', 'onto', 'onward', 'oo', 'ooh', 'ooooh', 'oooooh', 'ooout', 'oops', 'ooze', 'open', 'opened', 'opener', 'opening', 'openly', 'opens', 'opera', 'operas', 'operatic', 'operating', 'operation', 'operations', 'operatora', 'ophelia', 'opinion', 'opponent', 'opponents', 'opportunistic', 'opportunities', 'opportunity', 'oppose', 'opposed', 'opposite', 'opposition', 'oppression', 'oppressive', 'opprobrious', 'opps', 'oprah', 'opted', 'optimism', 'optimistic', 'opting', 'option', 'options', 'opus', 'or', 'oral', 'orange', 'orangutan', 'orangutang', 'orbit', 'orbiting', 'orbits', 'orca', 'orchestra', 'orchestral', 'orchestrated', 'orcs', 'ordained', 'ordeal', 'order', 'ordered', 'orders', 'ordinary', 'ore', 'organ', 'organically', 'organisation', 'organist', 'organization', 'organizations', 'organized', 'organizer', 'organizers', 'organizes', 'organs', 'orgy', 'oriental', 'orientation', 'oriented', 'origin', 'original', 'originality', 'originally', 'originals', 'origins', 'orion', 'orleans', 'ormondroyd', 'orna', 'oro', 'orphan', 'orphanage', 'orphans', 'orry', 'orson', 'orthodox', 'orwell', 'os', 'osa', 'osaka', 'osama', 'osbourne', 'oscar', 'oscars', 'ossessione', 'ost', 'ostensibly', 'ostrich', 'otaku', 'othello', 'other', 'others', 'otherwise', 'otherworldly', 'ott', 'otto', 'otávio', 'ouedraogo', 'ought', 'ould', 'ounce', 'ounces', 'our', 'ourselves', 'out', 'outa', 'outback', 'outburst', 'outcast', 'outcasts', 'outcome', 'outdated', 'outdid', 'outdoes', 'outdoor', 'outdoors', 'outer', 'outfield', 'outfit', 'outfits', 'outing', 'outlaw', 'outlaws', 'outlet', 'outline', 'outmatched', 'outnumber', 'outpost', 'output', 'outrage', 'outraged', 'outrageous', 'outrageously', 'outrageousness', 'outright', 'outrunning', 'outs', 'outset', 'outshines', 'outside', 'outsider', 'outsmart', 'outstanding', 'outwardly', 'outweigh', 'outweighed', 'outwit', 'ova', 'oval', 'ovaries', 'ovation', 'over', 'overact', 'overacting', 'overall', 'overalls', 'overbaked', 'overblown', 'overcame', 'overcoats', 'overcome', 'overcomes', 'overcoming', 'overcompensate', 'overconfident', 'overcooked', 'overcrowded', 'overdoes', 'overdone', 'overdosed', 'overdramatized', 'overexplanation', 'overfilling', 'overhead', 'overheard', 'overhears', 'overlapping', 'overloaded', 'overlong', 'overlook', 'overlooked', 'overlooking', 'overly', 'overnight', 'overplayed', 'overpopulation', 'overpowering', 'overrated', 'overreacting', 'overrides', 'overs', 'overseas', 'overshadowed', 'overshadows', 'oversight', 'overstated', 'overstep', 'overstocking', 'overt', 'overthrow', 'overtly', 'overtones', 'overview', 'overwhelm', 'overwhelming', 'ow', 'owe', 'owed', 'owen', 'owens', 'owing', 'owl', 'own', 'owned', 'owner', 'owners', 'owns', 'oxymoron', 'oy', 'ozzy', 'p3', 'pace', 'paced', 'paces', 'pacific', 'pacing', 'pacino', 'pack', 'package', 'packaged', 'packaging', 'packed', 'packs', 'paco', 'pact', 'pad', 'padded', 'pados', 'paean', 'paedophilia', 'paer', 'page', 'pages', 'pago', 'paid', 'paige', 'pain', 'painful', 'painfully', 'painfulness', 'pains', 'paint', 'painted', 'painter', 'painting', 'paintings', 'paints', 'pair', 'pairs', 'pajamas', 'pak', 'pakistani', 'pal', 'palace', 'palance', 'pale', 'palestine', 'palette', 'pall', 'palladium', 'palm', 'palma', 'palms', 'palpatine', 'pals', 'paltrow', 'paltry', 'pam', 'pamela', 'pan', 'panache', 'panahi', 'panama', 'pandey', 'pang', 'panic', 'pannings', 'panorama', 'panoramic', 'pans', 'pantheon', 'panthers', 'pants', 'panzram', 'pap', 'papas', 'paper', 'paperhouse', 'paperino', 'papi', 'pappas', 'pappy', 'paprika', 'par', 'para', 'parade', 'paraded', 'paradise', 'paragraph', 'parallel', 'parallels', 'paralyzing', 'paramount', 'paranoia', 'paranoiac', 'paranoid', 'paranormal', 'paraphrase', 'paraphrasing', 'parasite', 'paree', 'parent', 'parenthood', 'parents', 'paresh', 'paris', 'parisienne', 'park', 'parked', 'parker', 'parking', 'parks', 'parliament', 'parlor', 'parlour', 'parminder', 'parodic', 'parody', 'parricide', 'parrots', 'parsifal', 'parsifals', 'parsons', 'part', 'part2', 'partanna', 'parted', 'parter', 'partial', 'partially', 'participate', 'participated', 'participates', 'participation', 'particular', 'particularly', 'particulars', 'parties', 'parting', 'partly', 'partner', 'partners', 'parton', 'partridge', 'parts', 'party', 'partying', 'parveen', 'pascal', 'pass', 'passages', 'passed', 'passengers', 'passes', 'passing', 'passion', 'passionate', 'passionately', 'passions', 'passive', 'passively', 'passé', 'past', 'pasta', 'paste', 'pasternak', 'pasteur', 'pastiche', 'pat', 'patch', 'patches', 'patekar', 'patently', 'paternally', 'paternity', 'path', 'pathetic', 'pathetically', 'pathogen', 'paths', 'pati', 'patience', 'patient', 'patients', 'patil', 'patinkin', 'patio', 'patricia', 'patrick', 'patriot', 'patriotic', 'patriotism', 'patriots', 'patrol', 'patron', 'patronised', 'patronizing', 'patsy', 'patten', 'patter', 'pattern', 'patterned', 'patti', 'patty', 'paucity', 'paul', 'paula', 'paulie', 'pauly', 'paurush', 'pause', 'pausing', 'pavement', 'pavlov', 'pawn', 'pawns', 'paxinou', 'paxton', 'pay', 'payback', 'paycheck', 'paying', 'payne', 'payoff', 'payoffs', 'payroll', 'pays', 'paz', 'pazu', 'pbs', 'pdf', 'peabody', 'peace', 'peaceful', 'peach', 'peachy', 'peak', 'peaks', 'pearl', 'peas', 'peasants', 'peck', 'pecker', 'peckinpah', 'pectoral', 'pedestrian', 'pedophiles', 'pee', 'peebles', 'peeing', 'peek', 'peels', 'peen', 'peep', 'peering', 'pegg', 'pegged', 'peggy', 'peking', 'pelican', 'pen', 'penalty', 'penchant', 'penelope', 'penguin', 'penis', 'penises', 'penlight', 'penn', 'penned', 'penny', 'pension', 'penultimate', 'people', 'peoria', 'pepper', 'peppered', 'pepsi', 'peptides', 'pepto', 'per', 'perceived', 'percentage', 'percentages', 'perception', 'perceptions', 'perceptive', 'percolated', 'percussion', 'percy', 'perennial', 'perestroika', 'perfect', 'perfected', 'perfection', 'perfectly', 'perform', 'performance', 'performances', 'performed', 'performer', 'performers', 'performing', 'performs', 'perhaps', 'peril', 'perils', 'period', 'periodically', 'periods', 'periphery', 'perish', 'perished', 'perkins', 'permeates', 'permission', 'permits', 'pernell', 'perpetrated', 'perpetrator', 'perpetrators', 'perpetually', 'perpetuates', 'perplexing', 'perros', 'perry', 'persecution', 'persian', 'person', 'personage', 'personal', 'personalities', 'personality', 'personalize', 'personalized', 'personally', 'personas', 'personnel', 'persons', 'perspective', 'perspectives', 'persuasive', 'pert', 'pertinacity', 'peruvian', 'pervasive', 'perverse', 'pervert', 'perverted', 'perú', 'pesci', 'pesky', 'pessimistic', 'pet', 'pete', 'peter', 'peters', 'petiot', 'petite', 'petition', 'petrifying', 'petrucci', 'pets', 'petty', 'petulant', 'petunias', 'peyton', 'pfeiffer', 'pg', 'phallic', 'phantasm', 'phantasms', 'phantom', 'phase', 'phelps', 'phenomena', 'phenomenal', 'phenomenon', 'pheri', 'phil', 'philadelphia', 'philandering', 'philip', 'philipe', 'philippe', 'phillip', 'phillipe', 'phillippe', 'phillips', 'philo', 'philosophical', 'philosophising', 'philosophy', 'phlox', 'phobia', 'phobias', 'phobic', 'phoenix', 'phone', 'phones', 'phoniest', 'phoning', 'phony', 'phosphorous', 'photo', 'photograph', 'photographed', 'photographer', 'photographers', 'photographs', 'photography', 'photojournals', 'photos', 'photoshoot', 'phrase', 'phylicia', 'physcedelic', 'physical', 'physically', 'physics', 'pi', 'pia', 'pianist', 'pianiste', 'pianists', 'piano', 'picard', 'picasso', 'pick', 'pickaxes', 'picked', 'pickford', 'picking', 'pickles', 'pickpocket', 'picks', 'pickup', 'pickups', 'picky', 'picnic', 'pics', 'picture', 'pictures', 'pidgin', 'pie', 'piece', 'pieced', 'pieces', 'pierce', 'pierre', 'pietro', 'pieuvres', 'pig', 'pigeon', 'pigface', 'piggish', 'piggy', 'piggys', 'pigs', 'pike', 'pile', 'piles', 'pill', 'pillar', 'pilloried', 'pillow', 'pills', 'pilot', 'pima', 'pimp', 'pin', 'pinch', 'pinching', 'pinchot', 'pine', 'pink', 'pinkett', 'pinkish', 'pinnacle', 'pino', 'pinpoint', 'pinup', 'pioneer', 'pioneers', 'piovani', 'pip', 'piper', 'pipers', 'piping', 'pippin', 'pirahna', 'pirates', 'pirovitch', 'piscapo', 'piscopo', 'pisspoor', 'pistol', 'pit', 'pita', 'pitch', 'pitched', 'pitfall', 'pitfalls', 'pithy', 'pitiable', 'pitied', 'pitiful', 'pitiless', 'pits', 'pitt', 'pitted', 'pity', 'pitying', 'pivotal', 'pixar', 'pixelated', 'pizza', 'placard', 'placate', 'place', 'placed', 'places', 'placidly', 'placido', 'plagiarized', 'plague', 'plain', 'plan', 'plane', 'planes', 'planet', 'planets', 'planing', 'plank', 'planning', 'plans', 'plant', 'plantation', 'planting', 'plants', 'plastic', 'plasticine', 'plate', 'plath', 'platitudes', 'platoon', 'plausibility', 'plausible', 'play', 'playboy', 'played', 'player', 'players', 'playful', 'playhouse', 'playing', 'playoffs', 'plays', 'playthings', 'playwright', 'playwrights', 'plead', 'pleading', 'pleads', 'pleasant', 'pleasantly', 'please', 'pleased', 'pleasence', 'pleasing', 'pleasure', 'pleasures', 'plebeians', 'plenty', 'plesiosaur', 'plethora', 'pliers', 'plight', 'plimpton', 'plodded', 'plot', 'plotline', 'plotlines', 'plots', 'plotted', 'plotting', 'plotwise', 'ploy', 'ploys', 'plucks', 'plug', 'plum', 'plummer', 'plummets', 'plump', 'plums', 'plunged', 'plus', 'plussed', 'plutonium', 'pm', 'pneumonic', 'po', 'pocket', 'pocus', 'pod', 'poe', 'poelvoorde', 'poem', 'poet', 'poetic', 'poetry', 'poffysmoviemania', 'poignancy', 'poignant', 'poignantly', 'point', 'pointe', 'pointed', 'pointedly', 'pointer', 'pointing', 'pointless', 'pointlessly', 'pointlessness', 'points', 'poison', 'poisoned', 'poisoning', 'poisonous', 'poisons', 'poitier', 'poke', 'pokemon', 'poker', 'pokey', 'poking', 'pokémon', 'pol', 'polanski', 'polar', 'polay', 'pole', 'polemic', 'polemics', 'poles', 'police', 'policeman', 'policemen', 'policy', 'polish', 'polished', 'political', 'politically', 'politician', 'politicians', 'politics', 'pollack', 'pollak', 'pollution', 'polly', 'polyester', 'polynesian', 'pompeo', 'pompous', 'ponder', 'ponderous', 'pontiac', 'pontificate', 'pontificates', 'pontification', 'pontius', 'pony', 'ponytails', 'poo', 'poodle', 'pooja', 'pool', 'poop', 'poor', 'poorly', 'pop', 'popcorn', 'pope', 'popeye', 'popped', 'popping', 'poppins', 'poppy', 'pops', 'popular', 'popularity', 'populated', 'population', 'populist', 'populous', 'popwell', 'porky', 'porn', 'porno', 'porshe', 'port', 'porter', 'portion', 'portman', 'porto', 'portobello', 'portrait', 'portraits', 'portray', 'portrayal', 'portrayed', 'portraying', 'portrays', 'portugues', 'posed', 'poses', 'posey', 'posh', 'posing', 'posit', 'posited', 'position', 'positions', 'positive', 'positively', 'positives', 'posse', 'posses', 'possess', 'possessed', 'possessing', 'possession', 'possessions', 'possessiveness', 'possibilities', 'possibility', 'possible', 'possibly', 'post', 'postal', 'posted', 'poster', 'posting', 'postman', 'postmortem', 'posturing', 'postwar', 'pot', 'pota', 'potatoes', 'potboiler', 'potent', 'potential', 'potentially', 'potion', 'potted', 'potter', 'potts', 'potty', 'pound', 'pounds', 'pour', 'pov', 'poverty', 'powaqqatsi', 'powder', 'powell', 'power', 'powered', 'powerful', 'powerfully', 'powerhouse', 'powerless', 'powers', 'ppppuuuulllleeeeeez', 'ppv', 'pr', 'practical', 'practically', 'practice', 'practices', 'practicing', 'praise', 'praised', 'praises', 'prakash', 'prances', 'prank', 'pranks', 'prankster', 'pranksters', 'prashant', 'pratfall', 'pratfalls', 'prattle', 'pray', 'prayer', 'prayers', 'praying', 'prays', 'prc', 'pre', 'preach', 'preacher', 'preaching', 'preachy', 'precautions', 'precede', 'preceded', 'preceding', 'precinct', 'precious', 'precise', 'precisely', 'precludes', 'precocious', 'preconceived', 'preda', 'predating', 'predecessor', 'predecessors', 'predicaments', 'predict', 'predictability', 'predictable', 'predictably', 'predicted', 'prediction', 'predictions', 'predicts', 'predominantly', 'predominate', 'preening', 'prefabricated', 'prefer', 'preferable', 'preferably', 'preference', 'preferred', 'prefers', 'pregnancies', 'pregnant', 'prehistoric', 'preity', 'prejudice', 'prem', 'premiere', 'premiered', 'premiers', 'preminger', 'premise', 'premium', 'preparations', 'prepare', 'prepared', 'preparing', 'preposterous', 'preppies', 'preppy', 'prequel', 'presence', 'presences', 'present', 'presentation', 'presented', 'presenter', 'presenting', 'presents', 'preserve', 'preserved', 'preserves', 'president', 'presidential', 'presidents', 'presley', 'press', 'pressburger', 'pressed', 'pressing', 'pressure', 'pressures', 'prestigious', 'preston', 'presumable', 'presumably', 'presume', 'presumed', 'presuming', 'preteen', 'pretend', 'pretended', 'pretenders', 'pretending', 'pretends', 'pretension', 'pretentious', 'pretentiously', 'pretentiousness', 'pretext', 'pretty', 'prettymuch', 'pretzel', 'prevail', 'prevent', 'preventing', 'preview', 'previewed', 'previews', 'previous', 'previously', 'prey', 'prez', 'pri', 'price', 'priced', 'priceless', 'pricelessly', 'pricey', 'pricks', 'pride', 'pried', 'priest', 'priestess', 'priesthood', 'priests', 'priggish', 'primarily', 'primary', 'prime', 'primed', 'primer', 'primitive', 'primitiveness', 'prince', 'princess', 'principal', 'principals', 'principle', 'principles', 'pringle', 'print', 'printed', 'prior', 'prison', 'prisoner', 'prisoners', 'pritam', 'privacy', 'private', 'privates', 'priveghi', 'privies', 'privileged', 'privleged', 'privy', 'prix', 'priya', 'priyadarshan', 'prize', 'prizzi', 'pro', 'probability', 'probable', 'probably', 'proberbial', 'probes', 'probibly', 'probie', 'problem', 'problematic', 'problems', 'procedural', 'procedure', 'proceed', 'proceeded', 'proceeding', 'proceedings', 'proceeds', 'process', 'proclaim', 'proclaimed', 'proclaims', 'procreation', 'prods', 'produce', 'produced', 'producer', 'producers', 'producing', 'product', 'production', 'productions', 'productive', 'products', 'prof', 'profanity', 'profess', 'profession', 'professional', 'professionalism', 'professionally', 'professionals', 'professor', 'professors', 'proficiency', 'proficient', 'profile', 'profiled', 'profiles', 'profit', 'profound', 'profoundly', 'profund', 'program', 'programme', 'programmer', 'programs', 'progress', 'progressed', 'progresses', 'progressing', 'progression', 'progressional', 'proibir', 'project', 'projected', 'projection', 'projects', 'prolific', 'prologue', 'prolonging', 'prom', 'prominent', 'prominently', 'promiscuous', 'promise', 'promised', 'promises', 'promising', 'promo', 'promos', 'promote', 'promoted', 'promoter', 'promotes', 'promoting', 'promotion', 'promotional', 'prompted', 'prompting', 'promptly', 'proms', 'prone', 'pronounce', 'pronounced', 'proof', 'prop', 'propaganda', 'propashchiy', 'propellant', 'propensity', 'proper', 'properly', 'property', 'prophecies', 'prophecy', 'prophet', 'prophetic', 'propogate', 'proponent', 'proportion', 'proportionality', 'proportions', 'proposal', 'proposes', 'propping', 'proprietor', 'props', 'propster', 'pros', 'prose', 'prosecuted', 'prosecution', 'prosecutor', 'proselytizing', 'prospect', 'prospector', 'prosthetics', 'prostitute', 'prostitutes', 'prostitution', 'protagonist', 'protagonists', 'protect', 'protection', 'protective', 'protector', 'protest', 'protestants', 'protoplasms', 'prototype', 'proud', 'proudly', 'prove', 'proved', 'proverbial', 'proverbs', 'proves', 'provide', 'provided', 'provides', 'providing', 'province', 'provinces', 'proving', 'provocative', 'provoke', 'provoking', 'prowess', 'prowl', 'prozac', 'prudish', 'prussic', 'ps2', 'pseudo', 'pseudonym', 'psm', 'psychadelic', 'psyche', 'psychedelic', 'psychiatric', 'psychiatrist', 'psychic', 'psychically', 'psycho', 'psychological', 'psychologies', 'psychology', 'psychopath', 'psychopaths', 'psychosis', 'psychotherapists', 'psychotic', 'psychotically', 'pt', 'pterodactyl', 'ptss', 'pu', 'puberty', 'public', 'publication', 'publicity', 'published', 'pubs', 'pudding', 'puddle', 'puerile', 'puerility', 'puerto', 'puertoricans', 'puff', 'puffy', 'puke', 'puked', 'pull', 'pulled', 'pulling', 'pullman', 'pulls', 'pulp', 'pulpits', 'pulpy', 'pulse', 'pumbaa', 'pump', 'pumps', 'pun', 'punch', 'punched', 'punches', 'punching', 'punchlines', 'punctuated', 'punish', 'punishing', 'punishment', 'punk', 'puns', 'pup', 'pupil', 'puppet', 'puppets', 'puppies', 'puppy', 'purcell', 'purchase', 'purchased', 'purchases', 'pure', 'purely', 'purgatory', 'puri', 'purify', 'purists', 'puritanical', 'purple', 'purples', 'purpose', 'purposeful', 'purposeless', 'purposely', 'purposes', 'pursue', 'pursued', 'pursues', 'pursuing', 'pursuit', 'pus', 'push', 'pushed', 'pushing', 'pussy', 'put', 'putnam', 'puts', 'putting', 'putty', 'puzzle', 'puzzled', 'puzzles', 'puzzling', 'pyewacket', 'pym', 'pyramid', 'pyrotechnics', 'python', 'pyun', 'pânico', 'périer', 'qdlm', 'qestions', 'quaid', 'quaien', 'quaint', 'qualifies', 'qualify', 'qualities', 'quality', 'quantity', 'quantum', 'quarter', 'quarters', 'quartet', 'quartier', 'quasi', 'quasirealistic', 'quebecois', 'queen', 'queens', 'queequeg', 'queer', 'quelled', 'quest', 'question', 'questionable', 'questioned', 'questionnaire', 'questions', 'queue', 'quibble', 'quick', 'quicker', 'quickie', 'quickly', 'quid', 'quiet', 'quieter', 'quietly', 'quinn', 'quintana', 'quintessential', 'quintin', 'quips', 'quirkiness', 'quirks', 'quirky', 'quit', 'quite', 'quits', 'quitte', 'quitting', 'quiver', 'quiz', 'quo', 'quota', 'quotable', 'quote', 'quoted', 'quotes', 'quoting', 'r1', 'r2', 'rabbi', 'rabbit', 'rabid', 'rabies', 'race', 'races', 'racetrack', 'racheal', 'rachel', 'racial', 'racing', 'racism', 'racist', 'rack', 'radar', 'rade', 'radiate', 'radiation', 'radical', 'radically', 'radicals', 'radio', 'radios', 'radium', 'rae', 'raf', 'rafael', 'raft', 'rag', 'rage', 'ragged', 'raggedy', 'raghavan', 'raging', 'rai', 'raiders', 'rail', 'railing', 'railroad', 'railsback', 'railway', 'raimi', 'rain', 'rainbows', 'raindrops', 'rainer', 'rainers', 'raines', 'raining', 'rains', 'rainy', 'raise', 'raised', 'raises', 'raising', 'raison', 'raj', 'rajpal', 'ralph', 'rama', 'rambles', 'rambling', 'ramblings', 'rambo', 'rami', 'ramifications', 'ramones', 'rampage', 'rampages', 'rampant', 'ramshackle', 'ramtha', 'ramu', 'ran', 'ranch', 'rancid', 'rand', 'randolph', 'random', 'randomly', 'randy', 'rang', 'range', 'ranger', 'rangers', 'ranges', 'ranging', 'rani', 'rank', 'ranked', 'ranking', 'rankings', 'rankled', 'ranks', 'ranma', 'ransom', 'rant', 'rants', 'raoul', 'rap', 'rapa', 'rapaport', 'rape', 'raped', 'rapes', 'rapid', 'rapidly', 'raping', 'rapist', 'rapists', 'raposo', 'rapper', 'rapport', 'raptor', 'rapture', 'rare', 'rarely', 'rarity', 'rascal', 'rashid', 'rashly', 'rashomon', 'raspy', 'rasta', 'rat', 'rate', 'rated', 'rates', 'rathbone', 'rather', 'rating', 'ratings', 'ratio', 'rational', 'rationalistic', 'rationally', 'rations', 'raton', 'rats', 'rattling', 'raubal', 'raul', 'rave', 'raven', 'ravenous', 'ravensbrück', 'raves', 'ravi', 'raw', 'rawanda', 'ray', 'raya', 'raymond', 'rayne', 'razor', 'razorfriendly', 're', 'rea', 'reaaaally', 'reach', 'reached', 'reaches', 'reaching', 'react', 'reacting', 'reaction', 'reactionary', 'reactions', 'reacts', 'read', 'reader', 'readers', 'readily', 'reading', 'readings', 'readjusting', 'reads', 'ready', 'reagan', 'real', 'realise', 'realised', 'realises', 'realising', 'realism', 'realist', 'realistic', 'realistically', 'realities', 'reality', 'realize', 'realized', 'realizes', 'realizing', 'really', 'realm', 'realms', 'reams', 'reanimated', 'reaper', 'reappeared', 'rear', 'reared', 'rearrange', 'rearranging', 'rears', 'reason', 'reasonable', 'reasoned', 'reasoning', 'reasons', 'reassigned', 'reassure', 'reassured', 'reate', 'reaves', 'rebanished', 'rebb', 'rebecca', 'rebellion', 'rebellious', 'rebels', 'rebound', 'rebuild', 'rebuilt', 'rebuttal', 'recall', 'recalling', 'recalls', 'recap', 'recapture', 'reccomend', 'receive', 'received', 'receives', 'receiving', 'recent', 'recently', 'reception', 'receptive', 'recieved', 'recipe', 'recital', 'recites', 'reckless', 'reckon', 'reclaims', 'recognisably', 'recognised', 'recognizable', 'recognize', 'recognized', 'recognizes', 'recommend', 'recommendable', 'recommendation', 'recommended', 'recommending', 'recommends', 'reconcilable', 'reconciliation', 'reconciling', 'reconstruct', 'record', 'recorded', 'recording', 'recordings', 'records', 'recoup', 'recover', 'recovers', 'recreate', 'recreating', 'recreation', 'recriminations', 'recruit', 'recruited', 'recruiting', 'recruits', 'rectifying', 'recuperate', 'recurring', 'recycled', 'red', 'redeemable', 'redeemed', 'redeeming', 'redefines', 'redemption', 'redfield', 'redford', 'redgrave', 'redhead', 'redid', 'rediscover', 'rediscovered', 'rediscovering', 'redness', 'redolent', 'reduced', 'reducing', 'redundancy', 'redundant', 'reed', 'reedy', 'reef', 'reeks', 'reel', 'reelers', 'reeling', 'reels', 'reenberg', 'reese', 'reevaluate', 'reeve', 'reeves', 'ref', 'refer', 'referees', 'reference', 'references', 'referencing', 'referred', 'referring', 'refers', 'refinement', 'reflect', 'reflection', 'reflections', 'reflects', 'reflex', 'reform', 'refrain', 'refreshing', 'refuge', 'refundable', 'refuse', 'refused', 'refuses', 'reg', 'regality', 'regard', 'regarded', 'regarding', 'regardless', 'regards', 'reggie', 'regime', 'regiment', 'regina', 'regions', 'regis', 'regret', 'regrets', 'regretting', 'regular', 'regulation', 'rehash', 'rehashing', 'reich', 'reid', 'reidelsheimer', 'reign', 'reincarnated', 'reincarnates', 'reindeer', 'reiner', 'reinforce', 'reinforced', 'reinforcement', 'reinforces', 'reins', 'reintroducing', 'reiser', 'reisert', 'reject', 'rejected', 'rejecting', 'rejection', 'relatable', 'relate', 'related', 'relates', 'relating', 'relation', 'relations', 'relationship', 'relationships', 'relative', 'relatively', 'relatives', 'relax', 'relaxed', 'relaxing', 'relays', 'release', 'released', 'releases', 'releasing', 'relegated', 'relentless', 'relentlessly', 'relevance', 'relevant', 'reliably', 'relief', 'relies', 'relieved', 'relieving', 'religion', 'religions', 'religious', 'religulous', 'relish', 'reloaded', 'relocates', 'reluctance', 'reluctant', 'rely', 'remade', 'remain', 'remainder', 'remained', 'remaining', 'remains', 'remake', 'remakes', 'remaking', 'remarcable', 'remark', 'remarkable', 'remarkably', 'remarks', 'remarque', 'remastered', 'remember', 'remembered', 'remembering', 'remembers', 'remer', 'remind', 'reminded', 'reminding', 'reminds', 'reminiscences', 'reminiscent', 'remix', 'remote', 'remotely', 'removal', 'remove', 'removed', 'remuneration', 'ren', 'renaissance', 'renassaince', 'render', 'rendered', 'renders', 'rendition', 'rene', 'renewed', 'renewing', 'renfield', 'renny', 'renoir', 'renovate', 'renovation', 'rent', 'rental', 'rentals', 'rented', 'renting', 'rents', 'renyolds', 'rené', 'rep', 'repairing', 'repartees', 'repast', 'repays', 'repeat', 'repeated', 'repeatedly', 'repeating', 'repelled', 'repellent', 'repelling', 'repertoire', 'repetition', 'repetitions', 'repetitious', 'repetitive', 'rephrase', 'replacdmetn', 'replace', 'replaced', 'replayable', 'replayed', 'replaying', 'replenish', 'replicate', 'replies', 'reply', 'repoire', 'report', 'reported', 'reportedly', 'reporter', 'reports', 'reprehensible', 'represent', 'representation', 'representative', 'representatives', 'represented', 'representing', 'represents', 'repressed', 'reprise', 'reprises', 'reprising', 'reprobate', 'reproductive', 'reptile', 'reptiles', 'reptilian', 'repubhlic', 'republic', 'repugnant', 'repulsed', 'repulsion', 'repulsive', 'reputation', 'reputations', 'reputed', 'requested', 'requiem', 'require', 'required', 'requires', 'requisite', 'reruns', 'rescue', 'rescued', 'rescuing', 'research', 'researched', 'researcher', 'researching', 'resemblance', 'resemble', 'resembled', 'resembles', 'resembling', 'resentful', 'reservation', 'reserve', 'reserved', 'reserving', 'reservoir', 'reset', 'reshovsky', 'resident', 'residents', 'residing', 'residue', 'resigned', 'resilient', 'resin', 'resist', 'resistance', 'resisting', 'resolution', 'resolutions', 'resolve', 'resolved', 'resolves', 'resolving', 'resonant', 'resonate', 'resonation', 'resort', 'resorted', 'resounding', 'resources', 'respect', 'respectable', 'respected', 'respectful', 'respecting', 'respective', 'respectively', 'resplendent', 'respond', 'response', 'responses', 'responsibilities', 'responsibility', 'responsible', 'resses', 'rest', 'restaraunt', 'restaurant', 'restful', 'restless', 'restoration', 'restored', 'restores', 'restrained', 'restricting', 'restrictions', 'restroom', 'restructure', 'rests', 'result', 'resultant', 'resulted', 'resulting', 'results', 'resume', 'resurrect', 'resurrects', 'retains', 'retarded', 'retch', 'retelling', 'rethink', 'rethwisch', 'retinas', 'retire', 'retired', 'retirement', 'retold', 'retread', 'retreat', 'retribution', 'retrieve', 'retriever', 'retrospect', 'retrospective', 'retrospectively', 'return', 'returning', 'returns', 'reuben', 'reunion', 'reunites', 'reve', 'reveal', 'revealed', 'revealing', 'reveals', 'revelation', 'revelations', 'revels', 'revenge', 'reversal', 'reversals', 'reverse', 'reversing', 'reverts', 'review', 'reviewed', 'reviewer', 'reviewers', 'reviewing', 'reviews', 'revised', 'revisions', 'revisit', 'revival', 'revive', 'revived', 'revives', 'revoew', 'revoked', 'revolt', 'revolting', 'revolution', 'revolutionaries', 'revolutionary', 'revolve', 'revolver', 'revolves', 'revolving', 'reward', 'rewarded', 'rewarding', 'rewards', 'rewatched', 'rewind', 'reworking', 'rewrite', 'rex', 'reynolds', 'rgv', 'rhea', 'rhine', 'rhys', 'rhythm', 'rhythms', 'riah', 'rialto', 'ribisi', 'ribs', 'ricardo', 'ricca', 'riccardo', 'rich', 'richard', 'richards', 'richardson', 'richer', 'riches', 'richest', 'richly', 'richness', 'rick', 'rickaby', 'rickety', 'rickles', 'rickman', 'ricky', 'rid', 'ridden', 'riddle', 'ride', 'rideau', 'rider', 'riders', 'rides', 'ridge', 'ridicule', 'ridiculous', 'ridiculously', 'riding', 'riedelsheimer', 'riefenstahl', 'rif', 'riff', 'riffer', 'riffs', 'rifle', 'rifles', 'rig', 'rigg', 'rigging', 'right', 'righteousness', 'rightly', 'rights', 'rigid', 'rigor', 'rigorously', 'riker', 'riley', 'rim', 'ring', 'ringleader', 'ringmaster', 'ringo', 'rings', 'ringu', 'ringwald', 'rinne', 'riot', 'rioters', 'rioting', 'riotous', 'riots', 'rip', 'ripe', 'ripened', 'ripoff', 'ripped', 'ripper', 'ripping', 'riproaring', 'rise', 'rises', 'risible', 'rising', 'risk', 'risking', 'risks', 'rita', 'ritchie', 'rites', 'ritter', 'ritual', 'rival', 'rivaled', 'rivalry', 'river', 'riveria', 'rivers', 'riverton', 'riveting', 'riviera', 'rizwan', 'rizzo', 'rko', 'rks', 'rmember', 'ro', 'roach', 'road', 'roadie', 'roads', 'roadshow', 'roam', 'roar', 'roaring', 'roarke', 'rob', 'robber', 'robbery', 'robbie', 'robbin', 'robbing', 'robbins', 'robby', 'robert', 'roberta', 'roberto', 'roberts', 'robertson', 'robin', 'robinson', 'robot', 'robotboy', 'robotic', 'robots', 'robs', 'robson', 'rochester', 'rochon', 'rock', 'rocked', 'rocker', 'rocket', 'rocketed', 'rockets', 'rockford', 'rocks', 'rocky', 'rod', 'rodann', 'roddenberry', 'roddy', 'rode', 'rodent', 'rodriguez', 'roebuck', 'roedel', 'roemheld', 'roger', 'rogers', 'rogue', 'rohm', 'rohmer', 'roldan', 'role', 'roles', 'roll', 'rolle', 'rolled', 'roller', 'rollers', 'rollin', 'rolling', 'rolls', 'rom', 'roma', 'roman', 'romance', 'romanced', 'romances', 'romancing', 'romania', 'romantic', 'romanticism', 'romantics', 'rome', 'romeo', 'romero', 'romp', 'romulus', 'ron', 'ronda', 'ronin', 'ronnie', 'ronny', 'roof', 'roofs', 'rooker', 'rookie', 'rookies', 'room', 'roommate', 'roommates', 'rooms', 'rooney', 'root', 'rooted', 'rooting', 'roots', 'rope', 'ropes', 'ropey', 'rosalba', 'rosanna', 'rosario', 'roscoe', 'rose', 'roseanne', 'rosemary', 'rosen', 'roses', 'roshan', 'ross', 'rossilini', 'rossitto', 'rot', 'roth', 'rotj', 'rotoscoped', 'rotten', 'rottentomatoes', 'rotting', 'rotund', 'roue', 'rough', 'roughly', 'roughshod', 'rougish', 'round', 'rounded', 'rounds', 'roundup', 'rouse', 'rout', 'route', 'routine', 'routines', 'row', 'rowdy', 'rowlands', 'roxie', 'roy', 'royal', 'royale', 'royalty', 'roëves', 'rpg', 'rs', 'rub', 'rubber', 'rubbish', 'rubbishy', 'ruben', 'rubens', 'rubik', 'rubin', 'ruby', 'ruckus', 'rudd', 'rudolf', 'rudolph', 'rue', 'rug', 'ruge', 'ruhr', 'ruin', 'ruined', 'ruining', 'ruins', 'rukh', 'rule', 'rulers', 'rules', 'ruling', 'rumbles', 'rumored', 'rumors', 'run', 'runaway', 'rung', 'runic', 'runner', 'runnin', 'running', 'runs', 'runtime', 'runyonesque', 'rupert', 'ruphert', 'ruppert', 'rural', 'rush', 'rushed', 'rushes', 'rushmore', 'russ', 'russel', 'russell', 'russia', 'russian', 'russians', 'russo', 'rusticism', 'rusty', 'rutger', 'ruth', 'ruthless', 'rutledge', 'rv', 'ryan', 'ryder', 'ryecart', 'rylance', 'ryoko', 'rôyaburi', 's02e03', 'saawariya', 'sabella', 'saber', 'saboteur', 'sabre', 'sabretooth', 'sabrina', 'sabu', 'saccharine', 'sachar', 'sack', 'sacred', 'sacrifice', 'sacrificed', 'sacrifices', 'sad', 'saddened', 'sadder', 'saddle', 'saddles', 'sade', 'sadist', 'sadistic', 'sadly', 'sadness', 'safe', 'safely', 'safer', 'safety', 'sag', 'saga', 'sagal', 'sagas', 'saget', 'saggy', 'sahib', 'said', 'sail', 'sailing', 'sailor', 'sailors', 'saint', 'sake', 'salad', 'saldana', 'salem', 'sales', 'salesman', 'salina', 'salk', 'salka', 'sally', 'salman', 'salmans', 'salomaa', 'salt', 'salted', 'salute', 'salva', 'salvador', 'salvage', 'salvaging', 'salvation', 'sam', 'samantha', 'same', 'samhain', 'samharris', 'sammo', 'sammy', 'sampson', 'sams', 'samson', 'samuel', 'samundar', 'samurai', 'san', 'sanatorium', 'sand', 'sandell', 'sanders', 'sandford', 'sandler', 'sandoval', 'sandra', 'sands', 'sandstorm', 'sandwich', 'sandy', 'sane', 'sang', 'sanity', 'sank', 'sans', 'sanskrit', 'sant', 'santa', 'santana', 'santos', 'sapiens', 'sappy', 'sara', 'sarah', 'sarasohn', 'sarcastic', 'sarcastically', 'sardinia', 'sardonic', 'sarne', 'sarno', 'sarpeidon', 'sasha', 'sashi', 'sasquatch', 'sassy', 'sat', 'satan', 'satanic', 'saterday', 'sathya', 'satire', 'satires', 'satirical', 'satirize', 'satisfaction', 'satisfactory', 'satisfied', 'satisfy', 'satisfying', 'satish', 'saturday', 'saucers', 'saudi', 'saul', 'saura', 'saurabh', 'sauron', 'savage', 'savagely', 'savagery', 'savalas', 'save', 'saved', 'saves', 'savier', 'saving', 'savings', 'savini', 'savior', 'savour', 'saw', 'sawa', 'sawyer', 'saxon', 'saxophones', 'saxophonist', 'say', 'saying', 'sayonara', 'says', 'sayuri', 'scaffolding', 'scale', 'scales', 'scalp', 'scalpel', 'scam', 'scan', 'scandal', 'scanned', 'scantily', 'scapinelli', 'scar', 'scarce', 'scarcely', 'scare', 'scarecrow', 'scarecrows', 'scared', 'scares', 'scarf', 'scarface', 'scarier', 'scariest', 'scarlett', 'scarred', 'scars', 'scary', 'scathing', 'scatological', 'scatology', 'scatter', 'scattered', 'scattershot', 'scavengers', 'scavo', 'scenario', 'scenarios', 'scenarists', 'scene', 'scenery', 'scenes', 'sceptical', 'schaech', 'schedule', 'scheme', 'schemes', 'scheming', 'schepisi', 'schifrin', 'schindler', 'schlock', 'schmaltz', 'schneider', 'scholars', 'scholarship', 'school', 'schoolboys', 'schooler', 'schoolgirl', 'schools', 'schoolteacher', 'schrage', 'schtick', 'schultz', 'schumacher', 'schwarzenegger', 'schwarzmann', 'sci', 'science', 'scientific', 'scientist', 'scientists', 'scientologists', 'scifi', 'scoffs', 'scold', 'scolding', 'scolds', 'scooby', 'scoop', 'scooped', 'scope', 'score', 'scorecard', 'scored', 'scores', 'scoring', 'scorpion', 'scorsese', 'scotland', 'scots', 'scotsmen', 'scott', 'scottish', 'scourge', 'scouting', 'scowl', 'scowls', 'scramble', 'scrambled', 'scrambling', 'scrape', 'scrapped', 'scraps', 'scratch', 'scratched', 'scream', 'screamed', 'screaming', 'screams', 'screeching', 'screen', 'screened', 'screening', 'screenings', 'screenplay', 'screenplays', 'screens', 'screenwriter', 'screenwriters', 'screw', 'screwball', 'screwed', 'screwing', 'screws', 'script', 'scripted', 'scripting', 'scripts', 'scriptwriter', 'scrolling', 'scrooge', 'scrubbed', 'scruples', 'sctv', 'scuddamore', 'scullery', 'scully', 'sculptures', 'sd', 'se', 'sea', 'seagal', 'seagle', 'seal', 'seam', 'seaman', 'seamen', 'seamless', 'sean', 'search', 'searched', 'searchers', 'searching', 'seaside', 'season', 'seasonal', 'seasoned', 'seasons', 'seat', 'seated', 'seats', 'seattle', 'sebastiaan', 'sebastiaans', 'sec', 'secombe', 'second', 'secondary', 'secondly', 'seconds', 'secondus', 'secret', 'secretaries', 'secretary', 'secretive', 'secretly', 'secrets', 'section', 'sections', 'secular', 'secure', 'security', 'sediment', 'seduced', 'seducer', 'seduction', 'seductive', 'seductively', 'seductress', 'see', 'seeber', 'seed', 'seedy', 'seeing', 'seek', 'seekers', 'seeking', 'seeks', 'seem', 'seemed', 'seeming', 'seemingly', 'seems', 'seen', 'sees', 'seething', 'segal', 'segall', 'segel', 'segment', 'segments', 'seidl', 'seine', 'seinfeld', 'seized', 'seizing', 'seldom', 'select', 'selecting', 'selection', 'self', 'selfish', 'selfishness', 'sell', 'selleck', 'sellers', 'selling', 'sells', 'selznick', 'semblance', 'semi', 'seminar', 'sen', 'senator', 'senators', 'send', 'sender', 'sending', 'sends', 'sendup', 'senior', 'seniors', 'sensate', 'sensation', 'sensational', 'sensationalism', 'sensationalistic', 'sense', 'senseless', 'senselessly', 'senses', 'sensibilities', 'sensibility', 'sensical', 'sensitive', 'sensory', 'sensual', 'sensuality', 'sent', 'sentence', 'sentenced', 'sentences', 'sentiment', 'sentimentality', 'sentimentalized', 'sentiments', 'sentinel', 'sentry', 'seoul', 'separate', 'separated', 'separately', 'separation', 'sepia', 'seppuku', 'september', 'sequal', 'sequel', 'sequels', 'sequence', 'sequenced', 'sequences', 'sequenes', 'sequiturs', 'serbia', 'serbian', 'serge', 'sergeant', 'sergeants', 'sergio', 'sergius', 'serguis', 'serial', 'serials', 'serie', 'series', 'serio', 'serious', 'seriously', 'serling', 'sermon', 'serriously', 'serum', 'servant', 'servants', 'serve', 'served', 'serves', 'service', 'services', 'serving', 'servitude', 'servo', 'seryozha', 'seseme', 'session', 'set', 'seth', 'seti', 'sets', 'setting', 'settings', 'settle', 'settled', 'setup', 'seuss', 'seven', 'seventh', 'several', 'severally', 'severe', 'severed', 'severely', 'sewer', 'sex', 'sexes', 'sexiest', 'sexism', 'sexist', 'sexual', 'sexuality', 'sexually', 'sexy', 'seymour', 'sf', 'sfx', 'sg', 'sg1', 'sgc', 'sh', 'shaadi', 'shabby', 'shack', 'shades', 'shadix', 'shadow', 'shadowed', 'shadows', 'shady', 'shagging', 'shaggy', 'shaheen', 'shahid', 'shake', 'shakespeare', 'shakiness', 'shaking', 'shakti', 'shaku', 'shaky', 'shall', 'shallow', 'shaloub', 'shalub', 'sham', 'shame', 'shameful', 'shameless', 'shampoo', 'shane', 'shangai', 'shanghai', 'shanks', 'shannon', 'shape', 'shapes', 'shapiro', 'shards', 'share', 'shared', 'sharif', 'sharing', 'shark', 'sharks', 'sharman', 'sharon', 'sharp', 'sharpen', 'sharper', 'sharukh', 'shattering', 'shaun', 'shaw', 'shawn', 'shawshank', 'shayaris', 'shaye', 'she', 'shea', 'shear', 'shed', 'shedding', 'sheedy', 'sheen', 'sheep', 'sheer', 'sheet', 'sheeta', 'sheets', 'shefali', 'sheffer', 'sheffielders', 'shekhar', 'shelby', 'shelf', 'shell', 'shelley', 'shells', 'shelly', 'shelter', 'shemekia', 'shep', 'shepard', 'shepherd', 'shepherdesses', 'sheridan', 'sheriff', 'sherlock', 'sherman', 'sherry', 'sherrybaby', 'shes', 'shetty', 'shi', 'shia', 'shield', 'shift', 'shifting', 'shifts', 'shigeru', 'shikhar', 'shiloh', 'shim', 'shimizu', 'shin', 'shine', 'shined', 'shiner', 'shines', 'shingo', 'shining', 'shinjuku', 'shiny', 'ship', 'shipley', 'shipped', 'ships', 'shiri', 'shirley', 'shirt', 'shirts', 'shit', 'shite', 'shitty', 'shivers', 'shnooks', 'sho', 'shock', 'shocked', 'shocking', 'shockingly', 'shockless', 'shockmovie', 'shoddily', 'shoddy', 'shoe', 'shoenumber', 'shoes', 'shoestring', 'shogun', 'shogunate', 'sholay', 'sholey', 'shook', 'shoot', 'shooter', 'shooting', 'shootings', 'shootout', 'shoots', 'shop', 'shoplifting', 'shopping', 'shops', 'short', 'shortcomings', 'shortened', 'shortly', 'shortness', 'shorts', 'shot', 'shotgun', 'shotguns', 'shots', 'should', 'shoulder', 'shoulders', 'shouldn', 'shout', 'shouted', 'shouting', 'shove', 'shoved', 'shoves', 'show', 'showbiz', 'showcase', 'showcased', 'showcases', 'showcasing', 'showdown', 'showed', 'shower', 'showers', 'showgirl', 'showing', 'showings', 'shown', 'shows', 'showtime', 'showy', 'shrek', 'shrew', 'shrewd', 'shrill', 'shrimp', 'shrink', 'shrinking', 'shrinks', 'shriveled', 'shriver', 'shropshire', 'shrug', 'shrunk', 'shtick', 'shu', 'shudder', 'shudders', 'shue', 'shuffling', 'shumlin', 'shut', 'shuts', 'shutterbug', 'shutting', 'shy', 'shyamalan', 'shyness', 'si', 'siam', 'siberian', 'sibiriada', 'sibling', 'siblings', 'sica', 'sick', 'sickening', 'sickens', 'sickly', 'sid', 'side', 'sided', 'sidekick', 'sidekicks', 'sides', 'sidetrack', 'sidewalk', 'sidney', 'siege', 'siegel', 'siemens', 'sierra', 'sigh', 'sighing', 'sighs', 'sight', 'sighted', 'sightings', 'sights', 'sign', 'signals', 'signature', 'signed', 'significance', 'significant', 'significantly', 'signifiers', 'signs', 'sigourney', 'sikes', 'sikking', 'silence', 'silenced', 'silencer', 'silences', 'silencing', 'silent', 'silk', 'sillier', 'silliness', 'silly', 'silva', 'silver', 'silverman', 'silvio', 'sim', 'simba', 'similar', 'similarities', 'similarity', 'similarly', 'simmer', 'simmons', 'simms', 'simon', 'simone', 'simonsons', 'simple', 'simplest', 'simpley', 'simplicity', 'simplification', 'simplistic', 'simply', 'simpson', 'simpsons', 'sims', 'simular', 'simulations', 'sin', 'sinatra', 'since', 'sincere', 'sincerely', 'sincerity', 'sing', 'singer', 'singers', 'singh', 'singhs', 'singin', 'singing', 'single', 'singleton', 'sings', 'sinister', 'sink', 'sinking', 'sins', 'sinthasomphone', 'sinuses', 'siodmak', 'sioux', 'sir', 'sirens', 'sirin', 'sirk', 'sis', 'siskel', 'sissy', 'sister', 'sisterhood', 'sisters', 'sit', 'sitcom', 'sitcoms', 'site', 'sites', 'sith', 'sits', 'sitter', 'sitting', 'situation', 'situational', 'situations', 'six', 'sixth', 'sixties', 'sixty', 'size', 'sized', 'sizes', 'sizzles', 'sizzling', 'skarsgård', 'skateboard', 'skater', 'skeletal', 'skeleton', 'skeletons', 'skeptical', 'skepticism', 'skerritt', 'sketch', 'sketches', 'sketching', 'skewing', 'skg', 'ski', 'skill', 'skilled', 'skillful', 'skillfully', 'skills', 'skimmed', 'skimming', 'skimpier', 'skimpy', 'skin', 'skinamax', 'skinned', 'skinny', 'skip', 'skipped', 'skipping', 'skippy', 'skips', 'skirt', 'skirts', 'skit', 'skits', 'skittish', 'skulks', 'skull', 'skullduggery', 'sky', 'skyscraper', 'slab', 'slack', 'slacker', 'slain', 'slam', 'slammer', 'slams', 'slants', 'slap', 'slapdash', 'slapping', 'slaps', 'slapstick', 'slash', 'slashed', 'slasher', 'slashers', 'slate', 'slater', 'slating', 'slaughter', 'slaughterhouse', 'slaughtering', 'slave', 'slavering', 'slavery', 'slaves', 'slayer', 'sleaze', 'sleaziness', 'sleazy', 'sledge', 'sleek', 'sleep', 'sleepapedic', 'sleeping', 'sleepless', 'sleeps', 'sleepwalkers', 'sleepwalking', 'sleepy', 'sleeve', 'slept', 'slew', 'slezak', 'slice', 'sliced', 'slick', 'slicker', 'slide', 'slight', 'slightest', 'slightly', 'slimy', 'slip', 'slipped', 'slipper', 'slippers', 'slipping', 'slips', 'slitheen', 'slither', 'sliver', 'sloan', 'slobbery', 'sloooow', 'sloooowly', 'slop', 'slopes', 'slopped', 'sloppy', 'slovenly', 'slow', 'slowdown', 'slower', 'slowly', 'slows', 'sludge', 'slug', 'slugs', 'slumber', 'slums', 'slut', 'sluts', 'slutty', 'sly', 'slyvester', 'smacks', 'small', 'smaller', 'smallville', 'smart', 'smarter', 'smartest', 'smartly', 'smarts', 'smarty', 'smash', 'smashed', 'smear', 'smears', 'smedley', 'smell', 'smells', 'smidgen', 'smight', 'smile', 'smiles', 'smiley', 'smiling', 'smirk', 'smirkish', 'smith', 'smithsonian', 'smoke', 'smokes', 'smokey', 'smoking', 'smooshed', 'smooth', 'smoother', 'smoothly', 'smorgasbord', 'smug', 'smuggling', 'snafu', 'snag', 'snake', 'snakeeater', 'snakes', 'snap', 'snapped', 'snapping', 'snappy', 'snaps', 'snapshot', 'snarling', 'snatch', 'snatcher', 'snatchers', 'sneak', 'sneakily', 'sneaking', 'sneaks', 'snicker', 'snide', 'snidely', 'sniffing', 'snigger', 'sniper', 'snipers', 'snippets', 'snitch', 'sniveling', 'snl', 'snob', 'snobbishness', 'snobby', 'snoozefest', 'snore', 'snoring', 'snow', 'snowballs', 'snowbound', 'snowman', 'snowwhite', 'snowy', 'snuff', 'so', 'soaked', 'soap', 'soapbox', 'soaper', 'soapers', 'soaring', 'sob', 'sobbing', 'sober', 'sobriety', 'sobriquet', 'soccer', 'soccoro', 'social', 'socialism', 'socialist', 'socialists', 'socializing', 'socially', 'societal', 'society', 'socioeconomic', 'socks', 'soda', 'sodding', 'soderbergh', 'soft', 'soften', 'softness', 'software', 'sogo', 'soh', 'soha', 'soho', 'soi', 'soid', 'sold', 'soldier', 'soldierly', 'soldiers', 'sole', 'solely', 'solemnly', 'soles', 'solett', 'solicitor', 'solid', 'solider', 'solidify', 'solidly', 'soliloquies', 'solitude', 'sollipsism', 'solo', 'solomon', 'solos', 'solution', 'solvang', 'solve', 'solves', 'solving', 'some', 'somebody', 'someday', 'somehow', 'someone', 'someones', 'someplace', 'somerset', 'somethihng', 'something', 'somethings', 'sometime', 'sometimes', 'someway', 'somewhat', 'somewhere', 'sommeil', 'somnambulistic', 'son', 'song', 'songs', 'songwriter', 'sonja', 'sonny', 'sons', 'sony', 'soon', 'sooner', 'sooo', 'sooooooo', 'sooty', 'sophia', 'sophie', 'sophisticatedly', 'sophistication', 'sophistry', 'sophomoric', 'soppy', 'sopranos', 'sorbonne', 'sorcerer', 'sorceress', 'sorcery', 'sore', 'sorely', 'sorrow', 'sorry', 'sort', 'sorta', 'sorts', 'sorvino', 'sossamon', 'sought', 'soul', 'soulful', 'soulless', 'soulmate', 'souls', 'soulseek', 'sound', 'sounded', 'soundeffects', 'sounding', 'sounds', 'soundtrack', 'soup', 'sour', 'source', 'sources', 'sourpuss', 'south', 'southeast', 'southern', 'southerner', 'southron', 'southwest', 'soviet', 'sow', 'sox', 'soylent', 'soze', 'spa', 'space', 'spacecamp', 'spaced', 'spacek', 'spaceship', 'spaceships', 'spacesuit', 'spacey', 'spade', 'spades', 'spagetti', 'spaghetti', 'spain', 'span', 'spaniard', 'spanish', 'spanking', 'spans', 'spare', 'spared', 'spares', 'spark', 'sparkle', 'sparks', 'spastically', 'spat', 'spatial', 'spawned', 'speak', 'speaker', 'speakers', 'speaking', 'speaks', 'spears', 'special', 'specialize', 'specially', 'species', 'specific', 'specifically', 'specifics', 'specified', 'spectacle', 'spectacular', 'spectacularly', 'spectaculars', 'spectator', 'specter', 'spectrum', 'speech', 'speeches', 'speechless', 'speed', 'speeded', 'speeders', 'speeding', 'speeds', 'speedway', 'spell', 'spelling', 'spencer', 'spend', 'spending', 'spends', 'spent', 'sperr', 'spews', 'sphinx', 'spice', 'spicing', 'spider', 'spiderman', 'spied', 'spielberg', 'spies', 'spike', 'spill', 'spilling', 'spilt', 'spin', 'spinach', 'spinal', 'spinally', 'spine', 'spineless', 'spins', 'spiral', 'spirit', 'spirited', 'spirits', 'spiritual', 'spit', 'spite', 'spits', 'spitting', 'splainin', 'splash', 'splashed', 'splatter', 'splattery', 'splendid', 'splendini', 'splendor', 'splendors', 'spliced', 'splicing', 'splint', 'split', 'splitter', 'splitting', 'splittingly', 'spock', 'spoil', 'spoiler', 'spoilers', 'spoiling', 'spoils', 'spoke', 'spoken', 'spokesmen', 'spongebob', 'sponsored', 'sponsoring', 'sponsors', 'spontaneity', 'spontaneous', 'spontaneously', 'spoof', 'spoofs', 'spooks', 'spooky', 'spores', 'sport', 'sporting', 'sports', 'spot', 'spotlight', 'spots', 'spotted', 'spouse', 'spout', 'spouting', 'sprawl', 'sprawling', 'sprayed', 'spraying', 'spread', 'spreading', 'spree', 'spring', 'springer', 'springfield', 'springsteen', 'springtime', 'springwood', 'sprinkled', 'sprouts', 'sprung', 'spun', 'spunky', 'spurrier', 'spurt', 'spy', 'spying', 'squad', 'squadders', 'squadron', 'squander', 'squandering', 'squared', 'squarely', 'squarepants', 'squares', 'squeaky', 'squeazy', 'squeemish', 'squeeze', 'squirmers', 'squirming', 'squirrel', 'squirrels', 'sr', 'ss', 'st', 'stab', 'stabbed', 'stabbing', 'stable', 'stabs', 'stacey', 'stack', 'stacks', 'stacy', 'staden', 'stadium', 'staff', 'stafford', 'stage', 'staged', 'stages', 'stagger', 'staggered', 'staggers', 'staginess', 'stagnant', 'stairs', 'stale', 'stalk', 'stalker', 'stalkfest', 'stalking', 'stalks', 'stallion', 'stallions', 'stallone', 'stalwart', 'stalwarts', 'stamos', 'stamp', 'stan', 'stance', 'stand', 'standard', 'standards', 'standing', 'standout', 'standpoint', 'stands', 'standstill', 'standup', 'stanley', 'stanwyck', 'stapleton', 'star', 'starchy', 'starck', 'stared', 'stares', 'starewicz', 'starfleet', 'stargate', 'staring', 'stark', 'starnberg', 'starred', 'starring', 'stars', 'starship', 'starsky', 'start', 'started', 'starters', 'starting', 'startled', 'startling', 'startrek', 'starts', 'starving', 'state', 'statement', 'statements', 'states', 'stathom', 'static', 'stating', 'station', 'stationed', 'stations', 'statistical', 'statistics', 'statue', 'statues', 'stature', 'status', 'stay', 'stayed', 'staying', 'stays', 'steadfast', 'steady', 'steakley', 'steal', 'stealer', 'stealing', 'steals', 'stealth', 'stealthily', 'steam', 'steamer', 'steamy', 'steel', 'steele', 'steeleye', 'steeped', 'steer', 'steering', 'steets', 'stefan', 'steffen', 'steiner', 'stella', 'stellar', 'stems', 'sten', 'step', 'stephan', 'stephanie', 'stephen', 'stepmother', 'stepping', 'steps', 'stepsisters', 'stepson', 'stereo', 'stereotype', 'stereotypes', 'stereotypical', 'stereotypically', 'stereotyping', 'sterile', 'stern', 'sternly', 'sterno', 'steroids', 'steve', 'steven', 'stevens', 'stevo', 'stew', 'stewart', 'stewarts', 'stick', 'stickers', 'sticking', 'sticks', 'sticky', 'stierman', 'stiff', 'stiffest', 'stifled', 'stifler', 'stigma', 'stiles', 'still', 'stiller', 'stillers', 'stillness', 'stilted', 'stiltedness', 'stimulates', 'stimulating', 'sting', 'stinger', 'stingers', 'stink', 'stinker', 'stinkers', 'stinks', 'stinky', 'stint', 'stints', 'stir', 'stirba', 'stirring', 'stitch', 'stitching', 'stivic', 'stk', 'sto', 'stock', 'stocking', 'stockings', 'stocks', 'stockwell', 'stole', 'stolen', 'stoltz', 'stomach', 'stomachs', 'stomped', 'stone', 'stoners', 'stones', 'stood', 'stooge', 'stooges', 'stoops', 'stop', 'stoppard', 'stopped', 'stopper', 'stoppers', 'stopping', 'stops', 'storage', 'store', 'stored', 'stores', 'stories', 'storm', 'stormare', 'story', 'storyline', 'storytelling', 'stow', 'straight', 'straighten', 'straightforward', 'strained', 'straining', 'strains', 'strait', 'strange', 'strangely', 'strangeness', 'stranger', 'strangers', 'strangest', 'strangled', 'strapped', 'strata', 'strategy', 'strauss', 'strawberry', 'straws', 'stray', 'straying', 'stream', 'streamlined', 'streep', 'street', 'streets', 'streetwalker', 'streetwise', 'streisand', 'strength', 'stress', 'stressed', 'stressful', 'stretch', 'stretched', 'stricken', 'strickland', 'strict', 'strictly', 'stride', 'strider', 'strife', 'strike', 'strikes', 'striking', 'strikingly', 'string', 'stringent', 'strings', 'strip', 'stripped', 'stripper', 'strips', 'striptease', 'strive', 'strived', 'strobing', 'stroheim', 'stroke', 'stroll', 'strong', 'stronger', 'strongest', 'strongly', 'struck', 'structural', 'structurally', 'structure', 'structured', 'struggle', 'struggles', 'struggling', 'strunzdumm', 'struts', 'strutting', 'stuart', 'stuck', 'stud', 'student', 'students', 'studies', 'studio', 'studios', 'study', 'stuff', 'stuffed', 'stuffing', 'stuffs', 'stumble', 'stumbled', 'stumbles', 'stumbling', 'stump', 'stunk', 'stunned', 'stunning', 'stunningly', 'stunt', 'stunted', 'stuntmen', 'stunts', 'stuntwoman', 'stupid', 'stupider', 'stupidest', 'stupidily', 'stupidity', 'stupor', 'sty', 'stygian', 'style', 'styles', 'stylings', 'stylised', 'stylish', 'stylishly', 'stylistic', 'styx', 'stéphane', 'störtebeker', 'su', 'suavely', 'suavity', 'sub', 'subaltern', 'subatomic', 'subconscious', 'subculture', 'subdued', 'suberb', 'subhuman', 'subject', 'subjected', 'subjecting', 'subjectively', 'subjects', 'sublimated', 'sublime', 'subliminal', 'submarine', 'submarines', 'submit', 'submitting', 'subplot', 'subplots', 'subs', 'subsequent', 'subsequently', 'subsist', 'substance', 'substances', 'substandard', 'substantial', 'substantially', 'substantive', 'substitute', 'substituted', 'substitutes', 'substituting', 'subterfuge', 'subtext', 'subtitle', 'subtitled', 'subtitles', 'subtle', 'subtleties', 'subtlety', 'subtly', 'suburb', 'suburbia', 'suburbs', 'subversive', 'subway', 'succeed', 'succeeded', 'succeeds', 'success', 'successful', 'successfully', 'succession', 'successor', 'succinct', 'succinctly', 'succubus', 'succumbing', 'succumbs', 'such', 'suck', 'sucked', 'sucker', 'suckers', 'sucking', 'suckotrocity', 'sucks', 'sudden', 'suddenly', 'suds', 'sue', 'suffer', 'suffered', 'suffering', 'sufferings', 'suffers', 'suffice', 'sufficient', 'sufficiently', 'suffocates', 'sugar', 'sugary', 'suggest', 'suggested', 'suggesting', 'suggestion', 'suggestions', 'suggests', 'sugiyama', 'suhosky', 'suicide', 'suit', 'suitable', 'suitably', 'suite', 'suited', 'suitor', 'suits', 'sullen', 'sullied', 'sullivan', 'sum', 'summaries', 'summarize', 'summarized', 'summarizing', 'summary', 'summation', 'summed', 'summer', 'summers', 'summon', 'summoned', 'sumner', 'sumpter', 'sums', 'sun', 'suna', 'sundance', 'sunday', 'sundress', 'sunflower', 'sung', 'sunk', 'sunken', 'sunlight', 'sunny', 'sunrise', 'sunset', 'sunshine', 'suo', 'super', 'superb', 'superbly', 'superficial', 'superficially', 'superfluous', 'superhero', 'superheroes', 'superheroine', 'superhuman', 'superimposed', 'superimposes', 'superimposition', 'superintendent', 'superior', 'superiors', 'superman', 'supermarket', 'supernanny', 'supernatural', 'superpower', 'superpowers', 'supersize', 'supertroopers', 'supervised', 'supervision', 'supervisor', 'supplement', 'supplicant', 'supplies', 'supply', 'support', 'supported', 'supporter', 'supporting', 'supportive', 'suppose', 'supposed', 'supposedly', 'supposing', 'suppress', 'suppressed', 'suppresses', 'supremacist', 'supremacy', 'supreme', 'supurb', 'sure', 'surely', 'surf', 'surface', 'surfed', 'surfer', 'surfing', 'surfs', 'surge', 'surgeon', 'surgery', 'surly', 'surmise', 'surpass', 'surpasses', 'surplus', 'surprise', 'surprised', 'surprises', 'surprising', 'surprisingly', 'surreal', 'surrealistic', 'surrender', 'surrogate', 'surround', 'surrounded', 'surrounding', 'surroundings', 'surveying', 'surveys', 'survival', 'survive', 'survived', 'surviving', 'survivor', 'survivors', 'susan', 'susannah', 'suspect', 'suspected', 'suspecting', 'suspects', 'suspend', 'suspended', 'suspense', 'suspenseful', 'suspension', 'suspicion', 'suspicions', 'suspicious', 'sustain', 'sustained', 'sustains', 'sutherland', 'suv', 'suvari', 'suzanna', 'suzanne', 'svea', 'sw', 'swallow', 'swallows', 'swanston', 'swapping', 'swarming', 'swarthy', 'swashbuckler', 'swashbuckling', 'swat', 'swatch', 'swathed', 'swayed', 'swear', 'swearing', 'sweat', 'sweater', 'sweating', 'sweats', 'sweaty', 'sweden', 'swedish', 'sweeney', 'sweep', 'sweeper', 'sweeps', 'sweepstakes', 'sweet', 'sweetest', 'sweetheart', 'sweetly', 'swelling', 'swept', 'swigs', 'swim', 'swimmer', 'swimming', 'swimsuit', 'swine', 'swineherd', 'swing', 'swingin', 'swinging', 'swirling', 'swiss', 'switch', 'switched', 'switches', 'switching', 'switzerland', 'swollen', 'swoop', 'sword', 'swordfish', 'swordplay', 'swords', 'swordsmanship', 'sworn', 'sy', 'syberberg', 'syched', 'sydney', 'sydow', 'syfy', 'sykes', 'sylvia', 'sylvie', 'symbol', 'symbolic', 'symbolism', 'symbolize', 'symbolized', 'symbols', 'sympathetic', 'sympathetically', 'sympathize', 'sympathized', 'sympathy', 'synapse', 'sync', 'synching', 'synchronicity', 'syndicate', 'syndrome', 'synonymous', 'synopsis', 'synovial', 'synth', 'synthesized', 'synthesizer', 'syria', 'syrup', 'system', 'systematically', 'systems', 'szabo', 'sánchez', 'så', 'ta', 'taandav', 'tabasco', 'table', 'tableau', 'tablecloths', 'tables', 'taboo', 'taboos', 'tabs', 'tacked', 'tackle', 'tackled', 'tackles', 'tackling', 'tact', 'tactics', 'tad', 'tadashi', 'taekwondo', 'tag', 'tags', 'tahoe', 'tail', 'tailing', 'tailor', 'tailored', 'tails', 'tainted', 'taipei', 'takashi', 'take', 'takeaway', 'takei', 'takeko', 'taken', 'takes', 'takin', 'taking', 'tale', 'talent', 'talented', 'talents', 'tales', 'talespin', 'talia', 'talk', 'talked', 'talker', 'talkies', 'talking', 'talks', 'tall', 'talley', 'talosians', 'tamako', 'tambor', 'tame', 'tamed', 'tamerlane', 'taming', 'tammuz', 'tammy', 'tampering', 'tampon', 'tan', 'tangled', 'tango', 'tank', 'tanks', 'tanner', 'tannhauser', 'tantalizing', 'tantrums', 'taos', 'tap', 'tape', 'taped', 'tapes', 'tapestries', 'tapped', 'tara', 'tarantino', 'taratino', 'tarentino', 'target', 'targets', 'tarkovsky', 'tarnished', 'tarnishes', 'tarot', 'tarquin', 'tarr', 'tartan', 'tarts', 'tarzan', 'tarzans', 'tas', 'tasha', 'tashan', 'task', 'tasks', 'tasogare', 'taste', 'tasteless', 'tastes', 'tastic', 'tastin', 'tasty', 'tate', 'tatsuhito', 'tattoo', 'tattoos', 'tatum', 'taught', 'taut', 'tavernier', 'tawnee', 'tax', 'taxation', 'taxes', 'taxi', 'taye', 'taylor', 'tayor', 'tb', 'tch', 'tchaikovsky', 'tcm', 'tea', 'teach', 'teacher', 'teachers', 'teaches', 'teaching', 'team', 'teams', 'teamwork', 'tear', 'tearing', 'tearjerker', 'tears', 'tech', 'technical', 'technicalities', 'technically', 'technicolor', 'technique', 'techniques', 'technological', 'technology', 'teck', 'ted', 'teddy', 'tedious', 'tedium', 'tee', 'teegra', 'teen', 'teenage', 'teenaged', 'teenager', 'teenagers', 'teenies', 'teens', 'teeth', 'teeths', 'teffe', 'tehran', 'tel', 'tele', 'telegraphed', 'telepathic', 'telephones', 'teleplay', 'teleportation', 'teleporting', 'televised', 'television', 'tell', 'tellegen', 'teller', 'telling', 'tellings', 'tells', 'telly', 'telugu', 'temp', 'temper', 'temperament', 'temperature', 'tempers', 'tempest', 'tempestuous', 'templar', 'template', 'temple', 'temporary', 'temptation', 'tempted', 'tempting', 'temptress', 'ten', 'tenant', 'tenants', 'tend', 'tended', 'tendency', 'tendentious', 'tender', 'tenderness', 'tending', 'tends', 'tenenbaums', 'tenma', 'tennesse', 'tennessee', 'tennis', 'tenor', 'tens', 'tense', 'tension', 'tensions', 'tent', 'tenuta', 'tep', 'tepid', 'tepper', 'teresa', 'teri', 'term', 'termed', 'terminal', 'terminally', 'terminator', 'termite', 'termites', 'terms', 'terra', 'terrace', 'terrible', 'terribly', 'terrific', 'terrifically', 'terrified', 'terrifying', 'terrifyingly', 'territorial', 'territories', 'territory', 'terror', 'terrorism', 'terrorist', 'terrorists', 'terrorize', 'terrorized', 'terry', 'terrytoons', 'terse', 'tess', 'tessari', 'test', 'testament', 'tested', 'testify', 'testimonies', 'testimony', 'testing', 'tests', 'tethers', 'texas', 'text', 'textbook', 'textiles', 'texture', 'textures', 'texturing', 'tftc', 'tgif', 'thade', 'thai', 'thailand', 'thalmus', 'than', 'thank', 'thankfully', 'thankless', 'thanks', 'thankyou', 'that', 'thatcher', 'thats', 'thaw', 'the', 'theater', 'theaters', 'theatre', 'theatres', 'theatrical', 'theatricality', 'theatrically', 'theatrics', 'thee', 'their', 'theirs', 'thelma', 'them', 'thematics', 'theme', 'themed', 'themes', 'themselves', 'then', 'theo', 'theodore', 'theological', 'theology', 'theories', 'theorizing', 'theory', 'therapist', 'there', 'thereby', 'therefore', 'thereof', 'theres', 'theresa', 'theron', 'these', 'thespian', 'thespians', 'they', 'thiat', 'thick', 'thickening', 'thicker', 'thief', 'thierry', 'thieving', 'thigpen', 'thin', 'thing', 'things', 'think', 'thinking', 'thinks', 'thinly', 'thinnes', 'third', 'thirds', 'thirteen', 'thirteenth', 'thirties', 'thirty', 'this', 'tho', 'thom', 'thomas', 'thomerson', 'thompson', 'thong', 'thorn', 'thornberrys', 'thorough', 'thoroughly', 'those', 'though', 'thought', 'thoughtful', 'thoughts', 'thousand', 'thousands', 'thrashing', 'thread', 'threads', 'threat', 'threaten', 'threatened', 'threatening', 'threatens', 'three', 'threequels', 'threesome', 'threw', 'thrice', 'thrilled', 'thriller', 'thrillers', 'thrilling', 'thrills', 'throat', 'throats', 'throbbing', 'throne', 'through', 'throughly', 'throughout', 'throw', 'throwaway', 'throwing', 'thrown', 'throws', 'thru', 'thrust', 'thug', 'thugee', 'thugs', 'thumbs', 'thumps', 'thunder', 'thunderbirds', 'thunderous', 'thunk', 'thurman', 'thursby', 'thursday', 'thus', 'thwart', 'thwarted', 'thwarts', 'thx', 'thy', 'ti', 'tia', 'tibbett', 'tibet', 'ticket', 'tickets', 'ticking', 'tics', 'tidbit', 'tidbits', 'tidy', 'tidying', 'tie', 'tied', 'tiene', 'tieney', 'tierney', 'ties', 'tiff', 'tiger', 'tigers', 'tight', 'tighter', 'tightrope', 'tights', 'til', 'tila', 'till', 'tilly', 'tilmac', 'tim', 'timberlake', 'timbers', 'time', 'timebomb', 'timed', 'timeless', 'timelessness', 'timeline', 'timer', 'times', 'timesfunny', 'timidly', 'timing', 'timler', 'timmy', 'timon', 'timone', 'timothy', 'timpani', 'tin', 'tina', 'tingling', 'tingwell', 'tiniest', 'tint', 'tinted', 'tintin', 'tiny', 'tip', 'tips', 'tirade', 'tire', 'tired', 'tirelessly', 'tires', 'tiresome', 'tissues', 'titan', 'titanic', 'titillate', 'title', 'titled', 'titles', 'titling', 'tito', 'tits', 'titty', 'titãs', 'tmtm', 'tng', 'tnt', 'to', 'toast', 'tobe', 'tobey', 'toby', 'today', 'todd', 'todesking', 'toe', 'toenails', 'toes', 'together', 'togetherness', 'toilet', 'toilets', 'toils', 'token', 'tokugawa', 'tokyo', 'told', 'tolerable', 'tolerance', 'tolerate', 'tolerated', 'tolkien', 'tollywood', 'tom', 'tomaselli', 'tomatoes', 'tomb', 'tomba', 'tomboy', 'tombstone', 'tome', 'tomei', 'tomer', 'tomilson', 'tommy', 'tomorrow', 'ton', 'tonalities', 'tonality', 'tone', 'toned', 'tones', 'tong', 'tongue', 'toni', 'tonic', 'tonight', 'tons', 'tony', 'too', 'took', 'tool', 'toolbox', 'toole', 'tooling', 'tools', 'toons', 'toot', 'tooth', 'toothache', 'toothless', 'tootsie', 'top', 'topic', 'topical', 'topkapi', 'topless', 'topo', 'topped', 'topper', 'topping', 'topple', 'tops', 'tor', 'tora', 'torch', 'torches', 'torenstra', 'tormented', 'tormento', 'torn', 'tornadoes', 'toro', 'torpid', 'torrance', 'torrent', 'torrential', 'torres', 'torrid', 'torti', 'torture', 'tortured', 'tortures', 'torturing', 'tos', 'tosh', 'toshiro', 'tossers', 'total', 'totalitarianism', 'totally', 'toto', 'tots', 'touch', 'touched', 'touches', 'touching', 'touchy', 'tough', 'toughest', 'toughness', 'toupee', 'tour', 'touring', 'tourist', 'touristas', 'tournant', 'tourneur', 'touted', 'tow', 'toward', 'towards', 'towel', 'tower', 'towers', 'town', 'towne', 'towns', 'townsend', 'townsfolk', 'toxic', 'toy', 'toymaker', 'toys', 'tp', 'tr', 'tra', 'trace', 'traces', 'tracey', 'track', 'tracking', 'tracks', 'tracy', 'trade', 'trademark', 'trademarks', 'traders', 'trading', 'tradition', 'traditional', 'traditionalist', 'traditionally', 'traditions', 'traffic', 'trafficked', 'tragedy', 'tragic', 'tragicomedy', 'trail', 'trailer', 'trailers', 'trails', 'train', 'trained', 'trainer', 'trainers', 'training', 'trains', 'traitor', 'traitorous', 'traits', 'tramell', 'tramp', 'trams', 'trancers', 'trannsylvania', 'transcend', 'transcends', 'transfer', 'transference', 'transferred', 'transferring', 'transformation', 'transformations', 'transformed', 'transformers', 'transforms', 'transfuse', 'transition', 'transitions', 'transitory', 'translate', 'translated', 'translating', 'translation', 'transmitted', 'transmitting', 'transmogrifies', 'transmuted', 'transpires', 'transplant', 'transplantation', 'transport', 'transported', 'transposal', 'transsylvanian', 'transvestite', 'transvestites', 'transylvania', 'trantula', 'trap', 'trapped', 'traps', 'trash', 'trashy', 'trauma', 'traumas', 'traumatic', 'traumatized', 'travel', 'traveled', 'traveler', 'traveling', 'traveller', 'travelling', 'travels', 'travers', 'traverses', 'travesty', 'travis', 'treadmill', 'treason', 'treasure', 'treasured', 'treasures', 'treasury', 'treat', 'treated', 'treating', 'treatment', 'treats', 'trebor', 'tree', 'trees', 'treize', 'trejo', 'trek', 'trelkovsky', 'tremaine', 'tremendous', 'tremendously', 'tremor', 'trench', 'trenchant', 'trend', 'trends', 'trendy', 'trenholm', 'trent', 'trevor', 'triad', 'triads', 'trial', 'trials', 'triangle', 'tribal', 'tribe', 'tribeca', 'tribulations', 'tribute', 'trick', 'tricks', 'tricky', 'tried', 'trier', 'tries', 'trigger', 'trilogy', 'trim', 'trinity', 'trio', 'trip', 'tripe', 'triple', 'tripods', 'tripped', 'tripping', 'trips', 'tripwires', 'tristar', 'trite', 'triton', 'tritter', 'triumph', 'triumphant', 'triumphs', 'trivia', 'trivial', 'troble', 'troll', 'troma', 'trombone', 'tron', 'troop', 'troopers', 'troops', 'tropes', 'trots', 'trotta', 'trotting', 'trouble', 'troubled', 'troubles', 'troublesome', 'troubling', 'trough', 'troupe', 'trowa', 'troy', 'trubshawe', 'truck', 'true', 'trueblood', 'truehart', 'trueness', 'truest', 'truffaut', 'truffles', 'truly', 'truman', 'trumps', 'trunk', 'trust', 'trusts', 'truth', 'truths', 'try', 'trying', 'tso', 'tsui', 'tsurumi', 'tub', 'tube', 'tuberculosis', 'tubes', 'tubs', 'tucci', 'tucker', 'tudor', 'tuesday', 'tug', 'tuggee', 'tuition', 'tujunga', 'tulip', 'tully', 'tumor', 'tune', 'tuned', 'tuneless', 'tunes', 'tung', 'tunics', 'tunisian', 'tunnel', 'tupac', 'tura', 'turaquistan', 'turati', 'turgid', 'turkey', 'turkish', 'turmoil', 'turn', 'turncoats', 'turned', 'turner', 'turning', 'turns', 'turntable', 'turpin', 'turturro', 'tusshar', 'tutu', 'tuvok', 'tv', 'twaddle', 'twelve', 'twenties', 'twentieth', 'twenty', 'twentysomething', 'twice', 'twigs', 'twilight', 'twin', 'twins', 'twist', 'twisted', 'twists', 'twisty', 'twitching', 'twitchy', 'two', 'twoface', 'ty', 'tycoon', 'tycoons', 'tying', 'tyler', 'type', 'typecast', 'types', 'typewriter', 'typical', 'typically', 'typing', 'typo', 'tyranny', 'tyrant', 'tyrone', 'tyson', 'ubasti', 'uber', 'ubiquitous', 'ufern', 'ufortunately', 'ufos', 'ugghhh', 'ugh', 'ugly', 'uh', 'uhura', 'uk', 'ulagam', 'uld', 'ullman', 'ultimate', 'ultimately', 'ultimatum', 'ultra', 'ulu', 'um', 'uma', 'umaga', 'umbrage', 'umbrella', 'umderstand', 'umeki', 'ummm', 'umpteenth', 'un', 'unable', 'unabsorbing', 'unaffected', 'unafraid', 'unanimous', 'unanswered', 'unappealing', 'unarmed', 'unashamed', 'unattractive', 'unavailable', 'unaware', 'unbearable', 'unbearably', 'unbeknownest', 'unbelievable', 'unbelievably', 'unbiased', 'unborn', 'unbreakable', 'unbridled', 'uncalled', 'uncanny', 'uncaring', 'uncensored', 'unceremoniously', 'uncertain', 'uncertainty', 'unchallenged', 'uncharacteristically', 'uncinematic', 'uncle', 'unclear', 'uncomfortable', 'uncompromising', 'unconfident', 'unconscious', 'unconsciously', 'uncontrollable', 'uncontrolled', 'unconventional', 'unconvinced', 'unconvincing', 'uncool', 'uncover', 'uncovering', 'uncreative', 'und', 'undead', 'undeniably', 'under', 'underage', 'underappreciated', 'underbelly', 'undercuts', 'underdeveloped', 'underdog', 'underdone', 'underestimate', 'underfunded', 'undergoes', 'underground', 'underlying', 'undermine', 'undermined', 'undermines', 'underneath', 'underpants', 'underpinnings', 'underplayed', 'underplays', 'underproduced', 'underrated', 'underscripted', 'undersea', 'understand', 'understandable', 'understandably', 'understanding', 'understands', 'understated', 'understatements', 'understood', 'undertakings', 'underwater', 'underwear', 'underwent', 'underwhelmed', 'underworked', 'underworld', 'underztand', 'undeserved', 'undeservedly', 'undeveloped', 'undistinguished', 'undo', 'undress', 'undue', 'undying', 'unease', 'uneasy', 'uneducated', 'unemotional', 'unending', 'unerotic', 'unerringly', 'uneven', 'unevenness', 'uneventful', 'unexpected', 'unexpectedly', 'unexplainably', 'unexplained', 'unexplored', 'unfair', 'unfairly', 'unfamiliar', 'unfazed', 'unfeeling', 'unfinished', 'unfold', 'unfolding', 'unfolds', 'unforgettable', 'unforgettably', 'unforgivably', 'unforgiving', 'unfortunate', 'unfortunately', 'unfulfilled', 'unfunny', 'ungar', 'unglamorous', 'unhappily', 'unhappy', 'unharmed', 'unheard', 'unheeded', 'unhelpful', 'unhesitatingly', 'unholy', 'unified', 'uniform', 'uniformed', 'uniformly', 'uniforms', 'unimaginable', 'unimaginative', 'uninformed', 'uninitiated', 'uninspired', 'uninspiring', 'unintentional', 'unintentionally', 'uninterested', 'uninteresting', 'uninterrupted', 'unintrusive', 'uninventive', 'union', 'unions', 'unique', 'uniquely', 'uniqueness', 'unisols', 'unit', 'unite', 'united', 'units', 'univeral', 'universal', 'universality', 'universe', 'university', 'unjust', 'unkiddy', 'unknowingly', 'unknown', 'unknowns', 'unlawful', 'unless', 'unlikable', 'unlike', 'unlikeable', 'unlikely', 'unlimited', 'unlisted', 'unloved', 'unlucky', 'unmatched', 'unmentioned', 'unmissable', 'unmitigated', 'unmotivated', 'unnamed', 'unnatural', 'unnecessarily', 'unnecessary', 'unnerving', 'unninja', 'unnoticed', 'unoriginal', 'unpaid', 'unparrallel', 'unperceptive', 'unpleasant', 'unpolished', 'unpredictable', 'unpretentious', 'unprotected', 'unprovokedly', 'unqiue', 'unrated', 'unreal', 'unrealistic', 'unreality', 'unrealized', 'unrecognizable', 'unrecognized', 'unredeemably', 'unrehearsed', 'unrelated', 'unrelenting', 'unremarkable', 'unremittingly', 'unresolved', 'unsafe', 'unsatisfactory', 'unsatisfied', 'unsatisfying', 'unsavory', 'unseen', 'unsettling', 'unsolved', 'unsophisticated', 'unspecified', 'unspoiled', 'unstable', 'unsubtle', 'unsure', 'unsurprised', 'unsurprising', 'unsuspecting', 'untalented', 'untergang', 'untested', 'unthinkable', 'untie', 'until', 'untill', 'unto', 'untrue', 'untutored', 'unusual', 'unusually', 'unwanted', 'unwatchable', 'unwilling', 'unwillingness', 'unworthy', 'unwrapping', 'unzips', 'unzombiefied', 'up', 'upbeat', 'upbringing', 'upcoming', 'update', 'updated', 'upheaval', 'uphill', 'uplifting', 'uploaded', 'upon', 'upper', 'uproar', 'ups', 'upset', 'upside', 'upstairs', 'upstarts', 'uptight', 'ur', 'urban', 'urbaniak', 'urbanised', 'urbanized', 'urbibe', 'urge', 'urgency', 'urges', 'urging', 'uriah', 'urich', 'urinating', 'ursla', 'ursula', 'us', 'usa', 'usaf', 'use', 'used', 'useful', 'useless', 'uselful', 'user', 'users', 'uses', 'usher', 'usines', 'using', 'ussr', 'ustinov', 'usual', 'usually', 'usurp', 'usurping', 'utah', 'utilitarian', 'utilized', 'utopia', 'utopic', 'utter', 'utterance', 'uttered', 'utterly', 'uwe', 'uzi', 'vacant', 'vacation', 'vacationing', 'vacuity', 'vacuous', 'vacuum', 'vadar', 'vader', 'vagina', 'vaginal', 'vague', 'vaguely', 'vain', 'vaio', 'vajpai', 'valentine', 'valentino', 'valentinov', 'valerie', 'valet', 'valiant', 'valid', 'valientes', 'valium', 'valley', 'vallée', 'valuable', 'value', 'valued', 'values', 'vamp', 'vampire', 'vampires', 'vampiric', 'vamps', 'vampyres', 'van', 'vance', 'vancouver', 'vandross', 'vane', 'vanessa', 'vangelis', 'vanguard', 'vanilla', 'vanished', 'vanishes', 'vanishing', 'vanities', 'vanity', 'vapid', 'vaporizes', 'vargas', 'variation', 'variations', 'varied', 'varies', 'variety', 'various', 'varma', 'vary', 'varying', 'vassar', 'vast', 'vastly', 'vaudeville', 'vaudevillian', 'vaughn', 'vault', 'vays', 'vcr', 'vcrs', 'vd', 've', 'vee', 'veeru', 'vega', 'vegas', 'vegeburger', 'vegetate', 'vehement', 'vehicle', 'vehicles', 'vehicular', 'veil', 'vein', 'veins', 'veiw', 'velizar', 'velvet', 'vendetta', 'venereal', 'venezuela', 'vengeance', 'vengeful', 'venice', 'vent', 'ventura', 'venture', 'ventures', 'vera', 'verbal', 'verbally', 'verbiage', 'verdi', 'verdict', 'verducci', 'verge', 'verhoeven', 'verify', 'veritable', 'verma', 'vermin', 'veronica', 'veronika', 'versa', 'versacorps', 'versailles', 'versatility', 'verse', 'verses', 'version', 'versions', 'versus', 'vertido', 'vertigo', 'very', 'vessel', 'vessels', 'veteran', 'vetoes', 'vetted', 'vh1', 'vhs', 'via', 'vials', 'viard', 'vibe', 'vibes', 'vibrant', 'vibrators', 'vic', 'vice', 'vichy', 'vicious', 'vicki', 'vicky', 'victim', 'victimized', 'victims', 'victor', 'victoria', 'victorian', 'victorious', 'victory', 'vidal', 'video', 'videos', 'vidor', 'vieira', 'viel', 'vienna', 'viennese', 'viet', 'vietnam', 'vietnamese', 'view', 'viewed', 'viewer', 'viewers', 'viewing', 'viewings', 'viewpoint', 'views', 'vigalondo', 'viggo', 'vigilance', 'vigilante', 'vigilantism', 'vignette', 'vignettes', 'viii', 'vijay', 'viking', 'vikings', 'vile', 'villa', 'village', 'villagers', 'villain', 'villainous', 'villains', 'villainy', 'villaronga', 'villian', 'vilmos', 'vince', 'vincent', 'vincente', 'vincenzo', 'vinci', 'vindicate', 'vinny', 'vinod', 'vintage', 'violante', 'violence', 'violent', 'violin', 'vipers', 'vipul', 'virendra', 'virgin', 'virginal', 'virginia', 'virgins', 'virile', 'virtual', 'virtually', 'virtue', 'virtues', 'virtzer', 'virus', 'viruses', 'visage', 'visayan', 'viscera', 'visceral', 'visconti', 'visible', 'visine', 'vision', 'visionaries', 'visionary', 'visions', 'visit', 'visited', 'visiting', 'visitor', 'visits', 'visnjic', 'visual', 'visualize', 'visualizing', 'visually', 'visuals', 'vitaphone', 'vitriol', 'viva', 'vivaah', 'vivah', 'vivian', 'vivid', 'vividly', 'vixen', 'vj', 'vocal', 'vocalist', 'vocals', 'voerhoven', 'vogel', 'vohra', 'voice', 'voiced', 'voiceover', 'voices', 'void', 'voids', 'voight', 'vol', 'volcanoes', 'volleyball', 'voltage', 'volume', 'volunteer', 'volunteers', 'vomit', 'vomited', 'von', 'vonda', 'vonnegut', 'voodoo', 'voorhees', 'vote', 'voted', 'voter', 'voters', 'votes', 'voting', 'voudon', 'vous', 'vow', 'vowed', 'voyage', 'voyager', 'voyeurism', 'vs', 'vu', 'vue', 'vulgar', 'vulkan', 'vulnerability', 'vulnerable', 'wackiness', 'wacko', 'wacky', 'waco', 'wacthing', 'wades', 'waffling', 'wager', 'wages', 'wagner', 'wagon', 'wahlberg', 'wai', 'waif', 'wainwright', 'wait', 'waited', 'waiting', 'waitress', 'waiving', 'wake', 'wakes', 'waking', 'walk', 'walked', 'walken', 'walker', 'walkie', 'walking', 'walks', 'wall', 'wallace', 'wallach', 'wallah', 'wallbangers', 'wallets', 'wallis', 'wallmart', 'walls', 'wally', 'walmart', 'walsh', 'walshs', 'walston', 'walt', 'walter', 'walton', 'waltons', 'wand', 'wanda', 'wander', 'wandered', 'wandering', 'wanders', 'wang', 'waning', 'wanna', 'wannabe', 'wannabes', 'want', 'wanted', 'wanting', 'wants', 'war', 'warbeck', 'warbirds', 'warbucks', 'ward', 'wardrobe', 'wards', 'warehouses', 'warfare', 'wargames', 'warhol', 'warhols', 'warily', 'warlock', 'warm', 'warmed', 'warmer', 'warming', 'warmly', 'warmth', 'warn', 'warned', 'warner', 'warning', 'warnning', 'warns', 'warp', 'warped', 'warren', 'warrick', 'warring', 'warrior', 'wars', 'wartime', 'was', 'wash', 'washboard', 'washed', 'washington', 'wasn', 'wasnt', 'waste', 'wastebasket', 'wasted', 'wasteland', 'waster', 'wastes', 'wasting', 'watch', 'watchable', 'watched', 'watcher', 'watches', 'watching', 'watchman', 'watchtower', 'water', 'watered', 'waterfall', 'waterfront', 'watermelons', 'waters', 'watery', 'wathced', 'watters', 'watts', 'wave', 'wavelength', 'waverly', 'waves', 'waving', 'wax', 'waxworks', 'way', 'wayans', 'wayne', 'ways', 'wayside', 'wayward', 'wayy', 'wcw', 'we', 'weak', 'weakened', 'weaker', 'weakest', 'weakness', 'wealth', 'wealthy', 'weapon', 'weaponry', 'weapons', 'wear', 'wearily', 'weariness', 'wearing', 'wears', 'weary', 'weather', 'weathered', 'weatherman', 'weave', 'weaved', 'weaves', 'web', 'webber', 'website', 'webster', 'wed', 'wedding', 'wedged', 'wedlock', 'wednesday', 'wee', 'weed', 'week', 'weekend', 'weeks', 'weems', 'weeps', 'weg', 'wehrmacht', 'wei', 'weight', 'weill', 'weinberg', 'weinstein', 'weird', 'weirdness', 'weisman', 'weisz', 'welch', 'welcome', 'welcomed', 'welcomes', 'welding', 'welker', 'well', 'welles', 'wells', 'welsh', 'wen', 'wended', 'wenders', 'wendigo', 'wendt', 'wendy', 'went', 'were', 'weren', 'werewolf', 'werewolves', 'wes', 'wesley', 'west', 'westchester', 'western', 'westerners', 'westerns', 'westley', 'wet', 'wfst', 'wga', 'whack', 'whale', 'whaling', 'wharf', 'what', 'whatever', 'whats', 'whatsoever', 'wheaton', 'wheel', 'wheelchair', 'wheeler', 'wheelers', 'wheeling', 'when', 'whenever', 'where', 'whereabouts', 'whereas', 'whereupon', 'whether', 'whew', 'which', 'while', 'whilst', 'whimper', 'whimsical', 'whimsy', 'whiners', 'whines', 'whining', 'whiny', 'whip', 'whipped', 'whips', 'whirl', 'whishaw', 'whisked', 'whispering', 'whistled', 'whistles', 'whit', 'whitaker', 'white', 'whitechapel', 'whites', 'whitest', 'whitewash', 'whitman', 'whiz', 'who', 'whoa', 'whoever', 'whole', 'wholeheartedly', 'wholesome', 'wholesomeness', 'wholly', 'whom', 'whomever', 'whoopee', 'whoopi', 'whoopie', 'whore', 'whose', 'why', 'wich', 'wichita', 'wicked', 'wicker', 'wicks', 'wide', 'widely', 'widens', 'wider', 'widescreen', 'widespread', 'widest', 'widmark', 'widow', 'widowed', 'widower', 'wielding', 'wiest', 'wife', 'wig', 'wikipedia', 'wilcox', 'wild', 'wilder', 'wilderness', 'wildly', 'wildmon', 'wilds', 'wiles', 'wilfrid', 'wilkes', 'will', 'willard', 'willem', 'willett', 'william', 'williams', 'willie', 'willing', 'willingly', 'willis', 'willpower', 'wills', 'willy', 'wilson', 'wilton', 'wimpy', 'wims', 'win', 'wince', 'winchester', 'wind', 'windbag', 'winding', 'window', 'windows', 'winds', 'windshield', 'wine', 'winfield', 'wing', 'wings', 'winkler', 'winner', 'winners', 'winning', 'winokur', 'winona', 'wins', 'winslet', 'winston', 'winter', 'winterly', 'winters', 'wintry', 'wiped', 'wiping', 'wire', 'wired', 'wires', 'wirth', 'wisconsin', 'wisdom', 'wise', 'wisecracks', 'wiseguy', 'wisely', 'wises', 'wish', 'wished', 'wishes', 'wishing', 'wishy', 'wistful', 'wit', 'witch', 'witchcraft', 'witches', 'witchy', 'with', 'withdrawal', 'within', 'without', 'withstanding', 'witless', 'witness', 'witnessed', 'witnesses', 'witnessing', 'witney', 'wits', 'witted', 'wittle', 'witty', 'wives', 'wiz', 'wizard', 'wizardry', 'wkrp', 'wla', 'wo', 'woah', 'wobbly', 'wodehouse', 'wodehousian', 'woefully', 'woes', 'wohl', 'woke', 'woken', 'wolf', 'wolfen', 'wolff', 'wolverinish', 'wolves', 'woman', 'women', 'won', 'wonder', 'wondered', 'wonderful', 'wonderfully', 'wondering', 'wonders', 'wondrous', 'wong', 'wont', 'woo', 'wood', 'wooded', 'wooden', 'woodmobile', 'woodpecker', 'woods', 'woody', 'wooing', 'wook', 'wool', 'woolnough', 'woolsey', 'word', 'wordless', 'words', 'wore', 'work', 'workable', 'worked', 'worker', 'workers', 'working', 'workings', 'workman', 'workmen', 'works', 'world', 'worlders', 'worldly', 'worlds', 'worldwide', 'worm', 'worms', 'wormtong', 'worn', 'woronov', 'worried', 'worries', 'worry', 'worse', 'worship', 'worst', 'worth', 'worthless', 'worthwhile', 'worthy', 'would', 'woulda', 'wouldn', 'wound', 'wounded', 'wounds', 'woven', 'wow', 'wowed', 'wracked', 'wracking', 'wrangling', 'wrap', 'wrapped', 'wrapping', 'wreck', 'wrecked', 'wrench', 'wrenching', 'wrenchingly', 'wrestler', 'wrestlers', 'wrestles', 'wrestling', 'wretched', 'wretchedly', 'wretchedness', 'wright', 'wringing', 'wrinkle', 'wrinkled', 'wrinkles', 'wrist', 'wristwatch', 'write', 'writer', 'writers', 'writes', 'writhe', 'writing', 'written', 'wrong', 'wrongdoing', 'wronged', 'wrongly', 'wrote', 'wrought', 'wry', 'wtc', 'wtf', 'wth', 'wtse', 'wu', 'wuhl', 'wunderkind', 'wuss', 'wwe', 'wwf', 'wwi', 'wwii', 'www', 'wynona', 'xena', 'xenos', 'xica', 'xine', 'xplanation', 'xu', 'xxx', 'ya', 'yaara', 'yacht', 'yada', 'yadav', 'yadda', 'yahoo', 'yakima', 'yakuza', 'yam', 'yamada', 'yang', 'yanks', 'yanno', 'yapping', 'yard', 'yards', 'yardstick', 'yauman', 'yawn', 'yawning', 'yazaki', 'ye', 'yeah', 'year', 'yeardley', 'yearly', 'years', 'yell', 'yelled', 'yelling', 'yellow', 'yells', 'yeo', 'yeon', 'yes', 'yesterday', 'yet', 'yetians', 'yi', 'yield', 'yields', 'yikes', 'yin', 'ylva', 'yna', 'yo', 'yoda', 'yogi', 'yojimbo', 'yokai', 'yolonda', 'york', 'yoshida', 'you', 'youki', 'young', 'younger', 'youngers', 'youngest', 'youngsters', 'your', 'yours', 'yourself', 'yourselves', 'yousef', 'youth', 'youthful', 'youths', 'youtube', 'yr', 'yu', 'yuck', 'yue', 'yuen', 'yugo', 'yugoslav', 'yugoslavia', 'yukio', 'yukon', 'yum', 'yuma', 'yumiko', 'yup', 'yuunagi', 'yvaine', 'yvelines', 'yvonne', 'zabriskie', 'zacharias', 'zack', 'zadora', 'zane', 'zaniness', 'zany', 'zap', 'zapar', 'zarustica', 'zasu', 'zatôichi', 'zaz', 'zazu', 'zb3', 'zealand', 'zealanders', 'zelah', 'zeland', 'zemeckis', 'zen', 'zenia', 'zenith', 'zeon', 'zero', 'zeroni', 'zest', 'zeta', 'zhang', 'zhivago', 'zhou', 'zigfield', 'ziggy', 'zillion', 'zion', 'zippo', 'zira', 'ziv', 'zivagho', 'ziyi', 'zizek', 'zodiac', 'zoey', 'zombi', 'zombie', 'zombiefied', 'zombies', 'zone', 'zones', 'zoo', 'zooey', 'zoomed', 'zorak', 'zorro', 'zp', 'zsa', 'zu', 'zukovic']\n"
     ]
    }
   ],
   "source": [
    "count_vect = CountVectorizer()\n",
    "X_sub_counts = count_vect.fit_transform(X_sub)\n",
    "dictionary_sub   = count_vect.get_feature_names()\n",
    "print(dictionary_sub)"
   ]
  },
  {
   "cell_type": "code",
   "execution_count": 18,
   "metadata": {
    "collapsed": false
   },
   "outputs": [
    {
     "name": "stdout",
     "output_type": "stream",
     "text": [
      "13507\n"
     ]
    }
   ],
   "source": [
    "print(count_vect.vocabulary_.get(u'remembered'))"
   ]
  },
  {
   "cell_type": "markdown",
   "metadata": {},
   "source": [
    "Nous codons une fonction de comptage d'apparation de chaque mot dans base de donnée \"commentaires\" en paramètre et de tracer son histogramme en affichant le nombre de mots considérés."
   ]
  },
  {
   "cell_type": "code",
   "execution_count": 19,
   "metadata": {
    "collapsed": true
   },
   "outputs": [],
   "source": [
    "def most_frequent_words(count_vect,data):    \n",
    "    data_counts = count_vect.fit_transform(data)\n",
    "    dictionary   = count_vect.get_feature_names()\n",
    "    print(\"Taille du dictionnaire : \",len(dictionary))\n",
    "    word_counts = pd.DataFrame(data_counts.toarray(),columns = dictionary)\n",
    "    word_total_counts = pd.DataFrame()\n",
    "    word_total_counts['count'] = word_counts.sum(axis=0)\n",
    "    word_total_counts['word'] = dictionary\n",
    "    word_total_counts_sorted_top  = word_total_counts.sort_values(by=\"count\",ascending = False).iloc[0:20]\n",
    "    plt.figure(figsize=(15,8))\n",
    "    sns.barplot(x = word_total_counts_sorted_top.index,y=word_total_counts_sorted_top['count'])\n",
    "    plt.xticks(rotation=90,fontsize=10)\n",
    "    plt.show()\n",
    "    return {'data_counts' : data_counts, 'word_total_counts' :word_total_counts, 'dictionary' : dictionary}"
   ]
  },
  {
   "cell_type": "code",
   "execution_count": 20,
   "metadata": {
    "collapsed": true
   },
   "outputs": [],
   "source": [
    "count_vect = CountVectorizer()\n",
    "X_sub_counts = count_vect.fit_transform(X_sub)"
   ]
  },
  {
   "cell_type": "code",
   "execution_count": 21,
   "metadata": {
    "collapsed": false
   },
   "outputs": [
    {
     "name": "stdout",
     "output_type": "stream",
     "text": [
      "Taille du dictionnaire :  18478\n"
     ]
    },
    {
     "data": {
      "image/png": "[encoded data removed]",
      "text/plain": [
       "<matplotlib.figure.Figure at 0x12148bcc0>"
      ]
     },
     "metadata": {},
     "output_type": "display_data"
    }
   ],
   "source": [
    "most_frequent_words_sub = most_frequent_words(count_vect,X_sub)"
   ]
  },
  {
   "cell_type": "markdown",
   "metadata": {},
   "source": [
    "Nous avons donc un corpus de 1000 phrases, un ensemble de 18 478 mots, nous observons que les mots dont l'occurence est la plus forte sont des mots très communs, très redondants dans la langue anglaise ce qui n'est pas surprenant. Nous choisissons donc de retirer ces mots appartenant à une liste \"stop words\", car ils faussent nos résultats. Nous rappelons que l'on desir dégager du corpus une certaine humeur générale des commentaires de type soit positive soit négative."
   ]
  },
  {
   "cell_type": "markdown",
   "metadata": {},
   "source": [
    "### Préparation des données"
   ]
  },
  {
   "cell_type": "code",
   "execution_count": 22,
   "metadata": {
    "collapsed": false
   },
   "outputs": [
    {
     "name": "stdout",
     "output_type": "stream",
     "text": [
      "{'am', \"didn't\", 'when', 'any', 'wouldn', 'about', \"you're\", \"wouldn't\", 'do', 'can', 'at', \"you'll\", \"don't\", \"isn't\", 'should', \"shouldn't\", 'd', \"hasn't\", 'y', 'on', 'll', 'ours', 'own', 'won', 'couldn', 'not', 'themselves', 'does', 'been', 'we', 'which', 'under', 't', 'mustn', 'him', 'yourselves', 'in', 'yours', 'now', \"weren't\", 'by', 'himself', 'some', 'each', 'be', 'all', \"should've\", 'with', \"doesn't\", 'because', 'no', 'other', 're', 'just', 'very', 'haven', 'a', \"mightn't\", 'once', 'me', 'my', 'before', 'than', 'theirs', \"mustn't\", 'he', 'until', 'has', 'nor', 'ma', 'her', \"couldn't\", 'i', 'an', 'who', 'then', 'yourself', 'over', 'having', 'm', 'doesn', 'o', 'most', 'up', 'needn', 'your', 'they', 'is', 'itself', 'don', 'whom', 'into', 'what', 'did', 'there', 'again', 'but', 'isn', 'ain', 'myself', 'few', \"needn't\", 've', \"hadn't\", 'same', 'only', 'why', 'shouldn', 'more', \"wasn't\", 'wasn', 'shan', 'where', 'our', 'she', 'that', 'you', 'those', 'above', 'it', 'so', 'are', 'didn', \"you've\", 'their', 'and', 'both', 'aren', 'had', \"shan't\", 'during', 'as', 'them', 'was', 'such', 'have', 'for', 'this', 'herself', 'of', 'hadn', 'will', 'how', 'hers', 'after', 'weren', 'his', \"haven't\", 'further', 'between', \"aren't\", \"that'll\", \"you'd\", 'to', 'were', \"it's\", 'being', 'ourselves', 'off', 'from', 'its', 'while', 'the', 's', 'here', 'hasn', \"she's\", 'too', 'down', 'out', 'if', 'below', 'these', 'through', 'doing', 'against', \"won't\", 'mightn', 'or'}\n"
     ]
    }
   ],
   "source": [
    "stop = set(stopwords.words('english')) \n",
    "print(stop)"
   ]
  },
  {
   "cell_type": "code",
   "execution_count": 23,
   "metadata": {
    "collapsed": false
   },
   "outputs": [
    {
     "name": "stdout",
     "output_type": "stream",
     "text": [
      "Taille du dictionnaire :  18337\n"
     ]
    },
    {
     "data": {
      "image/png": "[encoded data removed]",
      "text/plain": [
       "<matplotlib.figure.Figure at 0x123b49400>"
      ]
     },
     "metadata": {},
     "output_type": "display_data"
    }
   ],
   "source": [
    "count_vect_sw = CountVectorizer(stop_words=stop)\n",
    "most_frequent_words_sw = most_frequent_words(count_vect_sw,X_sub)"
   ]
  },
  {
   "cell_type": "markdown",
   "metadata": {},
   "source": [
    "Sans surprise la taille du dictionnaire associé diminue de 141 mots car nous avons retirés les mots considérés comme inutiles, néanmoins plusieurs mots subsistent et ne contribuent pas forcement à la réponse recherhchée nous allons donc de nouveau \"nettoyer\" nos données en retirant quelques mots."
   ]
  },
  {
   "cell_type": "code",
   "execution_count": 24,
   "metadata": {
    "collapsed": false
   },
   "outputs": [],
   "source": [
    "stop.update({'br','film','one','movie','get','time','films','movies','see','story','way','would'})"
   ]
  },
  {
   "cell_type": "code",
   "execution_count": 25,
   "metadata": {
    "collapsed": false
   },
   "outputs": [
    {
     "name": "stdout",
     "output_type": "stream",
     "text": [
      "Taille du dictionnaire :  18325\n"
     ]
    },
    {
     "data": {
      "image/png": "[encoded data removed]",
      "text/plain": [
       "<matplotlib.figure.Figure at 0x124529198>"
      ]
     },
     "metadata": {},
     "output_type": "display_data"
    }
   ],
   "source": [
    "count_vect_sw = CountVectorizer(stop_words=stop)\n",
    "most_frequent_words_sw = most_frequent_words(count_vect_sw,X_sub)"
   ]
  },
  {
   "cell_type": "markdown",
   "metadata": {},
   "source": [
    "On remarque très clairement que le mot à connotation positive ou négative étant le plus redondant est le mot \"like\" suivit par \"good\" ont peut proposer le fait que le corpus soit plutot constitué d'avis positifs."
   ]
  },
  {
   "cell_type": "markdown",
   "metadata": {},
   "source": [
    "### Visualisation du corpus"
   ]
  },
  {
   "cell_type": "code",
   "execution_count": 31,
   "metadata": {
    "collapsed": false
   },
   "outputs": [
    {
     "data": {
      "text/plain": [
       "array([1, 0, 0, 1, 0, 0, 1, 0, 1, 0, 1, 0, 0, 0, 0, 0, 1, 1, 0, 1, 0, 0, 1,\n",
       "       0, 1, 1, 0, 0, 1, 0, 0, 1, 1, 1, 0, 0, 0, 1, 0, 0, 1, 0, 0, 0, 1, 1,\n",
       "       1, 0, 1, 0, 0, 0, 0, 0, 0, 0, 1, 0, 1, 1, 0, 0, 0, 1, 1, 1, 1, 1, 1,\n",
       "       1, 1, 0, 0, 1, 1, 0, 1, 0, 0, 1, 1, 0, 0, 1, 1, 0, 0, 0, 1, 0, 0, 0,\n",
       "       0, 0, 0, 0, 0, 1, 1, 0, 0, 0, 0, 0, 1, 0, 0, 0, 1, 1, 0, 1, 0, 1, 0,\n",
       "       0, 1, 0, 1, 1, 1, 0, 1, 1, 1, 0, 0, 0, 0, 0, 0, 0, 0, 0, 0, 0, 0, 0,\n",
       "       0, 1, 1, 0, 1, 1, 1, 1, 0, 1, 1, 1, 1, 1, 0, 0, 1, 1, 0, 0, 0, 0, 0,\n",
       "       0, 1, 1, 0, 1, 0, 1, 0, 0, 1, 1, 1, 0, 1, 1, 0, 1, 1, 1, 1, 0, 0, 0,\n",
       "       0, 1, 0, 1, 0, 0, 0, 0, 0, 0, 0, 1, 1, 1, 0, 0, 1, 0, 0, 1, 0, 0, 0,\n",
       "       1, 0, 0, 1, 1, 0, 1, 0, 1, 1, 1, 1, 0, 0, 1, 0, 1, 0, 1, 1, 0, 1, 1,\n",
       "       0, 0, 1, 1, 1, 1, 1, 1, 1, 0, 0, 1, 0, 1, 1, 1, 0, 1, 1, 0, 0, 0, 1,\n",
       "       0, 1, 1, 1, 1, 1, 0, 0, 1, 1, 0, 1, 1, 0, 0, 1, 1, 1, 1, 1, 0, 1, 1,\n",
       "       0, 1, 1, 1, 1, 0, 0, 1, 0, 1, 1, 0, 0, 1, 0, 0, 0, 0, 1, 0, 0, 0, 0,\n",
       "       1, 1, 0, 1, 0, 0, 1, 0, 1, 1, 1, 0, 0, 0, 0, 1, 1, 1, 1, 0, 1, 1, 1,\n",
       "       0, 1, 1, 0, 1, 0, 0, 1, 1, 1, 1, 0, 1, 1, 1, 0, 1, 1, 0, 1, 0, 0, 1,\n",
       "       1, 1, 1, 1, 1, 0, 0, 0, 0, 0, 0, 0, 1, 1, 0, 0, 1, 1, 0, 1, 0, 1, 1,\n",
       "       1, 1, 0, 0, 0, 1, 0, 0, 0, 0, 1, 1, 0, 0, 0, 1, 0, 1, 1, 1, 0, 1, 1,\n",
       "       0, 1, 1, 1, 0, 1, 1, 0, 0, 1, 0, 1, 1, 1, 1, 0, 1, 0, 0, 0, 0, 0, 1,\n",
       "       0, 0, 1, 0, 0, 1, 0, 1, 1, 1, 1, 0, 0, 1, 1, 0, 0, 0, 0, 1, 0, 0, 1,\n",
       "       0, 1, 1, 1, 0, 1, 0, 1, 1, 0, 1, 1, 1, 0, 0, 0, 0, 1, 1, 0, 1, 1, 0,\n",
       "       1, 1, 0, 1, 0, 1, 1, 0, 1, 1, 1, 1, 1, 1, 1, 1, 1, 0, 1, 0, 1, 0, 1,\n",
       "       0, 1, 0, 0, 1, 1, 0, 0, 1, 0, 0, 1, 1, 0, 1, 0, 0, 0, 1, 1, 1, 1, 0,\n",
       "       1, 0, 1, 0, 0, 0, 1, 0, 1, 0, 1, 0, 1, 0, 1, 1, 0, 0, 1, 1, 1, 0, 0,\n",
       "       0, 1, 0, 0, 0, 0, 0, 0, 1, 1, 0, 1, 1, 1, 0, 0, 1, 0, 1, 1, 1, 1, 0,\n",
       "       1, 1, 0, 0, 0, 0, 1, 0, 1, 0, 1, 0, 1, 1, 0, 0, 0, 0, 1, 1, 1, 0, 1,\n",
       "       1, 1, 0, 0, 1, 0, 1, 1, 1, 1, 0, 1, 1, 1, 1, 1, 0, 1, 1, 1, 0, 1, 0,\n",
       "       1, 1, 0, 1, 0, 0, 1, 1, 0, 1, 0, 0, 0, 1, 1, 1, 0, 1, 1, 1, 1, 0, 1,\n",
       "       0, 0, 1, 1, 0, 1, 0, 1, 0, 0, 0, 0, 0, 0, 0, 1, 0, 0, 1, 1, 1, 0, 0,\n",
       "       1, 0, 1, 0, 0, 0, 1, 0, 1, 1, 0, 1, 1, 1, 0, 1, 0, 0, 0, 1, 0, 1, 0,\n",
       "       1, 1, 1, 0, 0, 0, 1, 1, 1, 0, 0, 0, 0, 1, 1, 0, 1, 1, 0, 0, 0, 1, 1,\n",
       "       0, 1, 1, 1, 0, 1, 0, 1, 0, 0, 1, 0, 1, 0, 1, 1, 0, 0, 1, 1, 1, 0, 1,\n",
       "       0, 1, 0, 1, 0, 0, 1, 1, 0, 0, 0, 0, 0, 0, 0, 1, 1, 0, 1, 1, 1, 1, 0,\n",
       "       0, 1, 1, 1, 1, 0, 0, 1, 0, 0, 1, 0, 0, 0, 0, 1, 1, 0, 1, 0, 1, 0, 0,\n",
       "       0, 0, 0, 1, 0, 0, 0, 0, 0, 1, 1, 1, 1, 1, 1, 0, 1, 1, 0, 1, 1, 1, 1,\n",
       "       0, 0, 0, 1, 0, 0, 1, 0, 1, 0, 1, 0, 1, 0, 0, 1, 1, 0, 0, 0, 1, 0, 0,\n",
       "       0, 0, 1, 0, 1, 0, 0, 0, 1, 0, 1, 0, 1, 0, 1, 1, 0, 1, 1, 0, 0, 0, 1,\n",
       "       1, 1, 1, 1, 0, 0, 0, 1, 1, 0, 0, 0, 1, 0, 1, 1, 0, 0, 1, 0, 1, 0, 1,\n",
       "       0, 0, 0, 1, 1, 1, 1, 1, 1, 0, 0, 1, 0, 0, 1, 1, 1, 0, 1, 0, 0, 1, 1,\n",
       "       1, 1, 1, 0, 0, 0, 0, 0, 0, 1, 0, 1, 1, 0, 0, 1, 1, 1, 0, 1, 0, 0, 1,\n",
       "       0, 1, 1, 1, 0, 0, 1, 0, 0, 0, 0, 0, 0, 0, 1, 0, 1, 0, 1, 0, 0, 0, 0,\n",
       "       0, 1, 0, 1, 0, 0, 1, 0, 1, 1, 1, 1, 1, 0, 0, 0, 1, 0, 1, 0, 1, 1, 0,\n",
       "       1, 1, 0, 1, 1, 0, 1, 0, 1, 0, 1, 1, 1, 0, 0, 0, 1, 1, 1, 1, 0, 0, 0,\n",
       "       0, 0, 1, 0, 0, 0, 0, 1, 0, 0, 1, 0, 0, 1, 1, 0, 1, 1, 0, 1, 1, 0, 1,\n",
       "       0, 0, 1, 0, 0, 0, 1, 0, 1, 0, 1])"
      ]
     },
     "execution_count": 31,
     "metadata": {},
     "output_type": "execute_result"
    }
   ],
   "source": [
    "Y_sub = df['label'][0:limit]\n",
    "Y_sub['labels'] = np.array([i for i in Y_sub[0:limit]])\n",
    "Y_sub[limit]\n",
    "#limit = X_sub.shape[0]"
   ]
  },
  {
   "cell_type": "markdown",
   "metadata": {},
   "source": [
    "## Méthode de comptage"
   ]
  },
  {
   "cell_type": "markdown",
   "metadata": {},
   "source": [
    "Nous allons tenter de visulaiser ce qu'on appelle les poids dans la méthode de comptage, correspondant au coefficient ou plutot l'importance d'un mot à dégager une humeure plutot positive ou négative. Nous verrons l'apparition de points plus ou moins foncés selon leur poids."
   ]
  },
  {
   "cell_type": "code",
   "execution_count": 32,
   "metadata": {
    "collapsed": false
   },
   "outputs": [
    {
     "data": {
      "text/plain": [
       "<matplotlib.colorbar.Colorbar at 0x12420ca90>"
      ]
     },
     "execution_count": 32,
     "metadata": {},
     "output_type": "execute_result"
    },
    {
     "data": {
      "image/png": "[encoded data removed]",
      "text/plain": [
       "<matplotlib.figure.Figure at 0x1247e0e48>"
      ]
     },
     "metadata": {},
     "output_type": "display_data"
    }
   ],
   "source": [
    "most_frequent = np.array(most_frequent_words_sw['data_counts'].toarray())\n",
    "hist = most_frequent / most_frequent.sum(axis=1)[:,None]\n",
    "plt.figure(figsize=(15,8))\n",
    "plt.imshow(hist[np.argsort(Y_sub['labels']),:],)\n",
    "plt.colorbar()"
   ]
  },
  {
   "cell_type": "code",
   "execution_count": 33,
   "metadata": {
    "collapsed": false
   },
   "outputs": [
    {
     "name": "stdout",
     "output_type": "stream",
     "text": [
      "(1000, 18325)\n"
     ]
    }
   ],
   "source": [
    "#hist[np.argsort(df['label']),:]\n",
    "print(hist.shape)"
   ]
  },
  {
   "cell_type": "markdown",
   "metadata": {},
   "source": [
    "### Avec TF_IDF"
   ]
  },
  {
   "cell_type": "markdown",
   "metadata": {},
   "source": [
    "Avec la méthode TF_IDF nous normalisons les poids afin d'obtenir des résultats plus représentatifs, plus équlibrés et donc plus parlant en terme de comparaison."
   ]
  },
  {
   "cell_type": "code",
   "execution_count": 34,
   "metadata": {
    "collapsed": false
   },
   "outputs": [
    {
     "data": {
      "text/plain": [
       "TfidfTransformer(norm='l2', smooth_idf=False, sublinear_tf=False,\n",
       "         use_idf=True)"
      ]
     },
     "execution_count": 34,
     "metadata": {},
     "output_type": "execute_result"
    }
   ],
   "source": [
    "transformer = TfidfTransformer(smooth_idf=False)\n",
    "transformer"
   ]
  },
  {
   "cell_type": "code",
   "execution_count": 35,
   "metadata": {
    "collapsed": true
   },
   "outputs": [],
   "source": [
    "tf_idf_transf = transformer.fit_transform(most_frequent_words_sw['data_counts'])"
   ]
  },
  {
   "cell_type": "code",
   "execution_count": 36,
   "metadata": {
    "collapsed": false
   },
   "outputs": [
    {
     "data": {
      "text/plain": [
       "<matplotlib.colorbar.Colorbar at 0x124230908>"
      ]
     },
     "execution_count": 36,
     "metadata": {},
     "output_type": "execute_result"
    },
    {
     "data": {
      "image/png": "[encoded data removed]",
      "text/plain": [
       "<matplotlib.figure.Figure at 0x12406def0>"
      ]
     },
     "metadata": {},
     "output_type": "display_data"
    }
   ],
   "source": [
    "plt.figure(figsize=(15,8))\n",
    "plt.imshow(tf_idf_transf.toarray()[np.argsort(Y_sub['labels']),:])\n",
    "plt.colorbar()"
   ]
  },
  {
   "cell_type": "markdown",
   "metadata": {},
   "source": [
    "Nous observons une apparition plus importante de points foncés donc représentatifs de nos résultats."
   ]
  },
  {
   "cell_type": "markdown",
   "metadata": {},
   "source": [
    "## Apprentissage supervisé"
   ]
  },
  {
   "cell_type": "markdown",
   "metadata": {},
   "source": [
    "### Sur les counts"
   ]
  },
  {
   "cell_type": "code",
   "execution_count": 37,
   "metadata": {
    "collapsed": false
   },
   "outputs": [
    {
     "data": {
      "text/plain": [
       "0.98399999999999999"
      ]
     },
     "execution_count": 37,
     "metadata": {},
     "output_type": "execute_result"
    }
   ],
   "source": [
    "NB_counts = MultinomialNB()\n",
    "NB_counts.fit(X=most_frequent_words_sw['data_counts'],y=Y_sub['labels'])\n",
    "accuracy_score(NB_counts.predict(most_frequent_words_sw['data_counts']),Y_sub['labels'])"
   ]
  },
  {
   "cell_type": "markdown",
   "metadata": {},
   "source": [
    "Suite à l'application de la méthode de classification Naïve Bayes, nous avons un résultat de précision d'environ 98%. Ce score est très bon mais malheuresement pas très représentatif vu que l'on travail sur uniquement 4% de l'ensemble de nos données."
   ]
  },
  {
   "cell_type": "markdown",
   "metadata": {},
   "source": [
    "### Sur le TF-IDF"
   ]
  },
  {
   "cell_type": "code",
   "execution_count": 38,
   "metadata": {
    "collapsed": false
   },
   "outputs": [
    {
     "data": {
      "text/plain": [
       "0.996"
      ]
     },
     "execution_count": 38,
     "metadata": {},
     "output_type": "execute_result"
    }
   ],
   "source": [
    "NB_tfidf = GaussianNB()\n",
    "NB_tfidf.fit(X=tf_idf_transf.toarray(),y=Y_sub['labels'])\n",
    "accuracy_score(NB_tfidf.predict(tf_idf_transf.toarray()),Y_sub['labels'])"
   ]
  },
  {
   "cell_type": "markdown",
   "metadata": {},
   "source": [
    "Avec cette méthode de classification TF-IDF on obtient un meilleur score, cette méthode est celle que l'on retiendra quant à la prédiction de nos labels, malgré le jeu de donné non représentatif sur lequel nous entraînons l'algorithme. Essayons de visualiser le nombre d'erreurs comises pas nos deux algorithmes."
   ]
  },
  {
   "cell_type": "code",
   "execution_count": 39,
   "metadata": {
    "collapsed": false
   },
   "outputs": [
    {
     "data": {
      "text/plain": [
       "97     1\n",
       "653    1\n",
       "732    1\n",
       "768    1\n",
       "Name: label, dtype: object"
      ]
     },
     "execution_count": 39,
     "metadata": {},
     "output_type": "execute_result"
    }
   ],
   "source": [
    "Y_sub['prediction_counts'] = NB_counts.predict(most_frequent_words_sw['data_counts'])\n",
    "Y_sub['prediction_tfidf'] = NB_tfidf.predict(tf_idf_transf.toarray())\n",
    "Y_sub[Y_sub['prediction_tfidf'] != Y_sub['labels']]"
   ]
  },
  {
   "cell_type": "code",
   "execution_count": 40,
   "metadata": {
    "collapsed": false
   },
   "outputs": [
    {
     "data": {
      "text/plain": [
       "97     1\n",
       "163    1\n",
       "221    1\n",
       "256    1\n",
       "307    1\n",
       "339    1\n",
       "421    1\n",
       "461    1\n",
       "463    1\n",
       "469    1\n",
       "491    1\n",
       "537    1\n",
       "589    1\n",
       "626    1\n",
       "810    0\n",
       "953    1\n",
       "Name: label, dtype: object"
      ]
     },
     "execution_count": 40,
     "metadata": {},
     "output_type": "execute_result"
    }
   ],
   "source": [
    "Y_sub[Y_sub['prediction_counts'] != Y_sub['labels']]"
   ]
  },
  {
   "cell_type": "markdown",
   "metadata": {},
   "source": [
    "On remarque que la prédiction suite à la méthode TF_IDF est bien meilleure avec moins d'erreurs comises, nous retiendrons la méthode IF_IDF pour ce jeu de données."
   ]
  },
  {
   "cell_type": "markdown",
   "metadata": {},
   "source": [
    "### Sur le SGDClassifier"
   ]
  },
  {
   "cell_type": "code",
   "execution_count": 41,
   "metadata": {
    "collapsed": false
   },
   "outputs": [
    {
     "data": {
      "text/plain": [
       "0.997"
      ]
     },
     "execution_count": 41,
     "metadata": {},
     "output_type": "execute_result"
    }
   ],
   "source": [
    "NB_logistic = SGDClassifier(loss='hinge', penalty='l2',\\\n",
    "                           alpha=1e-3, random_state=42)   # arg optionnel : \",\\max_iter=5, tol=None\"\n",
    "logistic_fit = NB_logistic.fit(X=tf_idf_transf.toarray(),y=Y_sub['labels'])\n",
    "accuracy_score(NB_logistic.predict(tf_idf_transf.toarray()),Y_sub['labels'])"
   ]
  },
  {
   "cell_type": "markdown",
   "metadata": {},
   "source": [
    "On remarque que la méthode SGD nous renvoie une précision de 97% elle est donc meilleure que le TF-IDF."
   ]
  },
  {
   "cell_type": "markdown",
   "metadata": {},
   "source": [
    "## Réponse des mots les plus significatifs"
   ]
  },
  {
   "cell_type": "code",
   "execution_count": 42,
   "metadata": {
    "collapsed": false
   },
   "outputs": [
    {
     "name": "stdout",
     "output_type": "stream",
     "text": [
      "Mots avec le coeff le plus négatif :  sure\n",
      "Mots avec le coeff le plus positif :  played\n"
     ]
    }
   ],
   "source": [
    "print(\"Mots avec le coeff le plus négatif : \", most_frequent_words_sw['dictionary'][np.argsort(NB_logistic.coef_)[0][0]])\n",
    "print(\"Mots avec le coeff le plus positif : \", most_frequent_words_sw['dictionary'][np.argsort(NB_logistic.coef_)[0][-1]])"
   ]
  },
  {
   "cell_type": "markdown",
   "metadata": {},
   "source": [
    "On récupère les mots des plus importants poids connotants la positivité et la négativité des avis comme étants respctivement  \"played\" et \"sure\". Ceci ne nous parle pas vraiment, sans doute car nous avons traité un nombre trop faible de données pour avoir une réponse ayant du sens, où plutot un lien avec un mot positif ou négatif de la langue. Peut être qu'en menant une étude uniquement sur la liste des stop words nous aurions eut des résultats plus parlant, néanmoins ce serait beacoup trop exaustif de retirer chaque mots à la main un à un."
   ]
  },
  {
   "cell_type": "markdown",
   "metadata": {},
   "source": [
    "### Avec une pipeline"
   ]
  },
  {
   "cell_type": "code",
   "execution_count": 43,
   "metadata": {
    "collapsed": true
   },
   "outputs": [],
   "source": [
    "from sklearn.pipeline import Pipeline\n",
    "text_clf = Pipeline([('vect', CountVectorizer()), ('tfidf', TfidfTransformer()), ('clf', SGDClassifier(loss='hinge', penalty='l2',\\\n",
    "                           alpha=1e-3, random_state=42)),])"
   ]
  },
  {
   "cell_type": "code",
   "execution_count": 44,
   "metadata": {
    "collapsed": false
   },
   "outputs": [
    {
     "data": {
      "text/plain": [
       "0.99399999999999999"
      ]
     },
     "execution_count": 44,
     "metadata": {},
     "output_type": "execute_result"
    }
   ],
   "source": [
    "text_clf.fit(X_sub, Y_sub['labels'])\n",
    "accuracy_score(text_clf.predict(X_sub),Y_sub['labels'])"
   ]
  },
  {
   "cell_type": "markdown",
   "metadata": {},
   "source": [
    "Avec une pipeline nous obtenons 99%, le meilleur résultat de précision en comparaison avec les méthodes précédentes sur le sous jeu de données de 1000 commentaires. Il serait malheuresement trop atif de vouloir établir une conclusion car nous avons traîté uniquement 4% de l'entierté du jeu de données."
   ]
  },
  {
   "cell_type": "markdown",
   "metadata": {},
   "source": [
    "## Recherches.."
   ]
  },
  {
   "cell_type": "code",
   "execution_count": 227,
   "metadata": {
    "collapsed": true
   },
   "outputs": [],
   "source": [
    "def count_sentence(X,i):\n",
    "    m_occur = np.array([  np.arange(1,np.max(X[i])+1)  ,  np.zeros(np.max(X[i]))  ])\n",
    "    for word in X[i]:\n",
    "        m_occur[1][word-1] += 1\n",
    "    return(m_occur)"
   ]
  },
  {
   "cell_type": "code",
   "execution_count": 228,
   "metadata": {
    "collapsed": true
   },
   "outputs": [],
   "source": [
    "def count(X):\n",
    "    max = 1\n",
    "    for i in range(X.shape[0]):\n",
    "        if max < np.max(X[i]): \n",
    "            max = np.max(X[i])\n",
    "    occur_tot  = np.array([  np.arange(1,max + 1)  ,  np.zeros(max)  ])\n",
    "    for i in range(X.shape[0]):\n",
    "        occur_temp = count_sentence(X,i)\n",
    "        for j in range(occur_temp.shape[1]):\n",
    "            occur_tot[1][j-1] += occur_temp[1][j-1]\n",
    "    return(occur_tot)    "
   ]
  }
 ],
 "metadata": {
  "kernelspec": {
   "display_name": "Python 3",
   "language": "python",
   "name": "python3"
  },
  "language_info": {
   "codemirror_mode": {
    "name": "ipython",
    "version": 3
   },
   "file_extension": ".py",
   "mimetype": "text/x-python",
   "name": "python",
   "nbconvert_exporter": "python",
   "pygments_lexer": "ipython3",
   "version": "3.6.7"
  }
 },
 "nbformat": 4,
 "nbformat_minor": 2
}
